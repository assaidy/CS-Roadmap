{
 "cells": [
  {
   "attachments": {},
   "cell_type": "markdown",
   "metadata": {},
   "source": [
    "# Start\n"
   ]
  },
  {
   "cell_type": "markdown",
   "metadata": {},
   "source": [
    "# Week 1\n",
    "\n",
    "<a class=\"anchor\" id=\"week1\"></a>\n"
   ]
  },
  {
   "cell_type": "markdown",
   "metadata": {},
   "source": [
    "## 003 – Syntax And Your First App\n",
    "\n",
    "<a class=\"anchor\" id=\"3\"></a>\n"
   ]
  },
  {
   "cell_type": "code",
   "execution_count": 3,
   "metadata": {},
   "outputs": [
    {
     "name": "stdout",
     "output_type": "stream",
     "text": [
      "I love python\n"
     ]
    }
   ],
   "source": [
    "print(\"I love python\")"
   ]
  },
  {
   "cell_type": "code",
   "execution_count": 4,
   "metadata": {},
   "outputs": [
    {
     "name": "stdout",
     "output_type": "stream",
     "text": [
      "i love programming\n"
     ]
    }
   ],
   "source": [
    "print(\"i love programming\")"
   ]
  },
  {
   "cell_type": "code",
   "execution_count": 5,
   "metadata": {},
   "outputs": [
    {
     "name": "stdout",
     "output_type": "stream",
     "text": [
      "1\n",
      "2\n"
     ]
    }
   ],
   "source": [
    "print(1)\n",
    "print(2)"
   ]
  },
  {
   "cell_type": "code",
   "execution_count": 6,
   "metadata": {},
   "outputs": [
    {
     "name": "stdout",
     "output_type": "stream",
     "text": [
      "1\n"
     ]
    }
   ],
   "source": [
    "if True:\n",
    "    print(1)"
   ]
  },
  {
   "cell_type": "markdown",
   "metadata": {},
   "source": [
    "## 004 – Comments\n",
    "\n",
    "<a class=\"anchor\" id=\"4\"></a>\n"
   ]
  },
  {
   "cell_type": "code",
   "execution_count": 7,
   "metadata": {},
   "outputs": [],
   "source": [
    "# this is a comment\n",
    "# -----------\n",
    "# hola\n",
    "# ------------\n"
   ]
  },
  {
   "cell_type": "code",
   "execution_count": 8,
   "metadata": {},
   "outputs": [
    {
     "name": "stdout",
     "output_type": "stream",
     "text": [
      "hi\n"
     ]
    }
   ],
   "source": [
    "print(\"hi\")  # inline comment\n"
   ]
  },
  {
   "cell_type": "code",
   "execution_count": 9,
   "metadata": {},
   "outputs": [],
   "source": [
    "# print(\"ignore this code\")\n"
   ]
  },
  {
   "cell_type": "code",
   "execution_count": 10,
   "metadata": {},
   "outputs": [
    {
     "data": {
      "text/plain": [
       "'\\n not multiline comment\\n'"
      ]
     },
     "execution_count": 10,
     "metadata": {},
     "output_type": "execute_result"
    }
   ],
   "source": [
    "'''\n",
    " not multiline comment\n",
    "'''\n"
   ]
  },
  {
   "cell_type": "markdown",
   "metadata": {},
   "source": [
    "## 006 – Some Data Types Overview\n",
    "\n",
    "<a class=\"anchor\" id=\"6\"></a>\n"
   ]
  },
  {
   "cell_type": "code",
   "execution_count": 11,
   "metadata": {},
   "outputs": [
    {
     "data": {
      "text/plain": [
       "int"
      ]
     },
     "execution_count": 11,
     "metadata": {},
     "output_type": "execute_result"
    }
   ],
   "source": [
    "type(10)\n",
    "# all data in python is object\n"
   ]
  },
  {
   "cell_type": "code",
   "execution_count": 12,
   "metadata": {},
   "outputs": [
    {
     "data": {
      "text/plain": [
       "float"
      ]
     },
     "execution_count": 12,
     "metadata": {},
     "output_type": "execute_result"
    }
   ],
   "source": [
    "type(10.1)\n"
   ]
  },
  {
   "cell_type": "code",
   "execution_count": 13,
   "metadata": {},
   "outputs": [
    {
     "data": {
      "text/plain": [
       "str"
      ]
     },
     "execution_count": 13,
     "metadata": {},
     "output_type": "execute_result"
    }
   ],
   "source": [
    "type(\"hello\")\n"
   ]
  },
  {
   "cell_type": "code",
   "execution_count": 14,
   "metadata": {},
   "outputs": [
    {
     "data": {
      "text/plain": [
       "list"
      ]
     },
     "execution_count": 14,
     "metadata": {},
     "output_type": "execute_result"
    }
   ],
   "source": [
    "type([1, 2, 3])\n"
   ]
  },
  {
   "cell_type": "code",
   "execution_count": 15,
   "metadata": {},
   "outputs": [
    {
     "data": {
      "text/plain": [
       "tuple"
      ]
     },
     "execution_count": 15,
     "metadata": {},
     "output_type": "execute_result"
    }
   ],
   "source": [
    "type((1, 2, 3))\n"
   ]
  },
  {
   "cell_type": "code",
   "execution_count": 16,
   "metadata": {},
   "outputs": [
    {
     "name": "stdout",
     "output_type": "stream",
     "text": [
      "<class 'dict'>\n"
     ]
    }
   ],
   "source": [
    "print(type({\"one\": 1}))\n"
   ]
  },
  {
   "cell_type": "code",
   "execution_count": 17,
   "metadata": {},
   "outputs": [
    {
     "name": "stdout",
     "output_type": "stream",
     "text": [
      "<class 'bool'>\n"
     ]
    }
   ],
   "source": [
    "print(type(1 == 1))\n"
   ]
  },
  {
   "cell_type": "markdown",
   "metadata": {},
   "source": [
    "## 007 – Variables Part One\n",
    "\n",
    "<a class=\"anchor\" id=\"7\"></a>\n"
   ]
  },
  {
   "cell_type": "code",
   "execution_count": 18,
   "metadata": {},
   "outputs": [
    {
     "name": "stdout",
     "output_type": "stream",
     "text": [
      "my value\n"
     ]
    }
   ],
   "source": [
    "# syntax => [variable name][assignment operator][value]\n",
    "myVariable = \"my value\"\n",
    "print(myVariable)\n"
   ]
  },
  {
   "cell_type": "code",
   "execution_count": 19,
   "metadata": {},
   "outputs": [
    {
     "name": "stdout",
     "output_type": "stream",
     "text": [
      "value\n"
     ]
    }
   ],
   "source": [
    "my_value = \"value\"\n",
    "print(my_value)\n"
   ]
  },
  {
   "cell_type": "code",
   "execution_count": 20,
   "metadata": {},
   "outputs": [],
   "source": [
    "# print(name)\n",
    "# name =\"yay\" will generate error\n",
    "# must assign value first before printing\n"
   ]
  },
  {
   "cell_type": "code",
   "execution_count": 21,
   "metadata": {},
   "outputs": [],
   "source": [
    "name = \"baka\"  # single word\n",
    "myName = \"baka\"  # camelCase\n",
    "my_name = \"baka\"  # snake_case\n"
   ]
  },
  {
   "cell_type": "markdown",
   "metadata": {},
   "source": [
    "## 008 – Variables Part Two\n",
    "\n",
    "<a class=\"anchor\" id=\"8\"></a>\n"
   ]
  },
  {
   "cell_type": "markdown",
   "metadata": {},
   "source": [
    "Source Code : Original Code You Write it in Computer  \n",
    " Translation : Converting Source Code Into Machine Language  \n",
    " Compilation : Translate Code Before Run Time  \n",
    " Run-Time : Period App Take To Executing Commands  \n",
    " Interpreted : Code Translated On The Fly During Execution\n"
   ]
  },
  {
   "cell_type": "code",
   "execution_count": 22,
   "metadata": {},
   "outputs": [
    {
     "name": "stdout",
     "output_type": "stream",
     "text": [
      "hello\n"
     ]
    }
   ],
   "source": [
    "x = 10\n",
    "x = \"hello\"\n",
    "print(x)  # dynamically typed language\n"
   ]
  },
  {
   "cell_type": "code",
   "execution_count": 23,
   "metadata": {},
   "outputs": [
    {
     "name": "stdout",
     "output_type": "stream",
     "text": [
      "\n",
      "Here is a list of the Python keywords.  Enter any keyword to get more help.\n",
      "\n",
      "False               class               from                or\n",
      "None                continue            global              pass\n",
      "True                def                 if                  raise\n",
      "and                 del                 import              return\n",
      "as                  elif                in                  try\n",
      "assert              else                is                  while\n",
      "async               except              lambda              with\n",
      "await               finally             nonlocal            yield\n",
      "break               for                 not                 \n",
      "\n"
     ]
    }
   ],
   "source": [
    "help(\"keywords\")  # reserved words\n"
   ]
  },
  {
   "cell_type": "code",
   "execution_count": 24,
   "metadata": {},
   "outputs": [
    {
     "name": "stdout",
     "output_type": "stream",
     "text": [
      "1 2 3\n"
     ]
    }
   ],
   "source": [
    "a, b, c = 1, 2, 3\n",
    "print(a, b, c)\n"
   ]
  },
  {
   "cell_type": "markdown",
   "metadata": {},
   "source": [
    "## 009 – Escape Sequences Characters\n",
    "\n",
    "<a class=\"anchor\" id=\"9\"></a>\n"
   ]
  },
  {
   "cell_type": "markdown",
   "metadata": {},
   "source": [
    "### Escape Sequences Characters\n",
    "\n",
    "\\b => Back Space  \n",
    "\\newline => Escape New Line + \\  \n",
    "\\\\\\ => Escape Back Slash \\ \n",
    "\\' => Escape Single Quotes  \n",
    "\\\" => Escape Double Quotes  \n",
    "\\n => Line Feed  \n",
    "\\r => Carriage Return  \n",
    "\\t => Horizontal Tab  \n",
    "\\xhh => Character Hex Value\n"
   ]
  },
  {
   "cell_type": "code",
   "execution_count": 25,
   "metadata": {},
   "outputs": [
    {
     "name": "stdout",
     "output_type": "stream",
     "text": [
      "hellword\n"
     ]
    }
   ],
   "source": [
    "print(\"hello\\bword\")\n"
   ]
  },
  {
   "cell_type": "code",
   "execution_count": 26,
   "metadata": {},
   "outputs": [
    {
     "name": "stdout",
     "output_type": "stream",
     "text": [
      "hellopython\n"
     ]
    }
   ],
   "source": [
    "print(\"hello\\\n",
    "python\")\n"
   ]
  },
  {
   "cell_type": "code",
   "execution_count": 27,
   "metadata": {},
   "outputs": [
    {
     "name": "stdout",
     "output_type": "stream",
     "text": [
      "i love \\python\n"
     ]
    }
   ],
   "source": [
    "print(\"i love \\\\python\")\n"
   ]
  },
  {
   "cell_type": "code",
   "execution_count": 28,
   "metadata": {},
   "outputs": [
    {
     "name": "stdout",
     "output_type": "stream",
     "text": [
      "i love sinqle quote \"\n"
     ]
    }
   ],
   "source": [
    "print(\"i love sinqle quote \\\"\")\n"
   ]
  },
  {
   "cell_type": "code",
   "execution_count": 29,
   "metadata": {},
   "outputs": [
    {
     "name": "stdout",
     "output_type": "stream",
     "text": [
      "hello \n",
      "world\n"
     ]
    }
   ],
   "source": [
    "print(\"hello \\nworld\")\n"
   ]
  },
  {
   "cell_type": "code",
   "execution_count": 30,
   "metadata": {},
   "outputs": [
    {
     "name": "stdout",
     "output_type": "stream",
     "text": [
      "abcd56\n"
     ]
    }
   ],
   "source": [
    "print(\"123456\\rabcd\")\n"
   ]
  },
  {
   "cell_type": "code",
   "execution_count": 31,
   "metadata": {},
   "outputs": [
    {
     "name": "stdout",
     "output_type": "stream",
     "text": [
      "hello \tworld\n"
     ]
    }
   ],
   "source": [
    "print(\"hello \\tworld\")\n"
   ]
  },
  {
   "cell_type": "code",
   "execution_count": 32,
   "metadata": {},
   "outputs": [
    {
     "name": "stdout",
     "output_type": "stream",
     "text": [
      "Os\n"
     ]
    }
   ],
   "source": [
    "print(\"\\x4F\\x73\")\n"
   ]
  },
  {
   "cell_type": "markdown",
   "metadata": {},
   "source": [
    "## 010 – Concatenation And Trainings\n",
    "\n",
    "<a class=\"anchor\" id=\"10\"></a>\n"
   ]
  },
  {
   "cell_type": "code",
   "execution_count": 33,
   "metadata": {},
   "outputs": [
    {
     "name": "stdout",
     "output_type": "stream",
     "text": [
      "i love python\n"
     ]
    }
   ],
   "source": [
    "msg = \"i love\"\n",
    "lang = \"python\"\n",
    "print(msg + \" \"+lang)\n"
   ]
  },
  {
   "cell_type": "code",
   "execution_count": 34,
   "metadata": {},
   "outputs": [
    {
     "name": "stdout",
     "output_type": "stream",
     "text": [
      "i love python\n"
     ]
    }
   ],
   "source": [
    "full = msg + \" \" + lang\n",
    "print(full)\n"
   ]
  },
  {
   "cell_type": "code",
   "execution_count": 35,
   "metadata": {},
   "outputs": [
    {
     "name": "stdout",
     "output_type": "stream",
     "text": [
      "first    second        third\n",
      "A    B    C\n"
     ]
    }
   ],
   "source": [
    "a = \"first\\\n",
    "    second\\\n",
    "        third\"\n",
    "b = \"A\\\n",
    "    B\\\n",
    "    C\"\n",
    "print(a)\n",
    "print(b)\n"
   ]
  },
  {
   "cell_type": "code",
   "execution_count": 36,
   "metadata": {},
   "outputs": [
    {
     "name": "stdout",
     "output_type": "stream",
     "text": [
      "first    second        third\n",
      "A    B    C\n"
     ]
    }
   ],
   "source": [
    "print(a + \"\\n\"+b)\n"
   ]
  },
  {
   "cell_type": "markdown",
   "metadata": {},
   "source": [
    "`print(\"hi\"+1)` will produce an error\n"
   ]
  },
  {
   "cell_type": "code",
   "execution_count": 37,
   "metadata": {},
   "outputs": [
    {
     "name": "stdout",
     "output_type": "stream",
     "text": [
      "i love 1\n"
     ]
    }
   ],
   "source": [
    "print(msg + \" 1\")\n"
   ]
  },
  {
   "cell_type": "markdown",
   "metadata": {},
   "source": [
    "# Week 2\n",
    "\n",
    "<a class=\"anchor\" id=\"week2\"></a>\n"
   ]
  },
  {
   "cell_type": "markdown",
   "metadata": {},
   "source": [
    "## 011 – Strings\n",
    "\n",
    "<a class=\"anchor\" id=\"11\"></a>\n"
   ]
  },
  {
   "cell_type": "code",
   "execution_count": 38,
   "metadata": {},
   "outputs": [
    {
     "name": "stdout",
     "output_type": "stream",
     "text": [
      "this is 'signle quote'\n"
     ]
    }
   ],
   "source": [
    "myStringOne = \"this is 'signle quote'\"\n",
    "print(myStringOne)\n"
   ]
  },
  {
   "cell_type": "code",
   "execution_count": 39,
   "metadata": {},
   "outputs": [
    {
     "name": "stdout",
     "output_type": "stream",
     "text": [
      "This is Double Quotes\n"
     ]
    }
   ],
   "source": [
    "myStringTwo = \"This is Double Quotes\"\n",
    "print(myStringTwo)\n"
   ]
  },
  {
   "cell_type": "code",
   "execution_count": 40,
   "metadata": {},
   "outputs": [
    {
     "name": "stdout",
     "output_type": "stream",
     "text": [
      "This is Single Quote \"Test\"\n"
     ]
    }
   ],
   "source": [
    "myStringThree = 'This is Single Quote \"Test\"'\n",
    "print(myStringThree)\n"
   ]
  },
  {
   "cell_type": "code",
   "execution_count": 41,
   "metadata": {},
   "outputs": [
    {
     "name": "stdout",
     "output_type": "stream",
     "text": [
      "This is Double Quotes 'Test'\n"
     ]
    }
   ],
   "source": [
    "myStringFour = \"This is Double Quotes 'Test'\"\n",
    "print(myStringFour)\n"
   ]
  },
  {
   "cell_type": "code",
   "execution_count": 42,
   "metadata": {},
   "outputs": [
    {
     "name": "stdout",
     "output_type": "stream",
     "text": [
      "first\n",
      "second\n",
      "third\n",
      "\n"
     ]
    }
   ],
   "source": [
    "multi = \"\"\"first\n",
    "second\n",
    "third\n",
    "\"\"\"\n",
    "print(multi)\n"
   ]
  },
  {
   "cell_type": "code",
   "execution_count": 43,
   "metadata": {},
   "outputs": [
    {
     "name": "stdout",
     "output_type": "stream",
     "text": [
      "\n",
      "\"First\" second 'third'\n",
      "\n"
     ]
    }
   ],
   "source": [
    "test = '''\n",
    "\"First\" second 'third'\n",
    "'''\n",
    "print(test)\n"
   ]
  },
  {
   "cell_type": "markdown",
   "metadata": {},
   "source": [
    "## 012 – Strings – Indexing and Slicing\n",
    "\n",
    "<a class=\"anchor\" id=\"12\"></a>\n"
   ]
  },
  {
   "cell_type": "markdown",
   "metadata": {},
   "source": [
    "[1] All Data in Python are Objects  \n",
    "[2] Object Contain Elements  \n",
    "[3] Every Element Has Its Own Index  \n",
    "[4] Python Use Zero Based Indexing ( Index Start From Zero )  \n",
    "[5] Use Square Brackets To Access Element  \n",
    "[6] Enable Accessing Parts Of Strings, Tuples or Lists\n"
   ]
  },
  {
   "cell_type": "code",
   "execution_count": 44,
   "metadata": {},
   "outputs": [
    {
     "name": "stdout",
     "output_type": "stream",
     "text": [
      "i\n",
      "n\n",
      "t\n"
     ]
    }
   ],
   "source": [
    "# index access single item\n",
    "string = \"i love python\"\n",
    "print(string[0])\n",
    "print(string[-1])\n",
    "print(string[9])\n"
   ]
  },
  {
   "cell_type": "code",
   "execution_count": 45,
   "metadata": {},
   "outputs": [
    {
     "name": "stdout",
     "output_type": "stream",
     "text": [
      "yth\n",
      "i love pyt\n",
      "e pyt\n",
      "e\n",
      "i love python\n",
      "i love python\n",
      "i love python\n",
      "ilv yhn\n"
     ]
    }
   ],
   "source": [
    "# slicing access multiple sequence items\n",
    "# [start:end]\n",
    "# [start:end:steps]\n",
    "print(string[8:11])\n",
    "print(string[:10])\n",
    "print(string[5:10])\n",
    "print(string[5])\n",
    "print(string[:])\n",
    "print(string[0::1])\n",
    "print(string[::1])\n",
    "print(string[::2])\n"
   ]
  },
  {
   "cell_type": "markdown",
   "metadata": {},
   "source": [
    "## 013 – Strings Methods Part 1\n",
    "\n",
    "<a class=\"anchor\" id=\"13\"></a>\n"
   ]
  },
  {
   "cell_type": "code",
   "execution_count": 46,
   "metadata": {},
   "outputs": [
    {
     "name": "stdout",
     "output_type": "stream",
     "text": [
      "18\n",
      "i love python\n",
      "  i love python\n",
      "i love python   \n"
     ]
    }
   ],
   "source": [
    "a = \"  i love python   \"\n",
    "print(len(a))\n",
    "print(a.strip())\n",
    "print(a.rstrip())\n",
    "print(a.lstrip())\n"
   ]
  },
  {
   "cell_type": "code",
   "execution_count": 47,
   "metadata": {},
   "outputs": [
    {
     "name": "stdout",
     "output_type": "stream",
     "text": [
      "hi\n"
     ]
    }
   ],
   "source": [
    "a = \"    hi   \"\n",
    "print(a.strip())\n"
   ]
  },
  {
   "cell_type": "code",
   "execution_count": 48,
   "metadata": {},
   "outputs": [
    {
     "name": "stdout",
     "output_type": "stream",
     "text": [
      "hola\n",
      "#####hola\n",
      "hola#####\n"
     ]
    }
   ],
   "source": [
    "a = \"#####hola#####\"\n",
    "print(a.strip(\"#\"))\n",
    "print(a.rstrip(\"#\"))\n",
    "print(a.lstrip(\"#\"))\n"
   ]
  },
  {
   "cell_type": "code",
   "execution_count": 49,
   "metadata": {},
   "outputs": [
    {
     "name": "stdout",
     "output_type": "stream",
     "text": [
      "I Love 2D Graphics And 3G Technology And Python\n",
      "I love 2d graphics and 3g technology and python\n"
     ]
    }
   ],
   "source": [
    "b = \"I Love 2d Graphics and 3g Technology and python\"\n",
    "print(b.title())\n",
    "print(b.capitalize())\n"
   ]
  },
  {
   "cell_type": "code",
   "execution_count": 50,
   "metadata": {},
   "outputs": [
    {
     "name": "stdout",
     "output_type": "stream",
     "text": [
      "001\n",
      "020\n",
      "003\n"
     ]
    }
   ],
   "source": [
    "c, d, e = \"1\", \"20\", \"3\"\n",
    "print(c.zfill(3))\n",
    "print(d.zfill(3))\n",
    "print(e.zfill(3))\n"
   ]
  },
  {
   "cell_type": "code",
   "execution_count": 51,
   "metadata": {},
   "outputs": [
    {
     "name": "stdout",
     "output_type": "stream",
     "text": [
      "ahmed\n",
      "AHMED\n"
     ]
    }
   ],
   "source": [
    "g = \"aHmed\"\n",
    "print(g.lower())\n",
    "print(g.upper())\n"
   ]
  },
  {
   "cell_type": "markdown",
   "metadata": {},
   "source": [
    "## 014 – Strings Methods Part 2\n",
    "\n",
    "<a class=\"anchor\" id=\"14\"></a>\n"
   ]
  },
  {
   "cell_type": "code",
   "execution_count": 52,
   "metadata": {},
   "outputs": [
    {
     "name": "stdout",
     "output_type": "stream",
     "text": [
      "['I', 'love', 'python']\n"
     ]
    }
   ],
   "source": [
    "a = \"I love python\"\n",
    "print(a.split())\n"
   ]
  },
  {
   "cell_type": "code",
   "execution_count": 53,
   "metadata": {},
   "outputs": [
    {
     "name": "stdout",
     "output_type": "stream",
     "text": [
      "['I', 'love', 'python']\n"
     ]
    }
   ],
   "source": [
    "a = \"I-love-python\"\n",
    "print(a.split(\"-\"))\n"
   ]
  },
  {
   "cell_type": "code",
   "execution_count": 54,
   "metadata": {},
   "outputs": [
    {
     "name": "stdout",
     "output_type": "stream",
     "text": [
      "['I', 'love-python']\n"
     ]
    }
   ],
   "source": [
    "a = \"I-love-python\"\n",
    "print(a.split(\"-\", 1))\n"
   ]
  },
  {
   "cell_type": "code",
   "execution_count": 55,
   "metadata": {},
   "outputs": [
    {
     "name": "stdout",
     "output_type": "stream",
     "text": [
      "['I-love', 'python']\n"
     ]
    }
   ],
   "source": [
    "d = \"I-love-python\"\n",
    "print(d.rsplit(\"-\", 1))\n"
   ]
  },
  {
   "cell_type": "code",
   "execution_count": 56,
   "metadata": {},
   "outputs": [
    {
     "name": "stdout",
     "output_type": "stream",
     "text": [
      "     ahmed     \n",
      "#####ahmed#####\n"
     ]
    }
   ],
   "source": [
    "e = \"ahmed\"\n",
    "print(e.center(15))\n",
    "print(e.center(15, \"#\"))\n"
   ]
  },
  {
   "cell_type": "code",
   "execution_count": 57,
   "metadata": {},
   "outputs": [
    {
     "name": "stdout",
     "output_type": "stream",
     "text": [
      "2\n",
      "1\n"
     ]
    }
   ],
   "source": [
    "f = \"I and me and ahmed\"\n",
    "print(f.count(\"and\"))\n",
    "print(f.count(\"and\", 0, 10))  # start and end\n"
   ]
  },
  {
   "cell_type": "code",
   "execution_count": 58,
   "metadata": {},
   "outputs": [
    {
     "name": "stdout",
     "output_type": "stream",
     "text": [
      "i LOVE pYTHON\n"
     ]
    }
   ],
   "source": [
    "g = \"I love Python\"\n",
    "print(g.swapcase())\n"
   ]
  },
  {
   "cell_type": "code",
   "execution_count": 59,
   "metadata": {},
   "outputs": [
    {
     "name": "stdout",
     "output_type": "stream",
     "text": [
      "False\n",
      "True\n",
      "True\n"
     ]
    }
   ],
   "source": [
    "print(g.startswith(\"i\"))\n",
    "print(g.startswith(\"I\"))\n",
    "print(g.startswith(\"l\", 2, 12))  # start from second index\n"
   ]
  },
  {
   "cell_type": "code",
   "execution_count": 60,
   "metadata": {},
   "outputs": [
    {
     "name": "stdout",
     "output_type": "stream",
     "text": [
      "True\n",
      "True\n"
     ]
    }
   ],
   "source": [
    "print(g.endswith(\"n\"))\n",
    "print(g.endswith(\"e\", 2, 6))\n"
   ]
  },
  {
   "cell_type": "markdown",
   "metadata": {},
   "source": [
    "## 015 – Strings Methods Part 3\n",
    "\n",
    "<a class=\"anchor\" id=\"15\"></a>\n"
   ]
  },
  {
   "cell_type": "code",
   "execution_count": 61,
   "metadata": {},
   "outputs": [
    {
     "name": "stdout",
     "output_type": "stream",
     "text": [
      "7\n",
      "7\n"
     ]
    }
   ],
   "source": [
    "a = \"I Love Python\"\n",
    "print(a.index(\"P\"))  # Index Number 7\n",
    "print(a.index(\"P\", 0, 10))  # Index Number 7\n",
    "# print(a.index(\"P\", 0, 5))  # Through Error\n"
   ]
  },
  {
   "cell_type": "code",
   "execution_count": 62,
   "metadata": {},
   "outputs": [
    {
     "name": "stdout",
     "output_type": "stream",
     "text": [
      "7\n",
      "7\n",
      "-1\n"
     ]
    }
   ],
   "source": [
    "b = \"I Love Python\"\n",
    "print(b.find(\"P\"))  # Index Number 7\n",
    "print(b.find(\"P\", 0, 10))  # Index Number 7\n",
    "print(b.find(\"P\", 0, 5))  # -1\n"
   ]
  },
  {
   "cell_type": "code",
   "execution_count": 63,
   "metadata": {},
   "outputs": [
    {
     "name": "stdout",
     "output_type": "stream",
     "text": [
      "     ahmed\n",
      "#####ahmed\n"
     ]
    }
   ],
   "source": [
    "c = \"ahmed\"\n",
    "print(c.rjust(10))\n",
    "print(c.rjust(10, \"#\"))\n"
   ]
  },
  {
   "cell_type": "code",
   "execution_count": 64,
   "metadata": {},
   "outputs": [
    {
     "name": "stdout",
     "output_type": "stream",
     "text": [
      "ahmed     \n",
      "ahmed#####\n"
     ]
    }
   ],
   "source": [
    "d = \"ahmed\"\n",
    "print(d.ljust(10))\n",
    "print(d.ljust(10, \"#\"))\n"
   ]
  },
  {
   "cell_type": "code",
   "execution_count": 65,
   "metadata": {},
   "outputs": [
    {
     "name": "stdout",
     "output_type": "stream",
     "text": [
      "['First Line', 'Second Line', 'Third Line']\n"
     ]
    }
   ],
   "source": [
    "e = \"\"\"First Line\n",
    "Second Line\n",
    "Third Line\"\"\"\n",
    "\n",
    "print(e.splitlines())\n"
   ]
  },
  {
   "cell_type": "code",
   "execution_count": 66,
   "metadata": {},
   "outputs": [
    {
     "name": "stdout",
     "output_type": "stream",
     "text": [
      "['First Line', 'Second Line', 'Third Line']\n"
     ]
    }
   ],
   "source": [
    "f = \"First Line\\nSecond Line\\nThird Line\"\n",
    "\n",
    "print(f.splitlines())\n"
   ]
  },
  {
   "cell_type": "code",
   "execution_count": 67,
   "metadata": {},
   "outputs": [
    {
     "name": "stdout",
     "output_type": "stream",
     "text": [
      "Hello     World     I    Love Python\n"
     ]
    }
   ],
   "source": [
    "g = \"Hello\\tWorld\\tI\\tLove\\tPython\"\n",
    "print(g.expandtabs(5))\n"
   ]
  },
  {
   "cell_type": "code",
   "execution_count": 68,
   "metadata": {},
   "outputs": [
    {
     "name": "stdout",
     "output_type": "stream",
     "text": [
      "True\n",
      "False\n"
     ]
    }
   ],
   "source": [
    "one = \"I Love Python And 3G\"\n",
    "two = \"I Love Python And 3g\"\n",
    "print(one.istitle())\n",
    "print(two.istitle())\n"
   ]
  },
  {
   "cell_type": "code",
   "execution_count": 69,
   "metadata": {},
   "outputs": [
    {
     "name": "stdout",
     "output_type": "stream",
     "text": [
      "True\n",
      "False\n"
     ]
    }
   ],
   "source": [
    "three = \" \"\n",
    "four = \"\"\n",
    "print(three.isspace())\n",
    "print(four.isspace())\n"
   ]
  },
  {
   "cell_type": "code",
   "execution_count": 70,
   "metadata": {},
   "outputs": [
    {
     "name": "stdout",
     "output_type": "stream",
     "text": [
      "True\n",
      "False\n"
     ]
    }
   ],
   "source": [
    "five = 'i love python'\n",
    "six = 'I Love Python'\n",
    "print(five.islower())\n",
    "print(six.islower())\n"
   ]
  },
  {
   "cell_type": "code",
   "execution_count": 71,
   "metadata": {},
   "outputs": [
    {
     "name": "stdout",
     "output_type": "stream",
     "text": [
      "True\n",
      "True\n",
      "False\n"
     ]
    }
   ],
   "source": [
    "# to check if i can use a name as a variable\n",
    "seven = \"osama_elzero\"\n",
    "eight = \"OsamaElzero100\"\n",
    "nine = \"Osama--Elzero100\"\n",
    "\n",
    "print(seven.isidentifier())\n",
    "print(eight.isidentifier())\n",
    "print(nine.isidentifier())\n"
   ]
  },
  {
   "cell_type": "code",
   "execution_count": 72,
   "metadata": {},
   "outputs": [
    {
     "name": "stdout",
     "output_type": "stream",
     "text": [
      "True\n",
      "False\n"
     ]
    }
   ],
   "source": [
    "x = \"AaaaaBbbbbb\"\n",
    "y = \"AaaaaBbbbbb111\"\n",
    "print(x.isalpha())\n",
    "print(y.isalpha())\n"
   ]
  },
  {
   "cell_type": "code",
   "execution_count": 73,
   "metadata": {},
   "outputs": [
    {
     "name": "stdout",
     "output_type": "stream",
     "text": [
      "True\n",
      "True\n"
     ]
    }
   ],
   "source": [
    "u = \"AaaaaBbbbbb\"\n",
    "z = \"AaaaaBbbbbb111\"\n",
    "print(u.isalnum())\n",
    "print(z.isalnum())\n"
   ]
  },
  {
   "cell_type": "markdown",
   "metadata": {},
   "source": [
    "## 016 – Strings Methods Part 4\n",
    "\n",
    "<a class=\"anchor\" id=\"16\"></a>\n"
   ]
  },
  {
   "cell_type": "code",
   "execution_count": 74,
   "metadata": {},
   "outputs": [
    {
     "name": "stdout",
     "output_type": "stream",
     "text": [
      "Hello 1 Two Three 1 1\n",
      "Hello 1 Two Three One One\n",
      "Hello 1 Two Three 1 One\n"
     ]
    }
   ],
   "source": [
    "# replace(Old Value, New Value, Count)\n",
    "\n",
    "a = \"Hello One Two Three One One\"\n",
    "print(a.replace(\"One\", \"1\"))\n",
    "print(a.replace(\"One\", \"1\", 1))\n",
    "print(a.replace(\"One\", \"1\", 2))\n"
   ]
  },
  {
   "cell_type": "code",
   "execution_count": 75,
   "metadata": {},
   "outputs": [
    {
     "name": "stdout",
     "output_type": "stream",
     "text": [
      "Osama-Mohamed-Elsayed\n",
      "Osama Mohamed Elsayed\n",
      "Osama, Mohamed, Elsayed\n",
      "<class 'str'>\n"
     ]
    }
   ],
   "source": [
    "myList = [\"Osama\", \"Mohamed\", \"Elsayed\"]\n",
    "print(\"-\".join(myList))\n",
    "print(\" \".join(myList))\n",
    "print(\", \".join(myList))\n",
    "print(type(\", \".join(myList)))\n"
   ]
  },
  {
   "cell_type": "markdown",
   "metadata": {},
   "source": [
    "## 017 – Strings Formatting Old Way\n",
    "\n",
    "<a class=\"anchor\" id=\"17\"></a>\n"
   ]
  },
  {
   "cell_type": "code",
   "execution_count": 76,
   "metadata": {},
   "outputs": [
    {
     "name": "stdout",
     "output_type": "stream",
     "text": [
      "My Name is: Osama\n"
     ]
    }
   ],
   "source": [
    "name = \"Osama\"\n",
    "age = 36\n",
    "rank = 10\n",
    "\n",
    "print(\"My Name is: \" + name)\n"
   ]
  },
  {
   "cell_type": "markdown",
   "metadata": {},
   "source": [
    "```\n",
    "print(\"My Name is: \" + name + \" and My Age is: \" + age)\n",
    "\n",
    "```\n",
    "\n",
    "type error, cant concatenate string with int\n"
   ]
  },
  {
   "cell_type": "code",
   "execution_count": 77,
   "metadata": {},
   "outputs": [
    {
     "name": "stdout",
     "output_type": "stream",
     "text": [
      "My Name is: Osama\n",
      "My Name is: Osama\n",
      "My Name is: Osama and My Age is: 36\n",
      "My Name is: Osama and My Age is: 36 and My Rank is: 10.000000\n"
     ]
    }
   ],
   "source": [
    "print(\"My Name is: %s\" % \"Osama\")\n",
    "print(\"My Name is: %s\" % name)\n",
    "print(\"My Name is: %s and My Age is: %d\" % (name, age))\n",
    "print(\"My Name is: %s and My Age is: %d and My Rank is: %f\" % (name, age, rank))\n"
   ]
  },
  {
   "cell_type": "markdown",
   "metadata": {},
   "source": [
    "%s => String  \n",
    "%d => Number  \n",
    "%f => Float\n"
   ]
  },
  {
   "cell_type": "code",
   "execution_count": 78,
   "metadata": {},
   "outputs": [
    {
     "name": "stdout",
     "output_type": "stream",
     "text": [
      "My Name is Osama Iam Python Developer With 10 Years Exp\n"
     ]
    }
   ],
   "source": [
    "n = \"Osama\"\n",
    "l = \"Python\"\n",
    "y = 10\n",
    "\n",
    "print(\"My Name is %s Iam %s Developer With %d Years Exp\" % (n, l, y))\n"
   ]
  },
  {
   "cell_type": "code",
   "execution_count": 79,
   "metadata": {},
   "outputs": [
    {
     "name": "stdout",
     "output_type": "stream",
     "text": [
      "My Number is: 10\n",
      "My Number is: 10.000000\n",
      "My Number is: 10.00\n"
     ]
    }
   ],
   "source": [
    "# control flow point number\n",
    "myNumber = 10\n",
    "print(\"My Number is: %d\" % myNumber)\n",
    "print(\"My Number is: %f\" % myNumber)\n",
    "print(\"My Number is: %.2f\" % myNumber)\n"
   ]
  },
  {
   "cell_type": "code",
   "execution_count": 80,
   "metadata": {},
   "outputs": [
    {
     "name": "stdout",
     "output_type": "stream",
     "text": [
      "Message is Hello People of Elzero Web School I Love You All\n",
      "Message is Hello\n"
     ]
    }
   ],
   "source": [
    "# Truncate string\n",
    "myLongString = \"Hello People of Elzero Web School I Love You All\"\n",
    "print(\"Message is %s\" % myLongString)\n",
    "print(\"Message is %.5s\" % myLongString)\n"
   ]
  },
  {
   "cell_type": "markdown",
   "metadata": {},
   "source": [
    "## 018 – Strings Formatting New Way\n",
    "\n",
    "<a class=\"anchor\" id=\"18\"></a>\n"
   ]
  },
  {
   "cell_type": "code",
   "execution_count": 81,
   "metadata": {},
   "outputs": [
    {
     "name": "stdout",
     "output_type": "stream",
     "text": [
      "My Name is: Osama\n"
     ]
    }
   ],
   "source": [
    "name = \"Osama\"\n",
    "age = 36\n",
    "rank = 10\n",
    "\n",
    "print(\"My Name is: \" + name)\n"
   ]
  },
  {
   "cell_type": "code",
   "execution_count": 82,
   "metadata": {},
   "outputs": [
    {
     "name": "stdout",
     "output_type": "stream",
     "text": [
      "My Name is: Osama\n",
      "My Name is: Osama\n",
      "My Name is: Osama My Age: 36\n",
      "My Name is: Osama Age: 36 & Rank is: 10.000000\n"
     ]
    }
   ],
   "source": [
    "print(\"My Name is: {}\".format(\"Osama\"))\n",
    "print(\"My Name is: {}\".format(name))\n",
    "print(\"My Name is: {} My Age: {}\".format(name, age))\n",
    "print(\"My Name is: {:s} Age: {:d} & Rank is: {:f}\".format(name, age, rank))\n"
   ]
  },
  {
   "cell_type": "markdown",
   "metadata": {},
   "source": [
    "{:s} => String\n",
    "{:d} => Number\n",
    "{:f} => Float"
   ]
  },
  {
   "cell_type": "code",
   "execution_count": 83,
   "metadata": {},
   "outputs": [
    {
     "name": "stdout",
     "output_type": "stream",
     "text": [
      "My Name is Osama Iam Python Developer With 10 Years Exp\n"
     ]
    }
   ],
   "source": [
    "n = \"Osama\"\n",
    "l = \"Python\"\n",
    "y = 10\n",
    "\n",
    "print(\"My Name is {} Iam {} Developer With {:d} Years Exp\".format(n, l, y))\n"
   ]
  },
  {
   "cell_type": "code",
   "execution_count": 84,
   "metadata": {},
   "outputs": [
    {
     "name": "stdout",
     "output_type": "stream",
     "text": [
      "My Number is: 10\n",
      "My Number is: 10.000000\n",
      "My Number is: 10.00\n"
     ]
    }
   ],
   "source": [
    "# Control Floating Point Number\n",
    "myNumber = 10\n",
    "print(\"My Number is: {:d}\".format(myNumber))\n",
    "print(\"My Number is: {:f}\".format(myNumber))\n",
    "print(\"My Number is: {:.2f}\".format(myNumber))\n"
   ]
  },
  {
   "cell_type": "code",
   "execution_count": 85,
   "metadata": {},
   "outputs": [
    {
     "name": "stdout",
     "output_type": "stream",
     "text": [
      "Message is Hello Peoples of Elzero Web School I Love You All\n",
      "Message is Hello\n",
      "Message is Hello Peoples\n"
     ]
    }
   ],
   "source": [
    "# Truncate String\n",
    "myLongString = \"Hello Peoples of Elzero Web School I Love You All\"\n",
    "print(\"Message is {}\".format(myLongString))\n",
    "print(\"Message is {:.5s}\".format(myLongString))\n",
    "print(\"Message is {:.13s}\".format(myLongString))\n"
   ]
  },
  {
   "cell_type": "code",
   "execution_count": 86,
   "metadata": {},
   "outputs": [
    {
     "name": "stdout",
     "output_type": "stream",
     "text": [
      "My Money in Bank Is: 500162350198\n",
      "My Money in Bank Is: 500_162_350_198\n",
      "My Money in Bank Is: 500,162,350,198\n"
     ]
    }
   ],
   "source": [
    "# format money\n",
    "myMoney = 500162350198\n",
    "print(\"My Money in Bank Is: {:d}\".format(myMoney))\n",
    "print(\"My Money in Bank Is: {:_d}\".format(myMoney))\n",
    "print(\"My Money in Bank Is: {:,d}\".format(myMoney))\n"
   ]
  },
  {
   "cell_type": "markdown",
   "metadata": {},
   "source": [
    "`{:&d}` will produce an error\n"
   ]
  },
  {
   "cell_type": "code",
   "execution_count": 87,
   "metadata": {},
   "outputs": [
    {
     "name": "stdout",
     "output_type": "stream",
     "text": [
      "Hello One Two Three\n",
      "Hello Two Three One\n",
      "Hello Three One Two\n"
     ]
    }
   ],
   "source": [
    "# ReArrange Items\n",
    "a, b, c = \"One\", \"Two\", \"Three\"\n",
    "print(\"Hello {} {} {}\".format(a, b, c))\n",
    "print(\"Hello {1} {2} {0}\".format(a, b, c))\n",
    "print(\"Hello {2} {0} {1}\".format(a, b, c))\n"
   ]
  },
  {
   "cell_type": "code",
   "execution_count": 88,
   "metadata": {},
   "outputs": [
    {
     "name": "stdout",
     "output_type": "stream",
     "text": [
      "Hello 10 20 30\n",
      "Hello 20 30 10\n",
      "Hello 30.000000 10.000000 20.000000\n",
      "Hello 30.00 10.0000 20.00000\n"
     ]
    }
   ],
   "source": [
    "x, y, z = 10, 20, 30\n",
    "print(\"Hello {} {} {}\".format(x, y, z))\n",
    "print(\"Hello {1:d} {2:d} {0:d}\".format(x, y, z))\n",
    "print(\"Hello {2:f} {0:f} {1:f}\".format(x, y, z))\n",
    "print(\"Hello {2:.2f} {0:.4f} {1:.5f}\".format(x, y, z))\n"
   ]
  },
  {
   "cell_type": "code",
   "execution_count": 89,
   "metadata": {},
   "outputs": [
    {
     "name": "stdout",
     "output_type": "stream",
     "text": [
      "My Name is : {myName} and My Age is : {myAge}\n",
      "My Name is : Osama and My Age is : 36\n"
     ]
    }
   ],
   "source": [
    "# Format in Version 3.6+\n",
    "myName = \"Osama\"\n",
    "myAge = 36\n",
    "print(\"My Name is : {myName} and My Age is : {myAge}\")\n",
    "print(f\"My Name is : {myName} and My Age is : {myAge}\")\n"
   ]
  },
  {
   "cell_type": "markdown",
   "metadata": {},
   "source": [
    "# Week 3\n",
    "\n",
    "<a class=\"anchor\" id=\"week3\"></a>\n"
   ]
  },
  {
   "cell_type": "markdown",
   "metadata": {},
   "source": [
    "## 019 – Numbers\n",
    "\n",
    "<a class=\"anchor\" id=\"19\"></a>\n"
   ]
  },
  {
   "cell_type": "code",
   "execution_count": 90,
   "metadata": {},
   "outputs": [
    {
     "name": "stdout",
     "output_type": "stream",
     "text": [
      "<class 'int'>\n",
      "<class 'int'>\n",
      "<class 'int'>\n",
      "<class 'int'>\n",
      "<class 'int'>\n"
     ]
    }
   ],
   "source": [
    "# Integer\n",
    "print(type(1))\n",
    "print(type(100))\n",
    "print(type(10))\n",
    "print(type(-10))\n",
    "print(type(-110))\n"
   ]
  },
  {
   "cell_type": "code",
   "execution_count": 91,
   "metadata": {},
   "outputs": [
    {
     "name": "stdout",
     "output_type": "stream",
     "text": [
      "<class 'float'>\n",
      "<class 'float'>\n",
      "<class 'float'>\n",
      "<class 'float'>\n",
      "<class 'float'>\n"
     ]
    }
   ],
   "source": [
    "# Float\n",
    "print(type(1.500))\n",
    "print(type(100.99))\n",
    "print(type(-10.99))\n",
    "print(type(0.99))\n",
    "print(type(-0.99))\n"
   ]
  },
  {
   "cell_type": "code",
   "execution_count": 92,
   "metadata": {},
   "outputs": [
    {
     "name": "stdout",
     "output_type": "stream",
     "text": [
      "<class 'complex'>\n",
      "Real Part Is: 5.0\n",
      "Imaginary Part Is: 6.0\n"
     ]
    }
   ],
   "source": [
    "# Complex\n",
    "myComplexNumber = 5+6j\n",
    "print(type(myComplexNumber))\n",
    "print(\"Real Part Is: {}\".format(myComplexNumber.real))\n",
    "print(\"Imaginary Part Is: {}\".format(myComplexNumber.imag))\n"
   ]
  },
  {
   "cell_type": "markdown",
   "metadata": {},
   "source": [
    "[1] You Can Convert From Int To Float or Complex  \n",
    "[2] You Can Convert From Float To Int or Complex  \n",
    "[3] You Cannot Convert Complex To Any Type\n"
   ]
  },
  {
   "cell_type": "code",
   "execution_count": 93,
   "metadata": {},
   "outputs": [
    {
     "name": "stdout",
     "output_type": "stream",
     "text": [
      "100\n",
      "100.0\n",
      "(100+0j)\n"
     ]
    }
   ],
   "source": [
    "print(100)\n",
    "print(float(100))\n",
    "print(complex(100))\n"
   ]
  },
  {
   "cell_type": "code",
   "execution_count": 94,
   "metadata": {},
   "outputs": [
    {
     "name": "stdout",
     "output_type": "stream",
     "text": [
      "10.5\n",
      "10\n",
      "(10.5+0j)\n"
     ]
    }
   ],
   "source": [
    "print(10.50)\n",
    "print(int(10.50))\n",
    "print(complex(10.50))\n"
   ]
  },
  {
   "cell_type": "code",
   "execution_count": 95,
   "metadata": {},
   "outputs": [
    {
     "name": "stdout",
     "output_type": "stream",
     "text": [
      "(10+9j)\n"
     ]
    }
   ],
   "source": [
    "print(10+9j)\n",
    "# print(int(10+9j)) error\n"
   ]
  },
  {
   "cell_type": "markdown",
   "metadata": {},
   "source": [
    "## 020 – Arithmetic Operators\n",
    "\n",
    "<a class=\"anchor\" id=\"20\"></a>\n"
   ]
  },
  {
   "cell_type": "markdown",
   "metadata": {},
   "source": [
    "[+] Addition  \n",
    "[-] Subtraction  \n",
    "[*] Multiplication  \n",
    "[/] Division  \n",
    "[%] Modulus  \n",
    "[**] Exponent  \n",
    "[//] Floor Division\n"
   ]
  },
  {
   "cell_type": "code",
   "execution_count": 96,
   "metadata": {},
   "outputs": [
    {
     "name": "stdout",
     "output_type": "stream",
     "text": [
      "40\n",
      "10\n",
      "3.66\n",
      "2.4\n"
     ]
    }
   ],
   "source": [
    "# Addition\n",
    "print(10 + 30)\n",
    "print(-10 + 20)\n",
    "print(1 + 2.66)\n",
    "print(1.2 + 1.2)\n"
   ]
  },
  {
   "cell_type": "code",
   "execution_count": 97,
   "metadata": {},
   "outputs": [
    {
     "name": "stdout",
     "output_type": "stream",
     "text": [
      "30\n",
      "-50\n",
      "-10\n",
      "2.22\n"
     ]
    }
   ],
   "source": [
    "# Subtraction\n",
    "print(60 - 30)\n",
    "print(-30 - 20)\n",
    "print(-30 - -20)\n",
    "print(5.66 - 3.44)\n"
   ]
  },
  {
   "cell_type": "code",
   "execution_count": 98,
   "metadata": {},
   "outputs": [
    {
     "name": "stdout",
     "output_type": "stream",
     "text": [
      "30\n",
      "1005\n",
      "1500\n"
     ]
    }
   ],
   "source": [
    "# Multiplication\n",
    "print(10 * 3)\n",
    "print(5 + 10 * 100)\n",
    "print((5 + 10) * 100)\n"
   ]
  },
  {
   "cell_type": "code",
   "execution_count": 99,
   "metadata": {},
   "outputs": [
    {
     "name": "stdout",
     "output_type": "stream",
     "text": [
      "5.0\n",
      "5\n"
     ]
    }
   ],
   "source": [
    "# Division\n",
    "print(100 / 20)\n",
    "print(int(100 / 20))\n"
   ]
  },
  {
   "cell_type": "code",
   "execution_count": 100,
   "metadata": {},
   "outputs": [
    {
     "name": "stdout",
     "output_type": "stream",
     "text": [
      "0\n",
      "1\n",
      "0\n",
      "2\n"
     ]
    }
   ],
   "source": [
    "# Modulus\n",
    "print(8 % 2)\n",
    "print(9 % 2)\n",
    "print(20 % 5)\n",
    "print(22 % 5)\n"
   ]
  },
  {
   "cell_type": "code",
   "execution_count": 101,
   "metadata": {},
   "outputs": [
    {
     "name": "stdout",
     "output_type": "stream",
     "text": [
      "32\n",
      "32\n",
      "625\n",
      "625\n"
     ]
    }
   ],
   "source": [
    "# Exponent\n",
    "print(2 ** 5)\n",
    "print(2 * 2 * 2 * 2 * 2)\n",
    "print(5 ** 4)\n",
    "print(5 * 5 * 5 * 5)\n"
   ]
  },
  {
   "cell_type": "code",
   "execution_count": 102,
   "metadata": {},
   "outputs": [
    {
     "name": "stdout",
     "output_type": "stream",
     "text": [
      "5\n",
      "5\n",
      "6\n",
      "7\n",
      "7\n"
     ]
    }
   ],
   "source": [
    "# Floor Division\n",
    "print(100 // 20)\n",
    "print(119 // 20)\n",
    "print(120 // 20)\n",
    "print(140 // 20)\n",
    "print(142 // 20)\n"
   ]
  },
  {
   "cell_type": "markdown",
   "metadata": {},
   "source": [
    "## 021 – Lists\n",
    "\n",
    "<a class=\"anchor\" id=\"21\"></a>\n"
   ]
  },
  {
   "cell_type": "markdown",
   "metadata": {},
   "source": [
    "[1] List Items Are Enclosed in Square Brackets  \n",
    "[2] List Are Ordered, To Use Index To Access Item  \n",
    "[3] List Are Mutable => Add, Delete, Edit  \n",
    "[4] List Items Is Not Unique  \n",
    "[5] List Can Have Different Data Types\n"
   ]
  },
  {
   "cell_type": "code",
   "execution_count": 103,
   "metadata": {},
   "outputs": [
    {
     "name": "stdout",
     "output_type": "stream",
     "text": [
      "['One', 'Two', 'One', 1, 100.5, True]\n",
      "Two\n",
      "True\n",
      "1\n"
     ]
    }
   ],
   "source": [
    "myAwesomeList = [\"One\", \"Two\", \"One\", 1, 100.5, True]\n",
    "\n",
    "print(myAwesomeList)\n",
    "print(myAwesomeList[1])\n",
    "print(myAwesomeList[-1])\n",
    "print(myAwesomeList[-3])\n"
   ]
  },
  {
   "cell_type": "code",
   "execution_count": 104,
   "metadata": {},
   "outputs": [
    {
     "name": "stdout",
     "output_type": "stream",
     "text": [
      "['Two', 'One', 1]\n",
      "['One', 'Two', 'One', 1]\n",
      "['Two', 'One', 1, 100.5, True]\n"
     ]
    }
   ],
   "source": [
    "print(myAwesomeList[1:4])\n",
    "print(myAwesomeList[:4])\n",
    "print(myAwesomeList[1:])\n"
   ]
  },
  {
   "cell_type": "code",
   "execution_count": 105,
   "metadata": {},
   "outputs": [
    {
     "name": "stdout",
     "output_type": "stream",
     "text": [
      "['One', 'Two', 'One', 1, 100.5, True]\n",
      "['One', 'One', 100.5]\n"
     ]
    }
   ],
   "source": [
    "print(myAwesomeList[::1])\n",
    "print(myAwesomeList[::2])\n"
   ]
  },
  {
   "cell_type": "code",
   "execution_count": 106,
   "metadata": {},
   "outputs": [
    {
     "name": "stdout",
     "output_type": "stream",
     "text": [
      "['One', 'Two', 'One', 1, 100.5, True]\n",
      "['One', 2, 'One', 1, 100.5, False]\n"
     ]
    }
   ],
   "source": [
    "print(myAwesomeList)\n",
    "myAwesomeList[1] = 2\n",
    "myAwesomeList[-1] = False\n",
    "print(myAwesomeList)\n"
   ]
  },
  {
   "cell_type": "code",
   "execution_count": 107,
   "metadata": {},
   "outputs": [
    {
     "name": "stdout",
     "output_type": "stream",
     "text": [
      "[1, 100.5, False]\n"
     ]
    }
   ],
   "source": [
    "myAwesomeList[0:3] = []\n",
    "print(myAwesomeList)\n"
   ]
  },
  {
   "cell_type": "code",
   "execution_count": 108,
   "metadata": {},
   "outputs": [
    {
     "name": "stdout",
     "output_type": "stream",
     "text": [
      "['A', 'B', False]\n"
     ]
    }
   ],
   "source": [
    "myAwesomeList[0:2] = [\"A\", \"B\"]\n",
    "print(myAwesomeList)\n"
   ]
  },
  {
   "cell_type": "markdown",
   "metadata": {},
   "source": [
    "## 022 – Lists Methods Part 1\n",
    "\n",
    "<a class=\"anchor\" id=\"22\"></a>\n"
   ]
  },
  {
   "cell_type": "code",
   "execution_count": 109,
   "metadata": {},
   "outputs": [
    {
     "name": "stdout",
     "output_type": "stream",
     "text": [
      "['Osama', 'Ahmed', 'Sayed']\n",
      "['Haytham', 'Samah', 'Ali']\n"
     ]
    }
   ],
   "source": [
    "myFriends = [\"Osama\", \"Ahmed\", \"Sayed\"]\n",
    "myOldFriends = [\"Haytham\", \"Samah\", \"Ali\"]\n",
    "print(myFriends)\n",
    "print(myOldFriends)\n"
   ]
  },
  {
   "cell_type": "code",
   "execution_count": 110,
   "metadata": {},
   "outputs": [
    {
     "name": "stdout",
     "output_type": "stream",
     "text": [
      "['Osama', 'Ahmed', 'Sayed', 'Alaa', 100, 150.2, True]\n"
     ]
    }
   ],
   "source": [
    "myFriends.append(\"Alaa\")\n",
    "myFriends.append(100)\n",
    "myFriends.append(150.200)\n",
    "myFriends.append(True)\n",
    "print(myFriends)\n"
   ]
  },
  {
   "cell_type": "code",
   "execution_count": 111,
   "metadata": {},
   "outputs": [
    {
     "name": "stdout",
     "output_type": "stream",
     "text": [
      "['Osama', 'Ahmed', 'Sayed', 'Alaa', 100, 150.2, True, ['Haytham', 'Samah', 'Ali']]\n"
     ]
    }
   ],
   "source": [
    "myFriends.append(myOldFriends)\n",
    "print(myFriends)\n"
   ]
  },
  {
   "cell_type": "code",
   "execution_count": 112,
   "metadata": {},
   "outputs": [
    {
     "name": "stdout",
     "output_type": "stream",
     "text": [
      "Sayed\n",
      "True\n",
      "['Haytham', 'Samah', 'Ali']\n"
     ]
    }
   ],
   "source": [
    "print(myFriends[2])\n",
    "print(myFriends[6])\n",
    "print(myFriends[7])\n"
   ]
  },
  {
   "cell_type": "code",
   "execution_count": 113,
   "metadata": {},
   "outputs": [
    {
     "name": "stdout",
     "output_type": "stream",
     "text": [
      "Ali\n"
     ]
    }
   ],
   "source": [
    "print(myFriends[7][2])\n"
   ]
  },
  {
   "cell_type": "code",
   "execution_count": 114,
   "metadata": {},
   "outputs": [
    {
     "name": "stdout",
     "output_type": "stream",
     "text": [
      "[1, 2, 3, 4]\n"
     ]
    }
   ],
   "source": [
    "a = [1, 2, 3, 4]\n",
    "b = [\"A\", \"B\", \"C\"]\n",
    "print(a)\n"
   ]
  },
  {
   "cell_type": "code",
   "execution_count": 115,
   "metadata": {},
   "outputs": [
    {
     "name": "stdout",
     "output_type": "stream",
     "text": [
      "[1, 2, 3, 4, 'A', 'B', 'C']\n"
     ]
    }
   ],
   "source": [
    "a.extend(b)\n",
    "print(a)\n"
   ]
  },
  {
   "cell_type": "code",
   "execution_count": 116,
   "metadata": {},
   "outputs": [
    {
     "name": "stdout",
     "output_type": "stream",
     "text": [
      "[1, 2, 3, 4, 5, True, 'Osama', 'Osama']\n"
     ]
    }
   ],
   "source": [
    "x = [1, 2, 3, 4, 5, \"Osama\", True, \"Osama\", \"Osama\"]\n",
    "x.remove(\"Osama\")\n",
    "print(x)\n"
   ]
  },
  {
   "cell_type": "code",
   "execution_count": 117,
   "metadata": {},
   "outputs": [
    {
     "name": "stdout",
     "output_type": "stream",
     "text": [
      "[-10, 1, 2, 17, 29, 100, 120]\n"
     ]
    }
   ],
   "source": [
    "y = [1, 2, 100, 120, -10, 17, 29]\n",
    "y.sort()\n",
    "print(y)\n"
   ]
  },
  {
   "cell_type": "code",
   "execution_count": 118,
   "metadata": {},
   "outputs": [
    {
     "name": "stdout",
     "output_type": "stream",
     "text": [
      "[120, 100, 29, 17, 2, 1, -10]\n"
     ]
    }
   ],
   "source": [
    "y.sort(reverse=True)\n",
    "print(y)\n"
   ]
  },
  {
   "cell_type": "code",
   "execution_count": 119,
   "metadata": {},
   "outputs": [
    {
     "name": "stdout",
     "output_type": "stream",
     "text": [
      "['A', 'C', 'Z']\n"
     ]
    }
   ],
   "source": [
    "m = [\"A\", \"Z\", \"C\"]\n",
    "m.sort()\n",
    "print(m)\n"
   ]
  },
  {
   "cell_type": "markdown",
   "metadata": {},
   "source": [
    "Sort can't sort a list that contains both of strings and numbers.\n"
   ]
  },
  {
   "cell_type": "code",
   "execution_count": 120,
   "metadata": {},
   "outputs": [
    {
     "name": "stdout",
     "output_type": "stream",
     "text": [
      "[100, 'Osama', 100, 80, 9, 1, 10]\n"
     ]
    }
   ],
   "source": [
    "z = [10, 1, 9, 80, 100, \"Osama\", 100]\n",
    "z.reverse()\n",
    "print(z)\n"
   ]
  },
  {
   "cell_type": "markdown",
   "metadata": {},
   "source": [
    "## 023 – Lists Methods Part 2\n",
    "\n",
    "<a class=\"anchor\" id=\"23\"></a>\n"
   ]
  },
  {
   "cell_type": "code",
   "execution_count": 121,
   "metadata": {},
   "outputs": [
    {
     "name": "stdout",
     "output_type": "stream",
     "text": [
      "[]\n"
     ]
    }
   ],
   "source": [
    "a = [1, 2, 3, 4]\n",
    "a.clear()\n",
    "print(a)\n"
   ]
  },
  {
   "cell_type": "code",
   "execution_count": 122,
   "metadata": {},
   "outputs": [
    {
     "name": "stdout",
     "output_type": "stream",
     "text": [
      "[1, 2, 3, 4]\n",
      "[1, 2, 3, 4]\n"
     ]
    }
   ],
   "source": [
    "b = [1, 2, 3, 4]\n",
    "c = b.copy()\n",
    "\n",
    "print(b)\n",
    "print(c)\n"
   ]
  },
  {
   "cell_type": "code",
   "execution_count": 123,
   "metadata": {},
   "outputs": [
    {
     "name": "stdout",
     "output_type": "stream",
     "text": [
      "[1, 2, 3, 4, 5]\n",
      "[1, 2, 3, 4]\n"
     ]
    }
   ],
   "source": [
    "b.append(5)\n",
    "print(b)\n",
    "print(c)\n"
   ]
  },
  {
   "cell_type": "code",
   "execution_count": 124,
   "metadata": {},
   "outputs": [
    {
     "name": "stdout",
     "output_type": "stream",
     "text": [
      "3\n"
     ]
    }
   ],
   "source": [
    "d = [1, 2, 3, 4, 3, 9, 10, 1, 2, 1]\n",
    "print(d.count(1))\n"
   ]
  },
  {
   "cell_type": "code",
   "execution_count": 125,
   "metadata": {},
   "outputs": [
    {
     "name": "stdout",
     "output_type": "stream",
     "text": [
      "3\n"
     ]
    }
   ],
   "source": [
    "e = [\"Osama\", \"Ahmed\", \"Sayed\", \"Ramy\", \"Ahmed\", \"Ramy\"]\n",
    "print(e.index(\"Ramy\"))\n"
   ]
  },
  {
   "cell_type": "code",
   "execution_count": 126,
   "metadata": {},
   "outputs": [
    {
     "name": "stdout",
     "output_type": "stream",
     "text": [
      "[1, 2, 3, 4, 5, 'A', 'B']\n",
      "['Test', 1, 2, 3, 4, 5, 'A', 'Test', 'B']\n"
     ]
    }
   ],
   "source": [
    "f = [1, 2, 3, 4, 5, \"A\", \"B\"]\n",
    "print(f)\n",
    "f.insert(0, \"Test\")\n",
    "f.insert(-1, \"Test\")\n",
    "print(f)\n"
   ]
  },
  {
   "cell_type": "code",
   "execution_count": 127,
   "metadata": {},
   "outputs": [
    {
     "name": "stdout",
     "output_type": "stream",
     "text": [
      "5\n"
     ]
    }
   ],
   "source": [
    "g = [1, 2, 3, 4, 5, \"A\", \"B\"]\n",
    "print(g.pop(-3))\n"
   ]
  },
  {
   "cell_type": "markdown",
   "metadata": {},
   "source": [
    "## 024 – Tuples Methods Part 1\n",
    "\n",
    "<a class=\"anchor\" id=\"24\"></a>\n"
   ]
  },
  {
   "cell_type": "markdown",
   "metadata": {},
   "source": [
    "[1] Tuple Items Are Enclosed in Parentheses  \n",
    "[2] You Can Remove The Parentheses If You Want  \n",
    "[3] Tuple Are Ordered, To Use Index To Access Item  \n",
    "[4] Tuple Are Immutable => You Cant Add or Delete  \n",
    "[5] Tuple Items Is Not Unique  \n",
    "[6] Tuple Can Have Different Data Types  \n",
    "[7] Operators Used in Strings and Lists Available In Tuples\n"
   ]
  },
  {
   "cell_type": "code",
   "execution_count": 128,
   "metadata": {},
   "outputs": [
    {
     "name": "stdout",
     "output_type": "stream",
     "text": [
      "('Osama', 'Ahmed')\n",
      "('Osama', 'Ahmed')\n"
     ]
    }
   ],
   "source": [
    "myAwesomeTupleOne = (\"Osama\", \"Ahmed\")\n",
    "myAwesomeTupleTwo = \"Osama\", \"Ahmed\"\n",
    "print(myAwesomeTupleOne)\n",
    "print(myAwesomeTupleTwo)\n"
   ]
  },
  {
   "cell_type": "code",
   "execution_count": 129,
   "metadata": {},
   "outputs": [
    {
     "name": "stdout",
     "output_type": "stream",
     "text": [
      "<class 'tuple'>\n",
      "<class 'tuple'>\n"
     ]
    }
   ],
   "source": [
    "print(type(myAwesomeTupleOne))\n",
    "print(type(myAwesomeTupleTwo))\n"
   ]
  },
  {
   "cell_type": "code",
   "execution_count": 130,
   "metadata": {},
   "outputs": [
    {
     "name": "stdout",
     "output_type": "stream",
     "text": [
      "1\n",
      "5\n",
      "3\n"
     ]
    }
   ],
   "source": [
    "myAwesomeTupleThree = (1, 2, 3, 4, 5)\n",
    "print(myAwesomeTupleThree[0])\n",
    "print(myAwesomeTupleThree[-1])\n",
    "print(myAwesomeTupleThree[-3])\n"
   ]
  },
  {
   "cell_type": "code",
   "execution_count": 131,
   "metadata": {},
   "outputs": [
    {
     "name": "stdout",
     "output_type": "stream",
     "text": [
      "(1, 2, 3, 4, 5)\n"
     ]
    }
   ],
   "source": [
    "# Tuple Assign Values\n",
    "myAwesomeTupleFour = (1, 2, 3, 4, 5)\n",
    "print(myAwesomeTupleFour)\n"
   ]
  },
  {
   "cell_type": "markdown",
   "metadata": {},
   "source": [
    "```\n",
    "myAwesomeTupleFour[2] = \"Three\"\n",
    "print(myAwesomeTupleFour)\n",
    "```\n",
    "\n",
    "'tuple' object does not support item assignment\n"
   ]
  },
  {
   "cell_type": "code",
   "execution_count": 132,
   "metadata": {},
   "outputs": [
    {
     "name": "stdout",
     "output_type": "stream",
     "text": [
      "Osama\n",
      "True\n"
     ]
    }
   ],
   "source": [
    "myAwesomeTupleFive = (\"Osama\", \"Osama\", 1, 2, 3, 100.5, True)\n",
    "print(myAwesomeTupleFive[1])\n",
    "print(myAwesomeTupleFive[-1])\n"
   ]
  },
  {
   "cell_type": "markdown",
   "metadata": {},
   "source": [
    "## 025 – Tuples Methods Part 2\n",
    "\n",
    "<a class=\"anchor\" id=\"25\"></a>\n"
   ]
  },
  {
   "cell_type": "code",
   "execution_count": 133,
   "metadata": {},
   "outputs": [
    {
     "name": "stdout",
     "output_type": "stream",
     "text": [
      "('Osama',)\n",
      "('Osama',)\n"
     ]
    }
   ],
   "source": [
    "myTuple1 = (\"Osama\",)\n",
    "myTuple2 = \"Osama\",\n",
    "print(myTuple1)\n",
    "print(myTuple2)\n"
   ]
  },
  {
   "cell_type": "code",
   "execution_count": 134,
   "metadata": {},
   "outputs": [
    {
     "name": "stdout",
     "output_type": "stream",
     "text": [
      "<class 'tuple'>\n",
      "<class 'tuple'>\n"
     ]
    }
   ],
   "source": [
    "print(type(myTuple1))\n",
    "print(type(myTuple2))\n"
   ]
  },
  {
   "cell_type": "code",
   "execution_count": 135,
   "metadata": {},
   "outputs": [
    {
     "name": "stdout",
     "output_type": "stream",
     "text": [
      "1\n",
      "1\n"
     ]
    }
   ],
   "source": [
    "print(len(myTuple1))\n",
    "print(len(myTuple2))\n"
   ]
  },
  {
   "cell_type": "code",
   "execution_count": 136,
   "metadata": {},
   "outputs": [
    {
     "name": "stdout",
     "output_type": "stream",
     "text": [
      "(1, 2, 3, 4, 5, 6)\n",
      "(1, 2, 3, 4, 'A', 'B', True, 5, 6)\n"
     ]
    }
   ],
   "source": [
    "a = (1, 2, 3, 4)\n",
    "b = (5, 6)\n",
    "c = a + b\n",
    "d = a + (\"A\", \"B\", True) + b\n",
    "print(c)\n",
    "print(d)\n"
   ]
  },
  {
   "cell_type": "code",
   "execution_count": 137,
   "metadata": {},
   "outputs": [
    {
     "name": "stdout",
     "output_type": "stream",
     "text": [
      "OsamaOsamaOsamaOsamaOsamaOsama\n",
      "[1, 2, 1, 2, 1, 2, 1, 2, 1, 2, 1, 2]\n",
      "('A', 'B', 'A', 'B', 'A', 'B', 'A', 'B', 'A', 'B', 'A', 'B')\n"
     ]
    }
   ],
   "source": [
    "myString = \"Osama\"\n",
    "myList = [1, 2]\n",
    "myTuple = (\"A\", \"B\")\n",
    "\n",
    "print(myString * 6)\n",
    "print(myList * 6)\n",
    "print(myTuple * 6)\n"
   ]
  },
  {
   "cell_type": "code",
   "execution_count": 138,
   "metadata": {},
   "outputs": [
    {
     "name": "stdout",
     "output_type": "stream",
     "text": [
      "2\n"
     ]
    }
   ],
   "source": [
    "a = (1, 3, 7, 8, 2, 6, 5, 8)\n",
    "print(a.count(8))\n"
   ]
  },
  {
   "cell_type": "code",
   "execution_count": 2,
   "metadata": {},
   "outputs": [
    {
     "name": "stdout",
     "output_type": "stream",
     "text": [
      "The Position of Index Is: 2\n",
      "The Position of Index Is: 2\n"
     ]
    }
   ],
   "source": [
    "b = (1, 3, 7, 8, 2, 6, 5)\n",
    "print(\"The Position of Index Is: {:d}\".format(b.index(7)))\n",
    "print(f\"The Position of Index Is: {b.index(7)}\")\n"
   ]
  },
  {
   "cell_type": "code",
   "execution_count": 140,
   "metadata": {},
   "outputs": [
    {
     "name": "stdout",
     "output_type": "stream",
     "text": [
      "A\n",
      "B\n",
      "C\n"
     ]
    }
   ],
   "source": [
    "# Tuple Destruct\n",
    "a = (\"A\", \"B\", 4, \"C\")\n",
    "\n",
    "x, y, _, z = a\n",
    "\n",
    "print(x)\n",
    "print(y)\n",
    "print(z)\n"
   ]
  },
  {
   "cell_type": "markdown",
   "metadata": {},
   "source": [
    "# Week 4\n",
    "\n",
    "<a class=\"anchor\" id=\"week4\"></a>\n"
   ]
  },
  {
   "cell_type": "markdown",
   "metadata": {},
   "source": [
    "## 026 – Set\n",
    "\n",
    "<a class=\"anchor\" id=\"26\"></a>\n"
   ]
  },
  {
   "cell_type": "markdown",
   "metadata": {},
   "source": [
    "[1] Set Items Are Enclosed in Curly Braces  \n",
    "[2] Set Items Are Not Ordered And Not Indexed  \n",
    "[3] Set Indexing and Slicing Cannot Be Done  \n",
    "[4] Set Has Only Immutable Data Types (Numbers, Strings, Tuples) List and Dict Are Not  \n",
    "[5] Set Items Is Unique\n"
   ]
  },
  {
   "cell_type": "code",
   "execution_count": 141,
   "metadata": {},
   "outputs": [
    {
     "name": "stdout",
     "output_type": "stream",
     "text": [
      "{'Osama', 100, 'Ahmed'}\n"
     ]
    }
   ],
   "source": [
    "# Not Ordered And Not Indexed\n",
    "\n",
    "mySetOne = {\"Osama\", \"Ahmed\", 100}\n",
    "print(mySetOne)\n"
   ]
  },
  {
   "cell_type": "markdown",
   "metadata": {},
   "source": [
    "`print(mySetOne[0])` will produce an error.\n"
   ]
  },
  {
   "attachments": {},
   "cell_type": "markdown",
   "metadata": {},
   "source": [
    "Slicing Cannot Be Done\n",
    "\n",
    "```python\n",
    "mySetTwo = {1, 2, 3, 4, 5, 6}\n",
    "print(mySetTwo[0:3])\n",
    "\n",
    "Will also produce an error.\n"
   ]
  },
  {
   "cell_type": "markdown",
   "metadata": {},
   "source": [
    "Has Only Immutable Data Types\n",
    "\n",
    "`mySetThree = {\"Osama\", 100, 100.5, True, [1, 2, 3]}`  \n",
    "Error, unhashable type: 'list'\n"
   ]
  },
  {
   "cell_type": "code",
   "execution_count": 142,
   "metadata": {},
   "outputs": [
    {
     "name": "stdout",
     "output_type": "stream",
     "text": [
      "{True, 100.5, 100, 'Osama', (1, 2, 3)}\n"
     ]
    }
   ],
   "source": [
    "mySetThree = {\"Osama\", 100, 100.5, True, (1, 2, 3)}\n",
    "\n",
    "print(mySetThree)\n"
   ]
  },
  {
   "cell_type": "code",
   "execution_count": 143,
   "metadata": {},
   "outputs": [
    {
     "name": "stdout",
     "output_type": "stream",
     "text": [
      "{1, 'Osama', 2, 'One'}\n"
     ]
    }
   ],
   "source": [
    "# Items are Unique\n",
    "\n",
    "mySetFour = {1, 2, \"Osama\", \"One\", \"Osama\", 1}\n",
    "print(mySetFour)\n"
   ]
  },
  {
   "cell_type": "markdown",
   "metadata": {},
   "source": [
    "## 027 – Set Methods Part 1\n",
    "\n",
    "<a class=\"anchor\" id=\"27\"></a>\n"
   ]
  },
  {
   "cell_type": "code",
   "execution_count": 144,
   "metadata": {},
   "outputs": [
    {
     "name": "stdout",
     "output_type": "stream",
     "text": [
      "set()\n"
     ]
    }
   ],
   "source": [
    "a = {1, 2, 3}\n",
    "a.clear()\n",
    "print(a)\n"
   ]
  },
  {
   "cell_type": "code",
   "execution_count": 145,
   "metadata": {},
   "outputs": [
    {
     "name": "stdout",
     "output_type": "stream",
     "text": [
      "{'Three', 'One', 'Two', '2', '3', '1'}\n",
      "{'Three', 'One', 'Two', '2', '3', '1'}\n",
      "{'Three', 'One', 'Two', '2', '3', '1', 'Zero', 'Cool'}\n"
     ]
    }
   ],
   "source": [
    "b = {\"One\", \"Two\", \"Three\"}\n",
    "c = {\"1\", \"2\", \"3\"}\n",
    "x = {\"Zero\", \"Cool\"}\n",
    "print(b | c)\n",
    "print(b.union(c))\n",
    "print(b.union(c, x))\n"
   ]
  },
  {
   "cell_type": "code",
   "execution_count": 146,
   "metadata": {},
   "outputs": [
    {
     "name": "stdout",
     "output_type": "stream",
     "text": [
      "{1, 2, 3, 4, 5, 6}\n"
     ]
    }
   ],
   "source": [
    "d = {1, 2, 3, 4}\n",
    "d.add(5)\n",
    "d.add(6)\n",
    "print(d)\n"
   ]
  },
  {
   "cell_type": "code",
   "execution_count": 147,
   "metadata": {},
   "outputs": [
    {
     "name": "stdout",
     "output_type": "stream",
     "text": [
      "{1, 2, 3, 4}\n",
      "{1, 2, 3, 4}\n",
      "{1, 2, 3, 4, 6}\n",
      "{1, 2, 3, 4}\n"
     ]
    }
   ],
   "source": [
    "e = {1, 2, 3, 4}\n",
    "f = e.copy()\n",
    "\n",
    "\n",
    "print(e)\n",
    "print(f)\n",
    "e.add(6)\n",
    "print(e)\n",
    "print(f)\n"
   ]
  },
  {
   "cell_type": "code",
   "execution_count": 148,
   "metadata": {},
   "outputs": [
    {
     "name": "stdout",
     "output_type": "stream",
     "text": [
      "{2, 3, 4}\n"
     ]
    }
   ],
   "source": [
    "g = {1, 2, 3, 4}\n",
    "g.remove(1)\n",
    "# g.remove(7) will remove an error\n",
    "print(g)\n"
   ]
  },
  {
   "cell_type": "code",
   "execution_count": 149,
   "metadata": {},
   "outputs": [
    {
     "name": "stdout",
     "output_type": "stream",
     "text": [
      "{2, 3, 4}\n"
     ]
    }
   ],
   "source": [
    "h = {1, 2, 3, 4}\n",
    "h.discard(1)\n",
    "h.discard(7)  # wont produce an error\n",
    "print(h)\n"
   ]
  },
  {
   "cell_type": "code",
   "execution_count": 150,
   "metadata": {},
   "outputs": [
    {
     "name": "stdout",
     "output_type": "stream",
     "text": [
      "True\n"
     ]
    }
   ],
   "source": [
    "i = {\"A\", True, 1, 2, 3, 4, 5}\n",
    "print(i.pop())\n"
   ]
  },
  {
   "cell_type": "code",
   "execution_count": 151,
   "metadata": {},
   "outputs": [
    {
     "name": "stdout",
     "output_type": "stream",
     "text": [
      "{1, 2, 3, 'Html', 'B', 'A', 'Css'}\n"
     ]
    }
   ],
   "source": [
    "j = {1, 2, 3}\n",
    "k = {1, \"A\", \"B\", 2}\n",
    "j.update(['Html', \"Css\"])\n",
    "j.update(k)\n",
    "\n",
    "print(j)\n"
   ]
  },
  {
   "cell_type": "markdown",
   "metadata": {},
   "source": [
    "## 028 – Set Methods Part 2\n",
    "\n",
    "<a class=\"anchor\" id=\"28\"></a>\n"
   ]
  },
  {
   "cell_type": "code",
   "execution_count": 152,
   "metadata": {},
   "outputs": [
    {
     "name": "stdout",
     "output_type": "stream",
     "text": [
      "{1, 2, 3, 4}\n",
      "{4}\n",
      "{1, 2, 3, 4}\n"
     ]
    }
   ],
   "source": [
    "a = {1, 2, 3, 4}\n",
    "b = {1, 2, 3, \"Osama\", \"Ahmed\"}\n",
    "print(a)\n",
    "print(a.difference(b))  # a - b\n",
    "print(a)\n"
   ]
  },
  {
   "cell_type": "code",
   "execution_count": 153,
   "metadata": {},
   "outputs": [
    {
     "name": "stdout",
     "output_type": "stream",
     "text": [
      "{1, 2, 3, 4}\n",
      "{3, 4}\n"
     ]
    }
   ],
   "source": [
    "c = {1, 2, 3, 4}\n",
    "d = {1, 2, \"Osama\", \"Ahmed\"}\n",
    "print(c)\n",
    "c.difference_update(d)  # c - d\n",
    "print(c)\n"
   ]
  },
  {
   "cell_type": "code",
   "execution_count": 154,
   "metadata": {},
   "outputs": [
    {
     "name": "stdout",
     "output_type": "stream",
     "text": [
      "{1, 2, 3, 4, 'Osama', 'X'}\n",
      "{'Osama', 2, 'X'}\n",
      "{1, 2, 3, 4, 'Osama', 'X'}\n"
     ]
    }
   ],
   "source": [
    "e = {1, 2, 3, 4, \"X\", \"Osama\"}\n",
    "f = {\"Osama\", \"X\", 2}\n",
    "print(e)\n",
    "print(e.intersection(f))  # e & f\n",
    "print(e)\n"
   ]
  },
  {
   "cell_type": "code",
   "execution_count": 155,
   "metadata": {},
   "outputs": [
    {
     "name": "stdout",
     "output_type": "stream",
     "text": [
      "{1, 2, 3, 4, 'Osama', 'X'}\n",
      "{'Osama', 2, 'X'}\n"
     ]
    }
   ],
   "source": [
    "g = {1, 2, 3, 4, \"X\", \"Osama\"}\n",
    "h = {\"Osama\", \"X\", 2}\n",
    "print(g)\n",
    "g.intersection_update(h)  # g & h\n",
    "print(g)\n"
   ]
  },
  {
   "cell_type": "code",
   "execution_count": 156,
   "metadata": {},
   "outputs": [
    {
     "name": "stdout",
     "output_type": "stream",
     "text": [
      "{1, 2, 3, 4, 5}\n",
      "{0, 1, 2}\n",
      "{1, 2, 3, 4, 5}\n"
     ]
    }
   ],
   "source": [
    "i = {1, 2, 3, 4, 5}\n",
    "j = {0, 3, 4, 5}\n",
    "print(i)\n",
    "print(i.symmetric_difference(j))  # i ^ j\n",
    "print(i)\n"
   ]
  },
  {
   "cell_type": "code",
   "execution_count": 157,
   "metadata": {},
   "outputs": [
    {
     "name": "stdout",
     "output_type": "stream",
     "text": [
      "{1, 2, 3, 4, 5}\n",
      "{0, 1, 2}\n"
     ]
    }
   ],
   "source": [
    "i = {1, 2, 3, 4, 5}\n",
    "j = {0, 3, 4, 5}\n",
    "print(i)\n",
    "i.symmetric_difference_update(j)  # i ^ j\n",
    "print(i)\n"
   ]
  },
  {
   "cell_type": "markdown",
   "metadata": {},
   "source": [
    "## 029 – Set Methods Part 3\n",
    "\n",
    "<a class=\"anchor\" id=\"29\"></a>\n"
   ]
  },
  {
   "cell_type": "code",
   "execution_count": 158,
   "metadata": {},
   "outputs": [
    {
     "name": "stdout",
     "output_type": "stream",
     "text": [
      "True\n",
      "False\n"
     ]
    }
   ],
   "source": [
    "a = {1, 2, 3, 4}\n",
    "b = {1, 2, 3}\n",
    "c = {1, 2, 3, 4, 5}\n",
    "\n",
    "print(a.issuperset(b))\n",
    "print(a.issuperset(c))\n"
   ]
  },
  {
   "cell_type": "code",
   "execution_count": 159,
   "metadata": {},
   "outputs": [
    {
     "name": "stdout",
     "output_type": "stream",
     "text": [
      "False\n",
      "True\n"
     ]
    }
   ],
   "source": [
    "d = {1, 2, 3, 4}\n",
    "e = {1, 2, 3}\n",
    "f = {1, 2, 3, 4, 5}\n",
    "\n",
    "print(d.issubset(e))\n",
    "print(d.issubset(f))\n"
   ]
  },
  {
   "cell_type": "code",
   "execution_count": 160,
   "metadata": {},
   "outputs": [
    {
     "name": "stdout",
     "output_type": "stream",
     "text": [
      "False\n",
      "True\n"
     ]
    }
   ],
   "source": [
    "g = {1, 2, 3, 4}\n",
    "h = {1, 2, 3}\n",
    "i = {10, 11, 12}\n",
    "\n",
    "print(g.isdisjoint(h))\n",
    "print(g.isdisjoint(i))\n"
   ]
  },
  {
   "cell_type": "markdown",
   "metadata": {},
   "source": [
    "## 030 – Dictionary\n",
    "\n",
    "<a class=\"anchor\" id=\"30\"></a>\n"
   ]
  },
  {
   "cell_type": "markdown",
   "metadata": {},
   "source": [
    "[1] Dict Items Are Enclosed in Curly Braces  \n",
    "[2] Dict Items Are Contains Key : Value  \n",
    "[3] Dict Key Need To Be Immutable => (Number, String, Tuple) List Not Allowed  \n",
    "[4] Dict Value Can Have Any Data Types  \n",
    "[5] Dict Key Need To Be Unique  \n",
    "[6] Dict Is Not Ordered You Access Its Element With Key\n"
   ]
  },
  {
   "cell_type": "code",
   "execution_count": 161,
   "metadata": {},
   "outputs": [
    {
     "name": "stdout",
     "output_type": "stream",
     "text": [
      "{'name': 'Osama', 'age': 36, 'country': 'Egypt', 'skills': ['Html', 'Css', 'JS'], 'rating': 10.5}\n"
     ]
    }
   ],
   "source": [
    "user = {\n",
    "    \"name\": \"Osama\",\n",
    "    \"age\": 36,\n",
    "    \"country\": \"Egypt\",\n",
    "    \"skills\": [\"Html\", \"Css\", \"JS\"],\n",
    "    \"rating\": 10.5\n",
    "}\n",
    "print(user)\n"
   ]
  },
  {
   "cell_type": "code",
   "execution_count": 162,
   "metadata": {},
   "outputs": [
    {
     "name": "stdout",
     "output_type": "stream",
     "text": [
      "{'name': 'Ahmed', 'age': 36, 'country': 'Egypt', 'skills': ['Html', 'Css', 'JS'], 'rating': 10.5}\n"
     ]
    }
   ],
   "source": [
    "user = {\n",
    "    \"name\": \"Osama\",\n",
    "    \"age\": 36,\n",
    "    \"country\": \"Egypt\",\n",
    "    \"skills\": [\"Html\", \"Css\", \"JS\"],\n",
    "    \"rating\": 10.5,\n",
    "    \"name\": \"Ahmed\"\n",
    "}\n",
    "print(user)\n"
   ]
  },
  {
   "cell_type": "markdown",
   "metadata": {},
   "source": [
    "- Notice that it prints Ahmed not Osama as it is defined later.\n"
   ]
  },
  {
   "cell_type": "code",
   "execution_count": 163,
   "metadata": {},
   "outputs": [
    {
     "name": "stdout",
     "output_type": "stream",
     "text": [
      "Egypt\n",
      "Egypt\n"
     ]
    }
   ],
   "source": [
    "print(user['country'])\n",
    "print(user.get(\"country\"))\n"
   ]
  },
  {
   "cell_type": "code",
   "execution_count": 164,
   "metadata": {},
   "outputs": [
    {
     "name": "stdout",
     "output_type": "stream",
     "text": [
      "dict_keys(['name', 'age', 'country', 'skills', 'rating'])\n"
     ]
    }
   ],
   "source": [
    "print(user.keys())\n"
   ]
  },
  {
   "cell_type": "code",
   "execution_count": 165,
   "metadata": {},
   "outputs": [
    {
     "name": "stdout",
     "output_type": "stream",
     "text": [
      "dict_values(['Ahmed', 36, 'Egypt', ['Html', 'Css', 'JS'], 10.5])\n"
     ]
    }
   ],
   "source": [
    "print(user.values())\n"
   ]
  },
  {
   "cell_type": "code",
   "execution_count": 166,
   "metadata": {},
   "outputs": [],
   "source": [
    "languages = {\n",
    "    \"One\": {\n",
    "        \"name\": \"Html\",\n",
    "        \"progress\": \"80%\"\n",
    "    },\n",
    "    \"Two\": {\n",
    "        \"name\": \"Css\",\n",
    "        \"progress\": \"90%\"\n",
    "    },\n",
    "    \"Three\": {\n",
    "        \"name\": \"Js\",\n",
    "        \"progress\": \"90%\"\n",
    "    }\n",
    "}\n"
   ]
  },
  {
   "cell_type": "code",
   "execution_count": 167,
   "metadata": {},
   "outputs": [
    {
     "name": "stdout",
     "output_type": "stream",
     "text": [
      "{'One': {'name': 'Html', 'progress': '80%'}, 'Two': {'name': 'Css', 'progress': '90%'}, 'Three': {'name': 'Js', 'progress': '90%'}}\n"
     ]
    }
   ],
   "source": [
    "print(languages)\n"
   ]
  },
  {
   "cell_type": "code",
   "execution_count": 168,
   "metadata": {},
   "outputs": [
    {
     "name": "stdout",
     "output_type": "stream",
     "text": [
      "{'name': 'Html', 'progress': '80%'}\n"
     ]
    }
   ],
   "source": [
    "print(languages['One'])\n"
   ]
  },
  {
   "cell_type": "code",
   "execution_count": 169,
   "metadata": {},
   "outputs": [
    {
     "name": "stdout",
     "output_type": "stream",
     "text": [
      "Js\n"
     ]
    }
   ],
   "source": [
    "print(languages['Three']['name'])\n"
   ]
  },
  {
   "cell_type": "code",
   "execution_count": 170,
   "metadata": {},
   "outputs": [
    {
     "name": "stdout",
     "output_type": "stream",
     "text": [
      "3\n"
     ]
    }
   ],
   "source": [
    "print(len(languages))\n"
   ]
  },
  {
   "cell_type": "code",
   "execution_count": 171,
   "metadata": {},
   "outputs": [
    {
     "name": "stdout",
     "output_type": "stream",
     "text": [
      "2\n"
     ]
    }
   ],
   "source": [
    "print(len(languages[\"Two\"]))\n"
   ]
  },
  {
   "cell_type": "code",
   "execution_count": 172,
   "metadata": {},
   "outputs": [
    {
     "name": "stdout",
     "output_type": "stream",
     "text": [
      "{'one': {'name': 'Vuejs', 'progress': '80%'}, 'two': {'name': 'ReactJs', 'progress': '80%'}, 'three': {'name': 'Angular', 'progress': '80%'}}\n"
     ]
    }
   ],
   "source": [
    "frameworkOne = {\n",
    "    \"name\": \"Vuejs\",\n",
    "    \"progress\": \"80%\"\n",
    "}\n",
    "frameworkTwo = {\n",
    "    \"name\": \"ReactJs\",\n",
    "    \"progress\": \"80%\"\n",
    "}\n",
    "frameworkThree = {\n",
    "    \"name\": \"Angular\",\n",
    "    \"progress\": \"80%\"\n",
    "}\n",
    "allFramework = {\n",
    "    \"one\": frameworkOne,\n",
    "    \"two\": frameworkTwo,\n",
    "    \"three\": frameworkThree\n",
    "}\n",
    "print(allFramework)\n"
   ]
  },
  {
   "cell_type": "markdown",
   "metadata": {},
   "source": [
    "## 031 – Dictionary Methods Part 1\n",
    "\n",
    "<a class=\"anchor\" id=\"31\"></a>\n"
   ]
  },
  {
   "cell_type": "code",
   "execution_count": 173,
   "metadata": {},
   "outputs": [
    {
     "name": "stdout",
     "output_type": "stream",
     "text": [
      "{'name': 'Osama'}\n",
      "{}\n"
     ]
    }
   ],
   "source": [
    "user = {\n",
    "    \"name\": \"Osama\"\n",
    "}\n",
    "print(user)\n",
    "user.clear()\n",
    "print(user)\n"
   ]
  },
  {
   "cell_type": "code",
   "execution_count": 174,
   "metadata": {},
   "outputs": [
    {
     "name": "stdout",
     "output_type": "stream",
     "text": [
      "{'name': 'Osama'}\n",
      "{'name': 'Osama', 'age': 36}\n",
      "{'name': 'Osama', 'age': 36, 'country': 'Egypt'}\n"
     ]
    }
   ],
   "source": [
    "member = {\n",
    "    \"name\": \"Osama\"\n",
    "}\n",
    "print(member)\n",
    "member[\"age\"] = 36\n",
    "print(member)\n",
    "member.update({\"country\": \"Egypt\"})\n",
    "print(member)\n",
    "# Both ways are equivalent.\n"
   ]
  },
  {
   "cell_type": "code",
   "execution_count": 175,
   "metadata": {},
   "outputs": [
    {
     "name": "stdout",
     "output_type": "stream",
     "text": [
      "{'name': 'Osama'}\n",
      "{'name': 'Osama', 'skills': 'Fighting'}\n",
      "{'name': 'Osama'}\n"
     ]
    }
   ],
   "source": [
    "main = {\n",
    "    \"name\": \"Osama\"\n",
    "}\n",
    "\n",
    "b = main.copy()\n",
    "print(b)\n",
    "main.update({\"skills\": \"Fighting\"})\n",
    "print(main)\n",
    "print(b)\n"
   ]
  },
  {
   "cell_type": "code",
   "execution_count": 176,
   "metadata": {},
   "outputs": [
    {
     "name": "stdout",
     "output_type": "stream",
     "text": [
      "dict_keys(['name', 'skills'])\n"
     ]
    }
   ],
   "source": [
    "print(main.keys())\n"
   ]
  },
  {
   "cell_type": "code",
   "execution_count": 177,
   "metadata": {},
   "outputs": [
    {
     "name": "stdout",
     "output_type": "stream",
     "text": [
      "dict_values(['Osama', 'Fighting'])\n"
     ]
    }
   ],
   "source": [
    "print(main.values())\n"
   ]
  },
  {
   "cell_type": "markdown",
   "metadata": {},
   "source": [
    "## 032 – Dictionary Methods Part 2\n",
    "\n",
    "<a class=\"anchor\" id=\"32\"></a>\n"
   ]
  },
  {
   "cell_type": "code",
   "execution_count": 178,
   "metadata": {},
   "outputs": [
    {
     "name": "stdout",
     "output_type": "stream",
     "text": [
      "{'name': 'Osama'}\n",
      "{'name': 'Osama', 'age': 36}\n"
     ]
    }
   ],
   "source": [
    "user = {\n",
    "    \"name\": \"Osama\"\n",
    "}\n",
    "print(user)\n",
    "user.setdefault(\"name\", \"Ahmed\")\n",
    "user.setdefault(\"age\", 36)\n",
    "print(user)\n"
   ]
  },
  {
   "cell_type": "code",
   "execution_count": 179,
   "metadata": {},
   "outputs": [
    {
     "name": "stdout",
     "output_type": "stream",
     "text": [
      "Osama\n"
     ]
    }
   ],
   "source": [
    "print(user.setdefault(\"name\", \"Ahmed\"))\n"
   ]
  },
  {
   "cell_type": "code",
   "execution_count": 180,
   "metadata": {},
   "outputs": [
    {
     "name": "stdout",
     "output_type": "stream",
     "text": [
      "{'name': 'Osama', 'skill': 'PS4'}\n",
      "{'name': 'Osama', 'skill': 'PS4', 'age': 36}\n",
      "('age', 36)\n",
      "{'name': 'Osama', 'skill': 'PS4'}\n"
     ]
    }
   ],
   "source": [
    "member = {\n",
    "    \"name\": \"Osama\",\n",
    "    \"skill\": \"PS4\"\n",
    "}\n",
    "print(member)\n",
    "member.update({\"age\": 36})\n",
    "print(member)\n",
    "print(member.popitem())\n",
    "print(member)\n"
   ]
  },
  {
   "cell_type": "code",
   "execution_count": 181,
   "metadata": {},
   "outputs": [
    {
     "name": "stdout",
     "output_type": "stream",
     "text": [
      "{'name': 'Osama', 'skill': 'XBox'}\n"
     ]
    }
   ],
   "source": [
    "view = {\n",
    "    \"name\": \"Osama\",\n",
    "    \"skill\": \"XBox\"\n",
    "}\n",
    "\n",
    "allItems = view.items()\n",
    "print(view)\n"
   ]
  },
  {
   "cell_type": "code",
   "execution_count": 182,
   "metadata": {},
   "outputs": [
    {
     "name": "stdout",
     "output_type": "stream",
     "text": [
      "{'name': 'Osama', 'skill': 'XBox', 'age': 36}\n"
     ]
    }
   ],
   "source": [
    "view[\"age\"] = 36\n",
    "print(view)\n"
   ]
  },
  {
   "cell_type": "code",
   "execution_count": 183,
   "metadata": {},
   "outputs": [
    {
     "name": "stdout",
     "output_type": "stream",
     "text": [
      "dict_items([('name', 'Osama'), ('skill', 'XBox'), ('age', 36)])\n"
     ]
    }
   ],
   "source": [
    "print(allItems)\n"
   ]
  },
  {
   "cell_type": "code",
   "execution_count": 184,
   "metadata": {},
   "outputs": [
    {
     "name": "stdout",
     "output_type": "stream",
     "text": [
      "{'MyKeyOne': 'X', 'MyKeyTwo': 'X', 'MyKeyThree': 'X'}\n"
     ]
    }
   ],
   "source": [
    "a = ('MyKeyOne', 'MyKeyTwo', 'MyKeyThree')\n",
    "b = \"X\"\n",
    "\n",
    "print(dict.fromkeys(a, b))\n"
   ]
  },
  {
   "cell_type": "code",
   "execution_count": 185,
   "metadata": {},
   "outputs": [
    {
     "name": "stdout",
     "output_type": "stream",
     "text": [
      "{'name': 'Ahmed'}\n"
     ]
    }
   ],
   "source": [
    "user = {\n",
    "    \"name\": \"Ahmed\"\n",
    "}\n",
    "me = user\n",
    "print(me)\n"
   ]
  },
  {
   "cell_type": "code",
   "execution_count": 186,
   "metadata": {},
   "outputs": [
    {
     "name": "stdout",
     "output_type": "stream",
     "text": [
      "{'name': 'Ahmed', 'age': 21}\n"
     ]
    }
   ],
   "source": [
    "user[\"age\"] = 21\n",
    "print(me)\n"
   ]
  },
  {
   "cell_type": "markdown",
   "metadata": {},
   "source": [
    "- Notice that `me` got updated because `me` and `user` share the same data.\n"
   ]
  },
  {
   "cell_type": "markdown",
   "metadata": {},
   "source": [
    "# Week 5\n",
    "\n",
    "<a class=\"anchor\" id=\"week5\"></a>\n"
   ]
  },
  {
   "cell_type": "markdown",
   "metadata": {},
   "source": [
    "## 033 – Boolean\n",
    "\n",
    "<a class=\"anchor\" id=\"33\"></a>\n"
   ]
  },
  {
   "cell_type": "markdown",
   "metadata": {},
   "source": [
    "[1] In Programming You Need to Known Your If Your Code Output is True Or False  \n",
    "[2] Boolean Values Are The Two Constant Objects False + True.\n"
   ]
  },
  {
   "cell_type": "code",
   "execution_count": 187,
   "metadata": {},
   "outputs": [
    {
     "name": "stdout",
     "output_type": "stream",
     "text": [
      "True\n"
     ]
    }
   ],
   "source": [
    "name = \" \"\n",
    "print(name.isspace())\n"
   ]
  },
  {
   "cell_type": "code",
   "execution_count": 188,
   "metadata": {},
   "outputs": [
    {
     "name": "stdout",
     "output_type": "stream",
     "text": [
      "False\n"
     ]
    }
   ],
   "source": [
    "name = \"Ahmed\"\n",
    "print(name.isspace())\n"
   ]
  },
  {
   "cell_type": "code",
   "execution_count": 189,
   "metadata": {},
   "outputs": [
    {
     "name": "stdout",
     "output_type": "stream",
     "text": [
      "False\n",
      "False\n",
      "True\n"
     ]
    }
   ],
   "source": [
    "print(100 > 200)\n",
    "print(100 > 100)\n",
    "print(100 > 90)\n"
   ]
  },
  {
   "cell_type": "code",
   "execution_count": 190,
   "metadata": {},
   "outputs": [
    {
     "name": "stdout",
     "output_type": "stream",
     "text": [
      "True\n",
      "True\n",
      "True\n",
      "True\n",
      "True\n"
     ]
    }
   ],
   "source": [
    "print(bool(\"Osama\"))\n",
    "print(bool(100))\n",
    "print(bool(100.95))\n",
    "print(bool(True))\n",
    "print(bool([1, 2, 3, 4, 5]))\n"
   ]
  },
  {
   "cell_type": "code",
   "execution_count": 191,
   "metadata": {},
   "outputs": [
    {
     "name": "stdout",
     "output_type": "stream",
     "text": [
      "False\n",
      "False\n",
      "False\n",
      "False\n",
      "False\n",
      "False\n",
      "False\n",
      "False\n"
     ]
    }
   ],
   "source": [
    "print(bool(0))\n",
    "print(bool(\"\"))\n",
    "print(bool(''))\n",
    "print(bool([]))\n",
    "print(bool(False))\n",
    "print(bool(()))\n",
    "print(bool({}))\n",
    "print(bool(None))\n"
   ]
  },
  {
   "cell_type": "markdown",
   "metadata": {},
   "source": [
    "## 034 – Boolean Operators\n",
    "\n",
    "<a class=\"anchor\" id=\"34\"></a>\n"
   ]
  },
  {
   "cell_type": "code",
   "execution_count": 192,
   "metadata": {},
   "outputs": [
    {
     "name": "stdout",
     "output_type": "stream",
     "text": [
      "True\n"
     ]
    }
   ],
   "source": [
    "name = \"ahmed\"\n",
    "age = 21\n",
    "print(name == \"ahmed\" and age == 21)\n"
   ]
  },
  {
   "cell_type": "code",
   "execution_count": 193,
   "metadata": {},
   "outputs": [
    {
     "name": "stdout",
     "output_type": "stream",
     "text": [
      "False\n"
     ]
    }
   ],
   "source": [
    "print(name == \"ahmed\" and age > 21)\n"
   ]
  },
  {
   "cell_type": "code",
   "execution_count": 194,
   "metadata": {},
   "outputs": [
    {
     "name": "stdout",
     "output_type": "stream",
     "text": [
      "True\n"
     ]
    }
   ],
   "source": [
    "print(name == \"ahmed\" or age > 21)\n"
   ]
  },
  {
   "cell_type": "code",
   "execution_count": 195,
   "metadata": {},
   "outputs": [
    {
     "name": "stdout",
     "output_type": "stream",
     "text": [
      "False\n"
     ]
    }
   ],
   "source": [
    "print(name == \"mohamed\" or age > 21)\n"
   ]
  },
  {
   "cell_type": "code",
   "execution_count": 196,
   "metadata": {},
   "outputs": [
    {
     "name": "stdout",
     "output_type": "stream",
     "text": [
      "True\n"
     ]
    }
   ],
   "source": [
    "print(not age > 21)\n"
   ]
  },
  {
   "cell_type": "code",
   "execution_count": 197,
   "metadata": {},
   "outputs": [
    {
     "name": "stdout",
     "output_type": "stream",
     "text": [
      "True\n"
     ]
    }
   ],
   "source": [
    "print(not (name == \"ahmed\" and age > 21))\n"
   ]
  },
  {
   "cell_type": "markdown",
   "metadata": {},
   "source": [
    "## 035 – Assignment Operators\n",
    "\n",
    "<a class=\"anchor\" id=\"35\"></a>\n"
   ]
  },
  {
   "cell_type": "code",
   "execution_count": 198,
   "metadata": {},
   "outputs": [
    {
     "name": "stdout",
     "output_type": "stream",
     "text": [
      "30\n"
     ]
    }
   ],
   "source": [
    "x = 10\n",
    "y = 20\n",
    "x = x+y\n",
    "print(x)\n"
   ]
  },
  {
   "cell_type": "markdown",
   "metadata": {},
   "source": [
    "- A better way\n"
   ]
  },
  {
   "cell_type": "code",
   "execution_count": 199,
   "metadata": {},
   "outputs": [
    {
     "name": "stdout",
     "output_type": "stream",
     "text": [
      "30\n"
     ]
    }
   ],
   "source": [
    "a = 10\n",
    "b = 20\n",
    "a += b\n",
    "print(a)\n"
   ]
  },
  {
   "cell_type": "code",
   "execution_count": 200,
   "metadata": {},
   "outputs": [
    {
     "name": "stdout",
     "output_type": "stream",
     "text": [
      "10\n"
     ]
    }
   ],
   "source": [
    "x = 30\n",
    "y = 20\n",
    "x = x-y\n",
    "print(x)\n"
   ]
  },
  {
   "cell_type": "code",
   "execution_count": 201,
   "metadata": {},
   "outputs": [
    {
     "name": "stdout",
     "output_type": "stream",
     "text": [
      "10\n"
     ]
    }
   ],
   "source": [
    "a = 30\n",
    "b = 20\n",
    "a -= b\n",
    "print(a)\n"
   ]
  },
  {
   "cell_type": "markdown",
   "metadata": {},
   "source": [
    "Var One = Self [Operator] Var Two  \n",
    "Var One [Operator]= Var Two\n"
   ]
  },
  {
   "cell_type": "markdown",
   "metadata": {},
   "source": [
    "## 036 – Comparison Operators\n",
    "\n",
    "<a class=\"anchor\" id=\"36\"></a>\n"
   ]
  },
  {
   "cell_type": "markdown",
   "metadata": {},
   "source": [
    "[ == ] Equal  \n",
    "[ != ] Not Equal  \n",
    "[ > ] Greater Than  \n",
    "[ < ] Less Than  \n",
    "[ >= ] Greater Than Or Equal  \n",
    "[ <= ] Less Than Or Equal\n"
   ]
  },
  {
   "cell_type": "code",
   "execution_count": 202,
   "metadata": {},
   "outputs": [
    {
     "name": "stdout",
     "output_type": "stream",
     "text": [
      "True\n",
      "False\n",
      "True\n"
     ]
    }
   ],
   "source": [
    "print(100 == 100)\n",
    "print(100 == 200)\n",
    "print(100 == 100.00)\n"
   ]
  },
  {
   "cell_type": "code",
   "execution_count": 203,
   "metadata": {},
   "outputs": [
    {
     "name": "stdout",
     "output_type": "stream",
     "text": [
      "False\n",
      "True\n",
      "False\n"
     ]
    }
   ],
   "source": [
    "print(100 != 100)\n",
    "print(100 != 200)\n",
    "print(100 != 100.00)\n"
   ]
  },
  {
   "cell_type": "code",
   "execution_count": 204,
   "metadata": {},
   "outputs": [
    {
     "name": "stdout",
     "output_type": "stream",
     "text": [
      "False\n",
      "False\n",
      "False\n",
      "True\n"
     ]
    }
   ],
   "source": [
    "print(100 > 100)\n",
    "print(100 > 200)\n",
    "print(100 > 100.00)\n",
    "print(100 > 40)\n"
   ]
  },
  {
   "cell_type": "code",
   "execution_count": 205,
   "metadata": {},
   "outputs": [
    {
     "name": "stdout",
     "output_type": "stream",
     "text": [
      "False\n",
      "True\n",
      "False\n",
      "False\n"
     ]
    }
   ],
   "source": [
    "print(100 < 100)\n",
    "print(100 < 200)\n",
    "print(100 < 100.00)\n",
    "print(100 < 40)\n"
   ]
  },
  {
   "cell_type": "code",
   "execution_count": 206,
   "metadata": {},
   "outputs": [
    {
     "name": "stdout",
     "output_type": "stream",
     "text": [
      "True\n",
      "False\n",
      "True\n",
      "True\n"
     ]
    }
   ],
   "source": [
    "print(100 >= 100)\n",
    "print(100 >= 200)\n",
    "print(100 >= 100.00)\n",
    "print(100 >= 40)\n"
   ]
  },
  {
   "cell_type": "code",
   "execution_count": 207,
   "metadata": {},
   "outputs": [
    {
     "name": "stdout",
     "output_type": "stream",
     "text": [
      "True\n",
      "True\n",
      "True\n",
      "False\n"
     ]
    }
   ],
   "source": [
    "print(100 <= 100)\n",
    "print(100 <= 200)\n",
    "print(100 <= 100.00)\n",
    "print(100 <= 40)\n"
   ]
  },
  {
   "cell_type": "markdown",
   "metadata": {},
   "source": [
    "## 037 – Type Conversion\n",
    "\n",
    "<a class=\"anchor\" id=\"37\"></a>\n"
   ]
  },
  {
   "cell_type": "code",
   "execution_count": 208,
   "metadata": {},
   "outputs": [
    {
     "name": "stdout",
     "output_type": "stream",
     "text": [
      "<class 'int'>\n",
      "<class 'str'>\n"
     ]
    }
   ],
   "source": [
    "\n",
    "a = 10\n",
    "print(type(a))\n",
    "print(type(str(a)))\n"
   ]
  },
  {
   "cell_type": "code",
   "execution_count": 209,
   "metadata": {},
   "outputs": [
    {
     "name": "stdout",
     "output_type": "stream",
     "text": [
      "('O', 's', 'a', 'm', 'a')\n",
      "(1, 2, 3, 4, 5)\n",
      "('C', 'A', 'B')\n",
      "('A', 'B')\n"
     ]
    }
   ],
   "source": [
    "c = \"Osama\"\n",
    "d = [1, 2, 3, 4, 5]\n",
    "e = {\"A\", \"B\", \"C\"}\n",
    "f = {\"A\": 1, \"B\": 2}\n",
    "\n",
    "print(tuple(c))\n",
    "print(tuple(d))\n",
    "print(tuple(e))\n",
    "print(tuple(f))\n"
   ]
  },
  {
   "cell_type": "code",
   "execution_count": 210,
   "metadata": {},
   "outputs": [
    {
     "name": "stdout",
     "output_type": "stream",
     "text": [
      "['O', 's', 'a', 'm', 'a']\n",
      "[1, 2, 3, 4, 5]\n",
      "['C', 'A', 'B']\n",
      "['A', 'B']\n"
     ]
    }
   ],
   "source": [
    "c = \"Osama\"\n",
    "d = (1, 2, 3, 4, 5)\n",
    "e = {\"A\", \"B\", \"C\"}\n",
    "f = {\"A\": 1, \"B\": 2}\n",
    "\n",
    "print(list(c))\n",
    "print(list(d))\n",
    "print(list(e))\n",
    "print(list(f))\n"
   ]
  },
  {
   "cell_type": "code",
   "execution_count": 210,
   "metadata": {},
   "outputs": [
    {
     "ename": "KeyboardInterrupt",
     "evalue": "",
     "output_type": "error",
     "traceback": [
      "\u001b[0;31m---------------------------------------------------------------------------\u001b[0m",
      "\u001b[0;31mKeyboardInterrupt\u001b[0m                         Traceback (most recent call last)",
      "File \u001b[0;32m~/Documents/DEV/CS-Roadmap/Python/.venv/lib/python3.11/site-packages/IPython/core/async_helpers.py:129\u001b[0m, in \u001b[0;36m_pseudo_sync_runner\u001b[0;34m(coro)\u001b[0m\n\u001b[1;32m    121\u001b[0m \u001b[38;5;250m\u001b[39m\u001b[38;5;124;03m\"\"\"\u001b[39;00m\n\u001b[1;32m    122\u001b[0m \u001b[38;5;124;03mA runner that does not really allow async execution, and just advance the coroutine.\u001b[39;00m\n\u001b[1;32m    123\u001b[0m \n\u001b[0;32m   (...)\u001b[0m\n\u001b[1;32m    126\u001b[0m \u001b[38;5;124;03mCredit to Nathaniel Smith\u001b[39;00m\n\u001b[1;32m    127\u001b[0m \u001b[38;5;124;03m\"\"\"\u001b[39;00m\n\u001b[1;32m    128\u001b[0m \u001b[38;5;28;01mtry\u001b[39;00m:\n\u001b[0;32m--> 129\u001b[0m     coro\u001b[38;5;241m.\u001b[39msend(\u001b[38;5;28;01mNone\u001b[39;00m)\n\u001b[1;32m    130\u001b[0m \u001b[38;5;28;01mexcept\u001b[39;00m \u001b[38;5;167;01mStopIteration\u001b[39;00m \u001b[38;5;28;01mas\u001b[39;00m exc:\n\u001b[1;32m    131\u001b[0m     \u001b[38;5;28;01mreturn\u001b[39;00m exc\u001b[38;5;241m.\u001b[39mvalue\n",
      "File \u001b[0;32m~/Documents/DEV/CS-Roadmap/Python/.venv/lib/python3.11/site-packages/IPython/core/interactiveshell.py:3256\u001b[0m, in \u001b[0;36mInteractiveShell.run_cell_async\u001b[0;34m(self, raw_cell, store_history, silent, shell_futures, transformed_cell, preprocessing_exc_tuple, cell_id)\u001b[0m\n\u001b[1;32m   3254\u001b[0m \u001b[38;5;66;03m# Store raw and processed history\u001b[39;00m\n\u001b[1;32m   3255\u001b[0m \u001b[38;5;28;01mif\u001b[39;00m store_history:\n\u001b[0;32m-> 3256\u001b[0m     \u001b[38;5;28;43mself\u001b[39;49m\u001b[38;5;241;43m.\u001b[39;49m\u001b[43mhistory_manager\u001b[49m\u001b[38;5;241;43m.\u001b[39;49m\u001b[43mstore_inputs\u001b[49m\u001b[43m(\u001b[49m\u001b[38;5;28;43mself\u001b[39;49m\u001b[38;5;241;43m.\u001b[39;49m\u001b[43mexecution_count\u001b[49m\u001b[43m,\u001b[49m\u001b[43m \u001b[49m\u001b[43mcell\u001b[49m\u001b[43m,\u001b[49m\u001b[43m \u001b[49m\u001b[43mraw_cell\u001b[49m\u001b[43m)\u001b[49m\n\u001b[1;32m   3257\u001b[0m \u001b[38;5;28;01mif\u001b[39;00m \u001b[38;5;129;01mnot\u001b[39;00m silent:\n\u001b[1;32m   3258\u001b[0m     \u001b[38;5;28mself\u001b[39m\u001b[38;5;241m.\u001b[39mlogger\u001b[38;5;241m.\u001b[39mlog(cell, raw_cell)\n",
      "File \u001b[0;32m~/Documents/DEV/CS-Roadmap/Python/.venv/lib/python3.11/site-packages/IPython/core/history.py:783\u001b[0m, in \u001b[0;36mHistoryManager.store_inputs\u001b[0;34m(self, line_num, source, source_raw)\u001b[0m\n\u001b[1;32m    780\u001b[0m \u001b[38;5;28mself\u001b[39m\u001b[38;5;241m.\u001b[39minput_hist_parsed\u001b[38;5;241m.\u001b[39mappend(source)\n\u001b[1;32m    781\u001b[0m \u001b[38;5;28mself\u001b[39m\u001b[38;5;241m.\u001b[39minput_hist_raw\u001b[38;5;241m.\u001b[39mappend(source_raw)\n\u001b[0;32m--> 783\u001b[0m \u001b[43m\u001b[49m\u001b[38;5;28;43;01mwith\u001b[39;49;00m\u001b[43m \u001b[49m\u001b[38;5;28;43mself\u001b[39;49m\u001b[38;5;241;43m.\u001b[39;49m\u001b[43mdb_input_cache_lock\u001b[49m\u001b[43m:\u001b[49m\n\u001b[1;32m    784\u001b[0m \u001b[43m    \u001b[49m\u001b[38;5;28;43mself\u001b[39;49m\u001b[38;5;241;43m.\u001b[39;49m\u001b[43mdb_input_cache\u001b[49m\u001b[38;5;241;43m.\u001b[39;49m\u001b[43mappend\u001b[49m\u001b[43m(\u001b[49m\u001b[43m(\u001b[49m\u001b[43mline_num\u001b[49m\u001b[43m,\u001b[49m\u001b[43m \u001b[49m\u001b[43msource\u001b[49m\u001b[43m,\u001b[49m\u001b[43m \u001b[49m\u001b[43msource_raw\u001b[49m\u001b[43m)\u001b[49m\u001b[43m)\u001b[49m\n\u001b[1;32m    785\u001b[0m \u001b[43m    \u001b[49m\u001b[38;5;66;43;03m# Trigger to flush cache and write to DB.\u001b[39;49;00m\n",
      "\u001b[0;31mKeyboardInterrupt\u001b[0m: "
     ]
    }
   ],
   "source": [
    "c = \"Osama\"\n",
    "d = (1, 2, 3, 4, 5)\n",
    "e = [\"A\", \"B\", \"C\"]\n",
    "f = {\"A\": 1, \"B\": 2}\n",
    "\n",
    "print(set(c))\n",
    "print(set(d))\n",
    "print(set(e))\n",
    "print(set(f))\n"
   ]
  },
  {
   "cell_type": "code",
   "execution_count": null,
   "metadata": {},
   "outputs": [],
   "source": [
    "d = ((\"A\", 1), (\"B\", 2), (\"C\", 3))\n",
    "e = [[\"One\", 1], [\"Two\", 2], [\"Three\", 3]]\n",
    "\n",
    "print(dict(d))\n",
    "print(dict(e))\n"
   ]
  },
  {
   "cell_type": "markdown",
   "metadata": {},
   "source": [
    "## 038 – User Input\n",
    "\n",
    "<a class=\"anchor\" id=\"38\"></a>\n"
   ]
  },
  {
   "cell_type": "code",
   "execution_count": null,
   "metadata": {},
   "outputs": [],
   "source": [
    "fName = input('What\\'s Is Your First Name?')\n",
    "mName = input('What\\'s Is Your Middle Name?')\n",
    "lName = input('What\\'s Is Your Last Name?')\n",
    "\n",
    "fName = fName.strip().capitalize()\n",
    "mName = mName.strip().capitalize()\n",
    "lName = lName.strip().capitalize()\n",
    "\n",
    "print(f\"Hello {fName} {mName:.1s} {lName} Happy To See You.\")\n"
   ]
  },
  {
   "cell_type": "markdown",
   "metadata": {},
   "source": [
    "## 039 – Practical – Email Slice\n",
    "\n",
    "<a class=\"anchor\" id=\"39\"></a>\n"
   ]
  },
  {
   "cell_type": "code",
   "execution_count": null,
   "metadata": {},
   "outputs": [],
   "source": [
    "email = \"Osama@elzero.org\"\n",
    "print(email[:email.index(\"@\")])\n"
   ]
  },
  {
   "cell_type": "code",
   "execution_count": null,
   "metadata": {},
   "outputs": [],
   "source": [
    "theName = input('What\\'s Your Name ?').strip().capitalize()\n",
    "theEmail = input('What\\'s Your Email ?').strip()\n",
    "\n",
    "theUsername = theEmail[:theEmail.index(\"@\")]\n",
    "theWebsite = theEmail[theEmail.index(\"@\") + 1:]\n",
    "\n",
    "print(f\"Hello {theName} Your Email Is {theEmail}\")\n"
   ]
  },
  {
   "cell_type": "code",
   "execution_count": null,
   "metadata": {},
   "outputs": [],
   "source": [
    "print(f\"Your Username Is {theUsername} \\nYour Website Is {theWebsite}\")\n"
   ]
  },
  {
   "cell_type": "markdown",
   "metadata": {},
   "source": [
    "## 040 – Practical – Your Age In Full Details\n",
    "\n",
    "<a class=\"anchor\" id=\"40\"></a>\n"
   ]
  },
  {
   "cell_type": "code",
   "execution_count": null,
   "metadata": {},
   "outputs": [],
   "source": [
    "age = int(input('What\\'s Your Age ? ').strip())\n",
    "\n",
    "months = age * 12\n",
    "weeks = months * 4\n",
    "days = age * 365\n",
    "hours = days * 24\n",
    "minutes = hours * 60\n",
    "seconds = minutes * 60\n"
   ]
  },
  {
   "cell_type": "code",
   "execution_count": null,
   "metadata": {},
   "outputs": [],
   "source": [
    "print('You Lived For:')\n",
    "print(f\"{months} Months.\")\n",
    "print(f\"{weeks:,} Weeks.\")\n",
    "print(f\"{days:,} Days.\")\n",
    "print(f\"{hours:,} Hours.\")\n",
    "print(f\"{minutes:,} Minutes.\")\n",
    "print(f\"{seconds:,} Seconds.\")\n"
   ]
  },
  {
   "cell_type": "markdown",
   "metadata": {},
   "source": [
    "# Week 6"
   ]
  },
  {
   "cell_type": "markdown",
   "metadata": {},
   "source": [
    "## 041 - Control Flow If, Elif, Else"
   ]
  },
  {
   "cell_type": "code",
   "execution_count": null,
   "metadata": {},
   "outputs": [],
   "source": [
    "uName = \"Osama\"\n",
    "uCountry = \"Kuwait\"\n",
    "cName = \"Python Course\"\n",
    "cPrice = 100\n"
   ]
  },
  {
   "cell_type": "code",
   "execution_count": null,
   "metadata": {},
   "outputs": [],
   "source": [
    "if uCountry == \"Egypt\":\n",
    "\n",
    "    print(f\"Hello {uName} Because You Are From {uCountry}\")\n",
    "    print(f\"The Course \\\"{cName}\\\" Price Is: ${cPrice - 80}\")\n",
    "\n",
    "elif uCountry == \"KSA\":\n",
    "\n",
    "    print(f\"Hello {uName} Because You Are From {uCountry}\")\n",
    "    print(f\"The Course \\\"{cName}\\\" Price Is: ${cPrice - 60}\")\n",
    "\n",
    "elif uCountry == \"Kuwait\":\n",
    "\n",
    "    print(f\"Hello {uName} Because You Are From {uCountry}\")\n",
    "    print(f\"The Course \\\"{cName}\\\" Price Is: ${cPrice - 50}\")\n",
    "\n",
    "else:\n",
    "\n",
    "    print(f\"Hello {uName} Because You Are From {uCountry}\")\n",
    "    print(f\"The Course \\\"{cName}\\\" Price Is: ${cPrice - 30}\")\n"
   ]
  },
  {
   "cell_type": "markdown",
   "metadata": {},
   "source": [
    "## 042 - Control Flow Nested If and Trainings"
   ]
  },
  {
   "cell_type": "code",
   "execution_count": null,
   "metadata": {},
   "outputs": [],
   "source": [
    "uName = \"Osama\"\n",
    "isStudent = \"Yes\"\n",
    "uCountry = \"Egypt\"\n",
    "cName = \"Python Course\"\n",
    "cPrice = 100\n"
   ]
  },
  {
   "cell_type": "code",
   "execution_count": null,
   "metadata": {},
   "outputs": [],
   "source": [
    "if uCountry == \"Egypt\" or uCountry == \"KSA\" or uCountry == \"Qatar\":\n",
    "\n",
    "    if isStudent == \"Yes\":\n",
    "\n",
    "        print(f\"Hi {uName} Because U R From {uCountry} And Student\")\n",
    "        print(f\"The Course \\\"{cName}\\\" Price Is: ${cPrice - 90}\")\n",
    "\n",
    "    else:\n",
    "\n",
    "        print(f\"Hi {uName} Because U R From {uCountry}\")\n",
    "        print(f\"The Course \\\"{cName}\\\" Price Is: ${cPrice - 80}\")\n",
    "\n",
    "\n",
    "elif uCountry == \"Kuwait\" or uCountry == \"Bahrain\":\n",
    "\n",
    "    print(f\"Hi {uName} Because U R From {uCountry}\")\n",
    "    print(f\"The Course \\\"{cName}\\\" Price Is: ${cPrice - 50}\")\n",
    "\n",
    "else:\n",
    "\n",
    "    print(f\"Hi {uName} Because U R From {uCountry}\")\n",
    "    print(f\"The Course \\\"{cName}\\\" Price Is: ${cPrice - 30}\")\n"
   ]
  },
  {
   "cell_type": "markdown",
   "metadata": {},
   "source": [
    "## 043 – Control Flow – Ternary Conditional Operator"
   ]
  },
  {
   "cell_type": "code",
   "execution_count": null,
   "metadata": {},
   "outputs": [],
   "source": [
    "country = \"A\"\n",
    "\n",
    "if country == \"Egypt\":\n",
    "    print(f\"The Weather in {country} Is 15\")\n",
    "elif country == \"KSA\":\n",
    "    print(f\"The Weather in {country} Is 30\")\n",
    "else:\n",
    "    print(\"Country is Not in The List\")\n"
   ]
  },
  {
   "cell_type": "code",
   "execution_count": null,
   "metadata": {},
   "outputs": [],
   "source": [
    "movieRate = 18\n",
    "age = 16\n"
   ]
  },
  {
   "cell_type": "code",
   "execution_count": null,
   "metadata": {},
   "outputs": [],
   "source": [
    "if age < movieRate:\n",
    "\n",
    "    print(\"Movie S Not Good 4U\")  # Condition If True\n",
    "\n",
    "else:\n",
    "\n",
    "    print(\"Movie S Good 4U And Happy Watching\")  # Condition If False\n"
   ]
  },
  {
   "cell_type": "code",
   "execution_count": null,
   "metadata": {},
   "outputs": [],
   "source": [
    "print(\"Movie S Not Good 4U\" if age <\n",
    "      movieRate else \"Movie S Good 4U And Happy Watching\")\n"
   ]
  },
  {
   "cell_type": "markdown",
   "metadata": {},
   "source": [
    "Condition If True | If Condition | Else | Condition If False\n"
   ]
  },
  {
   "cell_type": "markdown",
   "metadata": {},
   "source": [
    "## 044 – Calculate Age Advanced Version And Training"
   ]
  },
  {
   "cell_type": "code",
   "execution_count": null,
   "metadata": {},
   "outputs": [],
   "source": [
    "print(\"#\" * 80)\n",
    "print(\" You Can Write The First Letter Or Full Name of The Time Unit \".center(80, '#'))\n",
    "print(\"#\" * 80)\n"
   ]
  },
  {
   "cell_type": "code",
   "execution_count": null,
   "metadata": {},
   "outputs": [],
   "source": [
    "# Collect Age Data\n",
    "age = input(\"Please Write Your Age\").strip()\n"
   ]
  },
  {
   "cell_type": "code",
   "execution_count": null,
   "metadata": {},
   "outputs": [],
   "source": [
    "# Collect Time Unit Data\n",
    "unit = input(\"Please Choose Time Unit: Months, Weeks, Days \").strip().lower()\n"
   ]
  },
  {
   "cell_type": "code",
   "execution_count": null,
   "metadata": {},
   "outputs": [],
   "source": [
    "# Get Time Units\n",
    "months = int(age) * 12\n",
    "weeks = months * 4\n",
    "days = int(age) * 365\n"
   ]
  },
  {
   "cell_type": "code",
   "execution_count": null,
   "metadata": {},
   "outputs": [],
   "source": [
    "if unit == 'months' or unit == 'm':\n",
    "\n",
    "    print(\"You Choosed The Unit Months\")\n",
    "    print(f\"You Lived For {months:,} Months.\")\n",
    "\n",
    "elif unit == 'weeks' or unit == 'w':\n",
    "\n",
    "    print(\"You Choosed The Unit Weeks\")\n",
    "    print(f\"You Lived For {weeks:,} Weeks.\")\n",
    "\n",
    "elif unit == 'days' or unit == 'd':\n",
    "\n",
    "    print(\"You Choosed The Unit Days\")\n",
    "    print(f\"You Lived For {days:,} Days.\")\n"
   ]
  },
  {
   "cell_type": "markdown",
   "metadata": {},
   "source": [
    "## 045 – Membership Operators"
   ]
  },
  {
   "cell_type": "code",
   "execution_count": null,
   "metadata": {},
   "outputs": [],
   "source": [
    "# String\n",
    "name = \"Osama\"\n",
    "print(\"s\" in name)\n",
    "print(\"a\" in name)\n",
    "print(\"A\" in name)\n"
   ]
  },
  {
   "cell_type": "code",
   "execution_count": null,
   "metadata": {},
   "outputs": [],
   "source": [
    "# List\n",
    "friends = [\"Ahmed\", \"Sayed\", \"Mahmoud\"]\n",
    "print(\"Osama\" in friends)\n",
    "print(\"Sayed\" in friends)\n",
    "print(\"Mahmoud\" not in friends)\n"
   ]
  },
  {
   "cell_type": "code",
   "execution_count": null,
   "metadata": {},
   "outputs": [],
   "source": [
    "# Using In and Not In With Condition\n",
    "countriesOne = [\"Egypt\", \"KSA\", \"Kuwait\", \"Bahrain\", \"Syria\"]\n",
    "countriesOneDiscount = 80\n",
    "\n",
    "countriesTwo = [\"Italy\", \"USA\"]\n",
    "countriesTwoDiscount = 50\n"
   ]
  },
  {
   "cell_type": "code",
   "execution_count": null,
   "metadata": {},
   "outputs": [],
   "source": [
    "myCountry = \"Italy\"\n"
   ]
  },
  {
   "cell_type": "code",
   "execution_count": null,
   "metadata": {},
   "outputs": [],
   "source": [
    "if myCountry in countriesOne:\n",
    "\n",
    "    print(f\"Hello You Have A Discount Equal To ${countriesOneDiscount}\")\n",
    "\n",
    "elif myCountry in countriesTwo:\n",
    "\n",
    "    print(f\"Hello You Have A Discount Equal To ${countriesTwoDiscount}\")\n",
    "\n",
    "else:\n",
    "\n",
    "    print(\"You Have No Discount\")\n"
   ]
  },
  {
   "cell_type": "markdown",
   "metadata": {},
   "source": [
    "## 046 - Practical Membership Control"
   ]
  },
  {
   "cell_type": "code",
   "execution_count": null,
   "metadata": {},
   "outputs": [],
   "source": [
    "# List Contains Admins\n",
    "admins = [\"Ahmed\", \"Osama\", \"Sameh\", \"Manal\", \"Rahma\", \"Mahmoud\", \"Enas\"]\n"
   ]
  },
  {
   "cell_type": "code",
   "execution_count": null,
   "metadata": {},
   "outputs": [],
   "source": [
    "# Login\n",
    "name = input(\"Please Type Your Name \").strip().capitalize()\n"
   ]
  },
  {
   "cell_type": "code",
   "execution_count": null,
   "metadata": {},
   "outputs": [],
   "source": [
    "# If Name is In Admin\n",
    "if name in admins:\n",
    "\n",
    "    print(f\"Hello {name}, Welcome Back.\")\n",
    "\n",
    "    option = input(\"Delete Or Update Your Name ?\").strip().capitalize()\n",
    "\n",
    "    # Update Option\n",
    "    if option == 'Update' or option == 'U':\n",
    "\n",
    "        theNewName = input(\"Your New Name Please \").strip().capitalize()\n",
    "\n",
    "        admins[admins.index(name)] = theNewName\n",
    "\n",
    "        print(\"Name Updated.\")\n",
    "\n",
    "        print(admins)\n",
    "\n",
    "    # Delete Option\n",
    "    elif option == 'Delete' or option == 'D':\n",
    "\n",
    "        admins.remove(name)\n",
    "\n",
    "        print(\"Name Deleted\")\n",
    "\n",
    "        print(admins)\n",
    "\n",
    "    # Wrong Option\n",
    "    else:\n",
    "\n",
    "        print(\"Wrong Option Choosed\")\n",
    "\n",
    "# If Name is not In Admin\n",
    "else:\n",
    "\n",
    "    status = input(\"Not Admin, Add You Y, N ? \").strip().capitalize()\n",
    "\n",
    "    if status == \"Yes\" or status == \"Y\":\n",
    "\n",
    "        print(\"You Have Been Added\")\n",
    "\n",
    "        admins.append(name)\n",
    "\n",
    "        print(admins)\n",
    "\n",
    "    else:\n",
    "        print(\"You Are Not Added.\")\n"
   ]
  },
  {
   "cell_type": "markdown",
   "metadata": {},
   "source": [
    "# Week 7"
   ]
  },
  {
   "cell_type": "markdown",
   "metadata": {},
   "source": [
    "## 047 - Loop – While and Else"
   ]
  },
  {
   "cell_type": "markdown",
   "metadata": {},
   "source": [
    "```\n",
    "while condition_is_true  \n",
    "    Code Will Run Until Condition Become False```"
   ]
  },
  {
   "cell_type": "code",
   "execution_count": null,
   "metadata": {},
   "outputs": [],
   "source": [
    "a = 10\n",
    "\n",
    "while a < 15:\n",
    "\n",
    "    print(a)\n",
    "\n",
    "    a += 1  # a = a + 1\n",
    "else:\n",
    "    print(\"Loop is Done\")  # True Become False\n",
    "\n",
    "while False:\n",
    "\n",
    "    print(\"Will Not Print\")\n"
   ]
  },
  {
   "cell_type": "code",
   "execution_count": null,
   "metadata": {},
   "outputs": [],
   "source": [
    "a = 10\n",
    "\n",
    "while a < 15:\n",
    "\n",
    "    print(a)\n",
    "\n",
    "    a += 1  # a = a + 1\n",
    "\n",
    "print(\"Loop is Done\")  # True Become False\n",
    "\n",
    "while False:\n",
    "\n",
    "    print(\"Will Not Print\")\n"
   ]
  },
  {
   "cell_type": "code",
   "execution_count": null,
   "metadata": {},
   "outputs": [],
   "source": [
    "a = 15\n",
    "\n",
    "while a < 15:\n",
    "\n",
    "    print(a)\n",
    "\n",
    "    a += 1  # a = a + 1\n",
    "\n",
    "print(\"Loop is Done\")  # True Become False\n",
    "\n",
    "while False:\n",
    "    print(\"Will Not Print\")\n"
   ]
  },
  {
   "cell_type": "markdown",
   "metadata": {},
   "source": [
    "## 048 – Loop – While Trainings"
   ]
  },
  {
   "cell_type": "code",
   "execution_count": null,
   "metadata": {},
   "outputs": [],
   "source": [
    "myF = [\"Os\", \"Ah\", \"Ga\", \"Al\", \"Ra\", \"Sa\", \"Ta\", \"Ma\", \"Mo\", \"Wa\"]\n",
    "print(myF)\n"
   ]
  },
  {
   "cell_type": "code",
   "execution_count": null,
   "metadata": {},
   "outputs": [],
   "source": [
    "print(myF[0])\n",
    "print(myF[1])\n",
    "print(myF[2])\n",
    "print(myF[9])\n"
   ]
  },
  {
   "cell_type": "code",
   "execution_count": null,
   "metadata": {},
   "outputs": [],
   "source": [
    "print(len(myF))\n"
   ]
  },
  {
   "cell_type": "code",
   "execution_count": null,
   "metadata": {},
   "outputs": [],
   "source": [
    "a = 0\n",
    "\n",
    "while a < len(myF):  # a < 10\n",
    "\n",
    "    print(myF[a])\n",
    "\n",
    "    a += 1  # a = a + 1\n",
    "\n",
    "else:\n",
    "\n",
    "    print(\"All Friends Printed To Screen.\")\n"
   ]
  },
  {
   "cell_type": "code",
   "execution_count": null,
   "metadata": {},
   "outputs": [],
   "source": [
    "a = 0\n",
    "\n",
    "while a < len(myF):  # a < 10\n",
    "    # a+1 to make zfill start with 001\n",
    "    print(f\"#{str(a + 1).zfill(2)} {myF[a]}\")\n",
    "\n",
    "    a += 1  # a = a + 1\n",
    "\n",
    "else:\n",
    "\n",
    "    print(\"All Friends Printed To Screen.\")\n"
   ]
  },
  {
   "cell_type": "markdown",
   "metadata": {},
   "source": [
    "## 049 – Loop – While Trainings Bookmark Manager"
   ]
  },
  {
   "cell_type": "code",
   "execution_count": null,
   "metadata": {},
   "outputs": [],
   "source": [
    "# Empty List To Fill Later\n",
    "myFavouriteWebs = []\n",
    "\n",
    "# Maximum Allowed Websites\n",
    "maximumWebs = 2\n"
   ]
  },
  {
   "cell_type": "code",
   "execution_count": null,
   "metadata": {},
   "outputs": [],
   "source": [
    "while maximumWebs > 0:\n",
    "\n",
    "    # Input The New Website\n",
    "    web = input(\"Website Name Without https:// \")\n",
    "\n",
    "    # Add The New Website To The List\n",
    "    myFavouriteWebs.append(f\"https://{web.strip().lower()}\")\n",
    "\n",
    "    # Decrease One Number From Allowed Websites\n",
    "    maximumWebs -= 1  # maximumWebs = maximumWebs - 1\n",
    "\n",
    "    # Print The Add Message\n",
    "    print(f\"Website Added, {maximumWebs} Places Left\")\n",
    "\n",
    "    # Print The List\n",
    "    print(myFavouriteWebs)\n",
    "\n",
    "else:\n",
    "\n",
    "    print(\"Bookmark Is Full, You Cant Add More\")\n"
   ]
  },
  {
   "cell_type": "code",
   "execution_count": null,
   "metadata": {},
   "outputs": [],
   "source": [
    "# Check If List Is Not Empty\n",
    "if len(myFavouriteWebs) > 0:\n",
    "\n",
    "    # Sort The List\n",
    "    myFavouriteWebs.sort()\n",
    "\n",
    "    index = 0\n",
    "\n",
    "    print(\"Printing The List Of Websites in Your Bookmark\")\n",
    "\n",
    "    while index < len(myFavouriteWebs):\n",
    "\n",
    "        print(myFavouriteWebs[index])\n",
    "\n",
    "        index += 1  # index = index + 1\n"
   ]
  },
  {
   "cell_type": "markdown",
   "metadata": {},
   "source": [
    "## 050 – Loop – While Trainings Password Guess"
   ]
  },
  {
   "cell_type": "code",
   "execution_count": null,
   "metadata": {},
   "outputs": [],
   "source": [
    "tries = 2\n",
    "\n",
    "mainPassword = \"123\"\n",
    "\n",
    "inputPassword = input(\"Write Your Password: \")\n",
    "\n",
    "while inputPassword != mainPassword:  # True\n",
    "\n",
    "    tries -= 1  # tries = tries - 1\n",
    "\n",
    "    print(f\"Wrong Password, { 'Last' if tries == 0 else tries } Chance Left\")\n",
    "\n",
    "    inputPassword = input(\"Write Your Password: \")\n",
    "\n",
    "    if tries == 0:\n",
    "\n",
    "        print(\"All Tries Is Finished.\")\n",
    "\n",
    "        break  # exits the loop\n",
    "\n",
    "        print(\"Will Not Print\")  # will not be printed\n",
    "\n",
    "else:\n",
    "\n",
    "    print(\"Correct Password\")\n"
   ]
  },
  {
   "cell_type": "markdown",
   "metadata": {},
   "source": [
    "## 051 – Loop – For And Else"
   ]
  },
  {
   "cell_type": "markdown",
   "metadata": {},
   "source": [
    "```\n",
    "for item in iterable_object :\n",
    "    Do Something With Item\n",
    "```\n",
    "\n",
    "item Is A Vairable You Create and Call Whenever You Want  \n",
    "item refer to the current position and will run and visit all items to the end  \n",
    "iterable_object => Sequence [ list, tuples, set, dict, string of charcaters, etc ... ]\n"
   ]
  },
  {
   "cell_type": "code",
   "execution_count": null,
   "metadata": {},
   "outputs": [],
   "source": [
    "myNumbers = [1, 2, 3, 4, 5]\n",
    "print(myNumbers)\n"
   ]
  },
  {
   "cell_type": "code",
   "execution_count": null,
   "metadata": {},
   "outputs": [],
   "source": [
    "for number in myNumbers:\n",
    "    print(number)\n"
   ]
  },
  {
   "cell_type": "code",
   "execution_count": null,
   "metadata": {},
   "outputs": [],
   "source": [
    "# check if the number is even.\n",
    "for number in myNumbers:\n",
    "\n",
    "    if number % 2 == 0:  # Even\n",
    "\n",
    "        print(f\"The Number {number} Is Even.\")\n",
    "\n",
    "    else:\n",
    "\n",
    "        print(f\"The Number {number} Is Odd.\")\n",
    "\n",
    "else:\n",
    "\n",
    "    print(\"The Loop Is Finished\")\n"
   ]
  },
  {
   "cell_type": "code",
   "execution_count": null,
   "metadata": {},
   "outputs": [],
   "source": [
    "myName = \"Osama\"\n",
    "\n",
    "for letter in myName:\n",
    "    print(letter)\n"
   ]
  },
  {
   "cell_type": "code",
   "execution_count": null,
   "metadata": {},
   "outputs": [],
   "source": [
    "myName = \"Osama\"\n",
    "\n",
    "for letter in myName:\n",
    "    print(f\" [ {letter.upper()} ] \")\n"
   ]
  },
  {
   "cell_type": "markdown",
   "metadata": {},
   "source": [
    "## 052 – Loop – For Trainings"
   ]
  },
  {
   "cell_type": "code",
   "execution_count": null,
   "metadata": {},
   "outputs": [],
   "source": [
    "myRange = range(0, 6)\n",
    "\n",
    "for number in myRange:\n",
    "\n",
    "    print(number)\n"
   ]
  },
  {
   "cell_type": "code",
   "execution_count": null,
   "metadata": {},
   "outputs": [],
   "source": [
    "for number in range(6):\n",
    "    print(number)\n"
   ]
  },
  {
   "cell_type": "code",
   "execution_count": null,
   "metadata": {},
   "outputs": [],
   "source": [
    "mySkills = {\n",
    "    \"Html\": \"90%\",\n",
    "    \"Css\": \"60%\",\n",
    "    \"PHP\": \"70%\",\n",
    "    \"JS\": \"80%\",\n",
    "    \"Python\": \"90%\",\n",
    "    \"MySQL\": \"60%\"\n",
    "}\n",
    "\n",
    "print(mySkills['JS'])\n",
    "print(mySkills.get(\"Python\"))\n"
   ]
  },
  {
   "cell_type": "code",
   "execution_count": null,
   "metadata": {},
   "outputs": [],
   "source": [
    "# looping on dictionary\n",
    "# will print the keys\n",
    "for skill in mySkills:\n",
    "    print(skill)\n"
   ]
  },
  {
   "cell_type": "code",
   "execution_count": null,
   "metadata": {},
   "outputs": [],
   "source": [
    "for skill in mySkills:\n",
    "    print(f\"My Progress in Lang {skill} Is: {mySkills[skill]}\")\n"
   ]
  },
  {
   "cell_type": "markdown",
   "metadata": {},
   "source": [
    "## 053 – Loop – For Nested Loop"
   ]
  },
  {
   "cell_type": "code",
   "execution_count": null,
   "metadata": {},
   "outputs": [],
   "source": [
    "people = [\"Osama\", \"Ahmed\", \"Sayed\", \"Ali\"]\n",
    "skills = ['Html', 'Css', 'Js']\n"
   ]
  },
  {
   "cell_type": "code",
   "execution_count": null,
   "metadata": {},
   "outputs": [],
   "source": [
    "for name in people:  # Outer Loop\n",
    "    print(f\"{name} Skills are: \")\n",
    "    for skill in skills:  # Inner Loop\n",
    "        print(f\"- {skill}\")\n"
   ]
  },
  {
   "cell_type": "code",
   "execution_count": null,
   "metadata": {},
   "outputs": [],
   "source": [
    "people = {\n",
    "    \"Osama\": {\n",
    "        \"Html\": \"70%\",\n",
    "        \"Css\": \"80%\",\n",
    "        \"Js\": \"70%\"\n",
    "    },\n",
    "    \"Ahmed\": {\n",
    "        \"Html\": \"90%\",\n",
    "        \"Css\": \"80%\",\n",
    "        \"Js\": \"90%\"\n",
    "    },\n",
    "    \"Sayed\": {\n",
    "        \"Html\": \"70%\",\n",
    "        \"Css\": \"60%\",\n",
    "        \"Js\": \"90%\"\n",
    "    }\n",
    "}\n"
   ]
  },
  {
   "cell_type": "code",
   "execution_count": null,
   "metadata": {},
   "outputs": [],
   "source": [
    "print(people[\"Ahmed\"])\n",
    "print(people[\"Ahmed\"]['Css'])\n"
   ]
  },
  {
   "cell_type": "code",
   "execution_count": null,
   "metadata": {},
   "outputs": [],
   "source": [
    "for name in people:\n",
    "    print(f\"Skills and Progress For {name} are: \")\n",
    "    for skill in people[name]:\n",
    "        print(f\"{skill.upper()} => {people[name][skill]}\")\n"
   ]
  },
  {
   "cell_type": "markdown",
   "metadata": {},
   "source": [
    "## 054 – Break, Continue, Pass"
   ]
  },
  {
   "cell_type": "code",
   "execution_count": null,
   "metadata": {},
   "outputs": [],
   "source": [
    "myNumbers = [1, 2, 3, 4, 5]\n"
   ]
  },
  {
   "cell_type": "code",
   "execution_count": null,
   "metadata": {},
   "outputs": [],
   "source": [
    "for number in myNumbers:\n",
    "    if number == 2:\n",
    "        continue  # skips this number\n",
    "    print(number)\n"
   ]
  },
  {
   "cell_type": "code",
   "execution_count": null,
   "metadata": {},
   "outputs": [],
   "source": [
    "for number in myNumbers:\n",
    "    if number == 2:\n",
    "        break  # will stop the loop\n",
    "    print(number)\n"
   ]
  },
  {
   "cell_type": "code",
   "execution_count": null,
   "metadata": {},
   "outputs": [],
   "source": [
    "for number in myNumbers:\n",
    "    if number == 2:\n",
    "        pass  # will add a feature later, go on for now\n",
    "    print(number)\n"
   ]
  },
  {
   "cell_type": "markdown",
   "metadata": {},
   "source": [
    "## 055 – Loop Advanced Dictionary"
   ]
  },
  {
   "cell_type": "code",
   "execution_count": null,
   "metadata": {},
   "outputs": [],
   "source": [
    "mySkills = {\n",
    "    \"HTML\": \"80%\",\n",
    "    \"CSS\": \"90%\",\n",
    "    \"JS\": \"70%\",\n",
    "    \"PHP\": \"80%\"\n",
    "}\n"
   ]
  },
  {
   "cell_type": "code",
   "execution_count": null,
   "metadata": {},
   "outputs": [],
   "source": [
    "print(mySkills.items())\n"
   ]
  },
  {
   "cell_type": "code",
   "execution_count": null,
   "metadata": {},
   "outputs": [],
   "source": [
    "for skill in mySkills:\n",
    "\n",
    "    print(f\"{skill} => {mySkills[skill]}\")\n"
   ]
  },
  {
   "cell_type": "code",
   "execution_count": null,
   "metadata": {},
   "outputs": [],
   "source": [
    "for skill_key, skill_progress in mySkills.items():\n",
    "\n",
    "    print(f\"{skill_key} => {skill_progress}\")\n"
   ]
  },
  {
   "cell_type": "code",
   "execution_count": null,
   "metadata": {},
   "outputs": [],
   "source": [
    "myUltimateSkills = {\n",
    "    \"HTML\": {\n",
    "        \"Main\": \"80%\",\n",
    "        \"Pugjs\": \"80%\"\n",
    "    },\n",
    "    \"CSS\": {\n",
    "        \"Main\": \"90%\",\n",
    "        \"Sass\": \"70%\"\n",
    "    }\n",
    "}\n"
   ]
  },
  {
   "cell_type": "code",
   "execution_count": null,
   "metadata": {},
   "outputs": [],
   "source": [
    "for main_key, main_value in myUltimateSkills.items():\n",
    "\n",
    "    print(f\"{main_key} Progress Is: \")\n",
    "\n",
    "    for child_key, child_value in main_value.items():\n",
    "\n",
    "        print(f\"- {child_key} => {child_value}\")\n"
   ]
  },
  {
   "cell_type": "markdown",
   "metadata": {},
   "source": [
    "# Week 8"
   ]
  },
  {
   "cell_type": "markdown",
   "metadata": {},
   "source": [
    "## 056 – Function and Return"
   ]
  },
  {
   "cell_type": "markdown",
   "metadata": {},
   "source": [
    "[1] A Function is A Reusable Block Of Code Do A Task  \n",
    "[2] A Function Run When You Call It  \n",
    "[3] A Function Accept Element To Deal With Called [Parameters]  \n",
    "[4] A Function Can Do The Task Without Returning Data  \n",
    "[5] A Function Can Return Data After Job is Finished  \n",
    "[6] A Function Create To Prevent DRY  \n",
    "[7] A Function Accept Elements When You Call It Called [Arguments]  \n",
    "[8] There's A Built-In Functions and User Defined Functions  \n",
    "[9] A Function Is For All Team and All Apps\n"
   ]
  },
  {
   "cell_type": "code",
   "execution_count": null,
   "metadata": {},
   "outputs": [],
   "source": [
    "def function_name():\n",
    "\n",
    "    return \"Hello Python From Inside Function\"\n",
    "\n",
    "\n",
    "dataFromFunction = function_name()\n",
    "\n",
    "print(dataFromFunction)\n"
   ]
  },
  {
   "cell_type": "code",
   "execution_count": null,
   "metadata": {},
   "outputs": [],
   "source": [
    "def function_name():\n",
    "\n",
    "    print(\"Hello Python From Inside Function\")\n",
    "\n",
    "\n",
    "function_name()\n"
   ]
  },
  {
   "cell_type": "markdown",
   "metadata": {},
   "source": [
    "## 057 – Function Parameters And Arguments"
   ]
  },
  {
   "cell_type": "code",
   "execution_count": null,
   "metadata": {},
   "outputs": [],
   "source": [
    "a, b, c = \"Osama\", \"Ahmed\", \"Sayed\"\n",
    "\n",
    "print(f\"Hello {a}\")\n",
    "print(f\"Hello {b}\")\n",
    "print(f\"Hello {c}\")\n"
   ]
  },
  {
   "cell_type": "code",
   "execution_count": null,
   "metadata": {},
   "outputs": [],
   "source": [
    "\n",
    "# def                     => Function Keyword [Define]\n",
    "# say_hello()             => Function Name\n",
    "# name                    => Parameter\n",
    "# print(f\"Hello {name}\")  => Task\n",
    "# say_hello(\"Ahmed\")      => Ahmed is The Argument\n"
   ]
  },
  {
   "cell_type": "code",
   "execution_count": null,
   "metadata": {},
   "outputs": [],
   "source": [
    "def say_hello(name):\n",
    "    print(f\"Hello {name}\")\n",
    "\n",
    "\n",
    "say_hello(\"ahmed\")\n"
   ]
  },
  {
   "cell_type": "code",
   "execution_count": null,
   "metadata": {},
   "outputs": [],
   "source": [
    "def say_hello(n):\n",
    "    print(f\"Hello {n}\")\n",
    "\n",
    "\n",
    "say_hello(\"ahmed\")\n"
   ]
  },
  {
   "cell_type": "code",
   "execution_count": null,
   "metadata": {},
   "outputs": [],
   "source": [
    "a, b, c = \"Osama\", \"Ahmed\", \"Sayed\"\n",
    "say_hello(a)\n",
    "say_hello(b)\n",
    "say_hello(c)\n"
   ]
  },
  {
   "cell_type": "code",
   "execution_count": null,
   "metadata": {},
   "outputs": [],
   "source": [
    "def addition(n1, n2):\n",
    "    print(n1 + n2)\n",
    "\n",
    "\n",
    "addition(20, 50)  # must be two arguements\n"
   ]
  },
  {
   "cell_type": "code",
   "execution_count": null,
   "metadata": {},
   "outputs": [],
   "source": [
    "def addition(n1, n2):\n",
    "    if type(n1) != int or type(n2) != int:\n",
    "        print(\"Only integers allowed\")\n",
    "    else:\n",
    "        print(n1 + n2)\n",
    "\n",
    "\n",
    "addition(20, \"ahmed\")\n"
   ]
  },
  {
   "cell_type": "code",
   "execution_count": null,
   "metadata": {},
   "outputs": [],
   "source": [
    "def full_name(first, middle, last):\n",
    "    print(\n",
    "        f\"Hello {first.strip().capitalize()} {middle.upper():.1s} {last.capitalize()} \")\n",
    "\n",
    "\n",
    "full_name(\"   osama   \", 'mohamed', \"elsayed\")\n"
   ]
  },
  {
   "cell_type": "markdown",
   "metadata": {},
   "source": [
    "## 058 – Function Packing, Unpacking Arguments"
   ]
  },
  {
   "cell_type": "code",
   "execution_count": null,
   "metadata": {},
   "outputs": [],
   "source": [
    "print(1, 2, 3, 4)\n"
   ]
  },
  {
   "cell_type": "code",
   "execution_count": null,
   "metadata": {},
   "outputs": [],
   "source": [
    "myList = [1, 2, 3, 4]\n",
    "\n",
    "print(myList)  # list\n",
    "print(*myList)  # unpack the list\n"
   ]
  },
  {
   "cell_type": "code",
   "execution_count": null,
   "metadata": {},
   "outputs": [],
   "source": [
    "def say_hello(n1, n2, n3, n4):\n",
    "    peoples = [n1, n2, n3, n4]\n",
    "\n",
    "    for name in peoples:\n",
    "        print(f\"Hello {name}\")\n",
    "\n",
    "\n",
    "say_hello(\"Osama\", \"Ahmed\", \"Sayed\", \"Mahmoud\")  # must be 4 names\n"
   ]
  },
  {
   "cell_type": "code",
   "execution_count": null,
   "metadata": {},
   "outputs": [],
   "source": [
    "def say_hello(*peoples):\n",
    "\n",
    "    for name in peoples:\n",
    "        print(f\"Hello {name}\")\n",
    "\n",
    "\n",
    "say_hello(\"ahmed\", \"darwish\")  # any number of people\n"
   ]
  },
  {
   "cell_type": "code",
   "execution_count": null,
   "metadata": {},
   "outputs": [],
   "source": [
    "def show_details(skill1, skill2, skill3):\n",
    "    print(f\"hello osama, your skills are: \")\n",
    "\n",
    "    print(f\"{skill1}\")\n",
    "    print(f\"{skill2}\")\n",
    "    print(f\"{skill3}\")\n",
    "\n",
    "\n",
    "show_details(\"html\", \"css\", \"js\")  # must be three\n"
   ]
  },
  {
   "cell_type": "code",
   "execution_count": null,
   "metadata": {},
   "outputs": [],
   "source": [
    "def show_details(*skills):\n",
    "    print(f\"hello osama, your skills are: \")\n",
    "\n",
    "    for skill in skills:\n",
    "        print(skill)\n",
    "\n",
    "\n",
    "show_details(\"html\", \"css\", \"js\", \"python\")\n"
   ]
  },
  {
   "cell_type": "code",
   "execution_count": null,
   "metadata": {},
   "outputs": [],
   "source": [
    "def show_details(name, *skills):\n",
    "    print(f\"hello {name}, your skills are: \")\n",
    "\n",
    "    for skill in skills:\n",
    "        print(skill, end=\" \")\n",
    "\n",
    "\n",
    "show_details(\"ahmed\", \"html\", \"css\", \"js\", \"python\")\n",
    "show_details(\"osama\", \"js\")\n"
   ]
  },
  {
   "cell_type": "markdown",
   "metadata": {},
   "source": [
    "## 059 - Function Default Parameters"
   ]
  },
  {
   "cell_type": "code",
   "execution_count": null,
   "metadata": {},
   "outputs": [],
   "source": [
    "def say_hello(name, age, country):\n",
    "\n",
    "    print(f\"Hello {name} Your Age is {age} and Your Country Is {country}\")\n",
    "\n",
    "\n",
    "say_hello(\"Osama\", 36, \"Egypt\")\n",
    "say_hello(\"Mahmoud\", 28, \"KSA\")  # must enter 3 arguements\n"
   ]
  },
  {
   "cell_type": "code",
   "execution_count": null,
   "metadata": {},
   "outputs": [],
   "source": [
    "def say_hello(name=\"Unknown\", age=\"Unknown\", country=\"Unknown\"):\n",
    "\n",
    "    print(f\"Hello {name} Your Age is {age} and Your Country Is {country}\")\n",
    "\n",
    "\n",
    "say_hello(\"Osama\", 36, \"Egypt\")\n",
    "say_hello(\"Mahmoud\", 28, \"KSA\")\n",
    "say_hello(\"Sameh\", 38)\n",
    "say_hello(\"Ramy\")\n",
    "say_hello()  # prints unknown if not provided\n",
    "\n",
    "# if you provide only one default,it must be the last parameter\n",
    "# def say_hello(name=\"Unknown\", age, country):   error\n"
   ]
  },
  {
   "cell_type": "markdown",
   "metadata": {},
   "source": [
    "## 060 – Function Packing, Unpacking Keyword Arguments"
   ]
  },
  {
   "cell_type": "code",
   "execution_count": null,
   "metadata": {},
   "outputs": [],
   "source": [
    "def show_skills(*skills):\n",
    "\n",
    "    for skill in skills:\n",
    "        print(f\"{skill}\")\n",
    "\n",
    "\n",
    "show_skills(\"Html\", \"CSS\", \"JS\")\n"
   ]
  },
  {
   "cell_type": "code",
   "execution_count": null,
   "metadata": {},
   "outputs": [],
   "source": [
    "def show_skills(*skills):\n",
    "\n",
    "    print(type(skills))  # tuple\n",
    "\n",
    "    for skill in skills:\n",
    "        print(f\"{skill}\")\n",
    "\n",
    "\n",
    "show_skills(\"Html\", \"CSS\", \"JS\")\n"
   ]
  },
  {
   "cell_type": "code",
   "execution_count": null,
   "metadata": {},
   "outputs": [],
   "source": [
    "def show_skills(**skills):\n",
    "\n",
    "    print(type(skills))  # dict\n",
    "\n",
    "    for skill, value in skills.items():\n",
    "        print(f\"{skill} => {value}\")\n",
    "\n",
    "\n",
    "mySkills = {\n",
    "    'Html': \"80%\",\n",
    "    'Css': \"70%\",\n",
    "    'Js': \"50%\",\n",
    "    'Python': \"80%\",\n",
    "    \"Go\": \"40%\"\n",
    "}\n",
    "\n",
    "show_skills(**mySkills)\n",
    "\n",
    "print(\"---------------\")\n",
    "\n",
    "show_skills(Html=\"80%\", CSS=\"70%\", JS=\"50%\")\n"
   ]
  },
  {
   "cell_type": "markdown",
   "metadata": {},
   "source": [
    "## 061 – Function Packing, Unpacking Arguments Trainings"
   ]
  },
  {
   "cell_type": "code",
   "execution_count": null,
   "metadata": {},
   "outputs": [],
   "source": [
    "def show_skills(name, *skills):\n",
    "\n",
    "    print(f\"Hello {name}\\nskills without progress are: \")\n",
    "\n",
    "    for skill in skills:\n",
    "        print(f\"- {skill}\")\n",
    "\n",
    "\n",
    "show_skills(\"osama\", \"html\", \"css\", \"js\")\n"
   ]
  },
  {
   "cell_type": "code",
   "execution_count": null,
   "metadata": {},
   "outputs": [],
   "source": [
    "def show_skills(name, *skills, **skillsWithProgres):\n",
    "\n",
    "    print(f\"Hello {name} \\nSkills Without Progress are: \")\n",
    "\n",
    "    for skill in skills:\n",
    "        print(f\"- {skill}\")\n",
    "\n",
    "    print(\"Skills With Progress are: \")\n",
    "\n",
    "    for skill_key, skill_value in skillsWithProgres.items():\n",
    "        print(f\"- {skill_key} => {skill_value}\")\n",
    "\n",
    "\n",
    "show_skills(\"osama\")\n",
    "print(\"-----------\")\n",
    "show_skills(\"Osama\", \"html\", \"css\", \"js\", python=\"50%\")\n"
   ]
  },
  {
   "cell_type": "code",
   "execution_count": null,
   "metadata": {},
   "outputs": [],
   "source": [
    "myTuple = (\"Html\", \"CSS\", \"JS\")\n",
    "\n",
    "mySkills = {\n",
    "    'Go': \"80%\",\n",
    "    'Python': \"50%\",\n",
    "    'MySQL': \"80%\"\n",
    "}\n",
    "\n",
    "show_skills(\"Osama\", *myTuple, **mySkills)\n"
   ]
  },
  {
   "cell_type": "markdown",
   "metadata": {},
   "source": [
    "## 062 – Function Scope"
   ]
  },
  {
   "cell_type": "code",
   "execution_count": null,
   "metadata": {},
   "outputs": [],
   "source": [
    "x = 1\n",
    "print(f\"varible in global scope: {x}\")\n"
   ]
  },
  {
   "cell_type": "code",
   "execution_count": null,
   "metadata": {},
   "outputs": [],
   "source": [
    "x = 1\n",
    "\n",
    "\n",
    "def one():\n",
    "    x = 2\n",
    "    print(f\"variable in function scope: {x}\")\n",
    "\n",
    "\n",
    "print(f\"varible in global scope: {x}\")\n",
    "one()\n"
   ]
  },
  {
   "cell_type": "code",
   "execution_count": null,
   "metadata": {},
   "outputs": [],
   "source": [
    "x = 1\n",
    "\n",
    "\n",
    "def one():\n",
    "    x = 2\n",
    "    print(f\"variable in function one scope: {x}\")\n",
    "\n",
    "\n",
    "def two():\n",
    "    x = 4\n",
    "    print(f\"variable in function two scope: {x}\")\n",
    "\n",
    "\n",
    "print(f\"varible in global scope: {x}\")\n",
    "one()\n",
    "two()\n"
   ]
  },
  {
   "cell_type": "code",
   "execution_count": null,
   "metadata": {},
   "outputs": [],
   "source": [
    "x = 1\n",
    "\n",
    "\n",
    "def one():\n",
    "    x = 2\n",
    "    print(f\"variable in function one scope: {x}\")\n",
    "\n",
    "\n",
    "def two():\n",
    "\n",
    "    print(f\"variable in function two scope: {x}\")  # from global\n",
    "\n",
    "\n",
    "print(f\"varible in global scope: {x}\")\n",
    "one()\n",
    "two()\n"
   ]
  },
  {
   "cell_type": "code",
   "execution_count": null,
   "metadata": {},
   "outputs": [],
   "source": [
    "x = 1\n",
    "\n",
    "\n",
    "def one():\n",
    "    global x\n",
    "\n",
    "    x = 2\n",
    "    print(f\"variable in function one scope: {x}\")\n",
    "\n",
    "\n",
    "def two():\n",
    "    x = 4\n",
    "    print(f\"variable in function two scope: {x}\")\n",
    "\n",
    "\n",
    "print(f\"varible in global scope: {x}\")\n",
    "one()\n",
    "two()\n",
    "print(f\"varible in global scope after function one: {x}\")\n"
   ]
  },
  {
   "cell_type": "code",
   "execution_count": null,
   "metadata": {},
   "outputs": [],
   "source": [
    "def one():\n",
    "    global t\n",
    "\n",
    "    t = 10\n",
    "    print(f\"variable in function one scope: {t}\")\n",
    "\n",
    "\n",
    "def two():\n",
    "    print(f\"variable in function two scope: {t}\")\n",
    "\n",
    "\n",
    "# print(f\"varible in global scope: {x}\")  error\n",
    "one()\n",
    "two()\n",
    "print(f\"varible in global scope after function one: {t}\")\n"
   ]
  },
  {
   "cell_type": "markdown",
   "metadata": {},
   "source": [
    "## 063 – Function Recursion"
   ]
  },
  {
   "cell_type": "code",
   "execution_count": null,
   "metadata": {},
   "outputs": [],
   "source": [
    "x = \"wooorrldd\"\n",
    "print(x[1:])\n"
   ]
  },
  {
   "cell_type": "code",
   "execution_count": null,
   "metadata": {},
   "outputs": [],
   "source": [
    "def cleanWord(word):\n",
    "    if len(word) == 1:\n",
    "        return word\n",
    "\n",
    "    if word[0] == word[1]:\n",
    "        return cleanWord(word[1:])\n",
    "\n",
    "    return word\n",
    "\n",
    "\n",
    "print(cleanWord(\"wwwoorrlldd\"))\n"
   ]
  },
  {
   "cell_type": "code",
   "execution_count": null,
   "metadata": {},
   "outputs": [],
   "source": [
    "def cleanWord(word):\n",
    "    if len(word) == 1:\n",
    "        return word\n",
    "\n",
    "    if word[0] == word[1]:\n",
    "        return cleanWord(word[1:])\n",
    "\n",
    "    return word[0] + cleanWord(word[1:])\n",
    "    # Stash [ World ]\n",
    "\n",
    "\n",
    "print(cleanWord(\"wwwoorrlldd\"))\n"
   ]
  },
  {
   "cell_type": "code",
   "execution_count": null,
   "metadata": {},
   "outputs": [],
   "source": [
    "def cleanWord(word):\n",
    "    if len(word) == 1:\n",
    "        return word\n",
    "\n",
    "    print(f\"print start function {word}\")\n",
    "\n",
    "    if word[0] == word[1]:\n",
    "\n",
    "        print(f\"print before condition {word}\")\n",
    "\n",
    "        return cleanWord(word[1:])\n",
    "\n",
    "    print(f\"before return {word}\")\n",
    "    print(\"-----------------------\")\n",
    "    return word[0] + cleanWord(word[1:])\n",
    "    # Stash [ World ]\n",
    "\n",
    "\n",
    "print(cleanWord(\"wwwoorrlldd\"))\n"
   ]
  },
  {
   "cell_type": "markdown",
   "metadata": {},
   "source": [
    "## 064 – Function Lambda"
   ]
  },
  {
   "cell_type": "markdown",
   "metadata": {},
   "source": [
    "[1] It Has No Name  \n",
    "[2] You Can Call It Inline Without Defining It  \n",
    "[3] You Can Use It In Return Data From Another Function  \n",
    "[4] Lambda Used For Simple Functions and Def Handle The Large Tasks  \n",
    "[5] Lambda is One Single Expression not Block Of Code  \n",
    "[6] Lambda Type is Function\n"
   ]
  },
  {
   "cell_type": "code",
   "execution_count": null,
   "metadata": {},
   "outputs": [],
   "source": [
    "def say_hello(name, age): return f\"Hello {name} your Age Is: {age}\"\n",
    "\n",
    "\n",
    "print(say_hello(\"Ahmed\", 36))\n",
    "\n",
    "\n",
    "def hello(name, age): return f\"Hello {name} your Age Is: {age}\"\n",
    "\n",
    "\n",
    "print(hello(\"Ahmed\", 36))\n"
   ]
  },
  {
   "cell_type": "code",
   "execution_count": null,
   "metadata": {},
   "outputs": [],
   "source": [
    "print(say_hello.__name__)\n",
    "print(hello.__name__)\n"
   ]
  },
  {
   "cell_type": "code",
   "execution_count": null,
   "metadata": {},
   "outputs": [],
   "source": [
    "print(type(say_hello))\n",
    "print(type(hello))\n"
   ]
  },
  {
   "cell_type": "markdown",
   "metadata": {},
   "source": [
    "# Week 9"
   ]
  },
  {
   "cell_type": "markdown",
   "metadata": {},
   "source": [
    "## 065 - Files Handling – Part 1 Intro"
   ]
  },
  {
   "cell_type": "markdown",
   "metadata": {},
   "source": [
    "\"a\" Append Open File For Appending Values, Create File If Not Exists  \n",
    "\"r\" Read [Default Value] Open File For Read and Give Error If File is Not Exists  \n",
    "\"w\" Write Open File For Writing, Create File If Not Exists  \n",
    "\"x\" Create Create File, Give Error If File Exists\n"
   ]
  },
  {
   "cell_type": "markdown",
   "metadata": {},
   "source": [
    "> file = open(\"D:\\Python\\Files\\osama.txt\")\n"
   ]
  },
  {
   "cell_type": "code",
   "execution_count": null,
   "metadata": {},
   "outputs": [],
   "source": [
    "import os             # operating system\n",
    "print(os.getcwd())  # main current working directory\n"
   ]
  },
  {
   "cell_type": "markdown",
   "metadata": {},
   "source": [
    "> print(os.path.abspath(**file**)) # absolute path of file\n"
   ]
  },
  {
   "cell_type": "markdown",
   "metadata": {},
   "source": [
    "directory for the opened files\n",
    "\n",
    "> print(os.path.dirname(os.path.abspath(**file**)))\n"
   ]
  },
  {
   "cell_type": "markdown",
   "metadata": {},
   "source": [
    "change current working directory\n",
    "\n",
    "> os.chdir(os.path.dirname(os.path.abspath(**file**)))\n",
    "> print(os.getcwd())\n"
   ]
  },
  {
   "cell_type": "markdown",
   "metadata": {},
   "source": [
    "`r` will make sure `\\n` is not treated as new line\n",
    "\n",
    "> file = open(r\"D:\\Python\\Files\\nfiles\\osama.txt\")\n"
   ]
  },
  {
   "cell_type": "markdown",
   "metadata": {},
   "source": [
    "## 066 – Files Handling Part 2 – Read Files"
   ]
  },
  {
   "cell_type": "markdown",
   "metadata": {},
   "source": [
    "```python\n",
    "myfile = open(r\"D:\\Python\\Files\\osama.txt\", \"r\")\n",
    "print(myfile) # file data object\n",
    "print(myfile.name)\n",
    "print(myfile.mode)\n",
    "print(myfile.encoding)\n",
    "\n",
    "print(myfile.read())\n",
    "print(myfile.read(5))\n",
    "\n",
    "print(myfile.readline(5))\n",
    "print(myfile.readline())\n",
    "\n",
    "print(myfile.readlines(50))\n",
    "print(myfile.readlines())\n",
    "print(type(myfile.readlines()))\n",
    "\n",
    "for line in myfile:\n",
    "\n",
    "    print(line)\n",
    "\n",
    "    if line.startswith(\"07\"):\n",
    "        break\n",
    "\n",
    "myfile.close()\n",
    "```\n"
   ]
  },
  {
   "cell_type": "markdown",
   "metadata": {},
   "source": [
    "## 067 – Files Handling Part 3 – Write And Append In Files"
   ]
  },
  {
   "cell_type": "markdown",
   "metadata": {},
   "source": [
    "```python\n",
    "myfile = open(r\"D:\\Python\\Files\\osama.txt\", \"w\")\n",
    "\n",
    "myfile.write(\"hello\\n\")\n",
    "myfile.write(\"third line\")\n",
    "\n",
    "myfile.write(\"elzero web school\\n\" * 1000)\n",
    "\n",
    "mylist = [\"osama\\n\", \"ahmed\\n\", \"sayed\\n\"]\n",
    "myfiles.writelines(mylist)\n",
    "```\n"
   ]
  },
  {
   "cell_type": "markdown",
   "metadata": {},
   "source": [
    "```python\n",
    "myfile = open(r\"D:\\Python\\Files\\osama.txt\", \"a\")\n",
    "myfile.write(\"osama\")\n",
    "```\n"
   ]
  },
  {
   "cell_type": "markdown",
   "metadata": {},
   "source": [
    "## 068 – Files Handling Part 4 – Important Informations"
   ]
  },
  {
   "cell_type": "markdown",
   "metadata": {},
   "source": [
    "```python\n",
    "import os\n",
    "\n",
    "myFile = open(\"D:\\Python\\Files\\osama.txt\", \"a\")\n",
    "myFile.truncate(5)\n",
    "\n",
    "myFile = open(\"D:\\Python\\Files\\osama.txt\", \"a\")\n",
    "print(myFile.tell())\n",
    "\n",
    "myFile = open(\"D:\\Python\\Files\\osama.txt\", \"r\")\n",
    "myFile.seek(11)\n",
    "print(myFile.read())\n",
    "\n",
    "os.remove(\"D:\\Python\\Files\\osama.txt\")\n",
    "```\n"
   ]
  },
  {
   "cell_type": "markdown",
   "metadata": {},
   "source": [
    "# Week 10"
   ]
  },
  {
   "cell_type": "markdown",
   "metadata": {},
   "source": [
    "## 069 – Built In Functions Part 1"
   ]
  },
  {
   "cell_type": "code",
   "execution_count": null,
   "metadata": {},
   "outputs": [],
   "source": [
    "x = [1, 2, 3, 4, []]\n",
    "\n",
    "if all(x):\n",
    "    print(\"All Elements Is True\")\n",
    "else:\n",
    "    print(\"at least one is false\")\n"
   ]
  },
  {
   "cell_type": "code",
   "execution_count": null,
   "metadata": {},
   "outputs": [],
   "source": [
    "x = [1, 2, 3, 4, []]\n",
    "\n",
    "if any(x):\n",
    "    print(\"at least one is true\")\n",
    "else:\n",
    "    print(\"Theres No Any True Elements\")\n"
   ]
  },
  {
   "cell_type": "code",
   "execution_count": null,
   "metadata": {},
   "outputs": [],
   "source": [
    "x = [False, 0, {}, (), []]\n",
    "\n",
    "if any(x):\n",
    "    print(\"at least one is true\")\n",
    "else:\n",
    "    print(\"Theres No Any True Elements\")\n"
   ]
  },
  {
   "cell_type": "code",
   "execution_count": null,
   "metadata": {},
   "outputs": [],
   "source": [
    "print(bin(100))\n"
   ]
  },
  {
   "cell_type": "code",
   "execution_count": null,
   "metadata": {},
   "outputs": [],
   "source": [
    "a = 1\n",
    "b = 2\n",
    "print(id(a))\n",
    "print(id(b))\n"
   ]
  },
  {
   "cell_type": "markdown",
   "metadata": {},
   "source": [
    "## 070 - Built In Functions Part 2"
   ]
  },
  {
   "cell_type": "code",
   "execution_count": null,
   "metadata": {},
   "outputs": [],
   "source": [
    "# sum(iterable, start)\n",
    "\n",
    "a = [1, 10, 19, 40]\n",
    "\n",
    "print(sum(a))\n",
    "print(sum(a, 5))\n"
   ]
  },
  {
   "cell_type": "code",
   "execution_count": null,
   "metadata": {},
   "outputs": [],
   "source": [
    "# round(number, numofdigits)\n",
    "\n",
    "print(round(150.499))\n",
    "print(round(150.555, 2))\n",
    "print(round(150.554, 2))\n"
   ]
  },
  {
   "cell_type": "code",
   "execution_count": null,
   "metadata": {},
   "outputs": [],
   "source": [
    "# range(start, end, step)\n",
    "\n",
    "print(list(range(0)))\n",
    "print(list(range(10)))\n",
    "print(list(range(0, 10, 2)))\n"
   ]
  },
  {
   "cell_type": "code",
   "execution_count": null,
   "metadata": {},
   "outputs": [],
   "source": [
    "# print()\n",
    "\n",
    "print(\"Hello Osama\")\n",
    "print(\"Hello\", \"Osama\")\n"
   ]
  },
  {
   "cell_type": "code",
   "execution_count": null,
   "metadata": {},
   "outputs": [],
   "source": [
    "print(\"Hello @ Osama @ How @ Are @ You\")\n",
    "print(\"Hello\", \"Osama\", \"How\", \"Are\", \"You\", sep=\" @ \")\n"
   ]
  },
  {
   "cell_type": "code",
   "execution_count": null,
   "metadata": {},
   "outputs": [],
   "source": [
    "print(\"First Line\", end=\"\\n\")\n",
    "print(\"Second Line\", end=\" \")\n",
    "print(\"Third Line\")\n"
   ]
  },
  {
   "cell_type": "markdown",
   "metadata": {},
   "source": [
    "## 071 - Built In Functions Part 3"
   ]
  },
  {
   "cell_type": "code",
   "execution_count": null,
   "metadata": {},
   "outputs": [],
   "source": [
    "# abs()\n",
    "print(abs(100))\n",
    "print(abs(-100))\n",
    "print(abs(10.19))\n",
    "print(abs(-10.19))\n"
   ]
  },
  {
   "cell_type": "code",
   "execution_count": null,
   "metadata": {},
   "outputs": [],
   "source": [
    "# pow(base, exp, mod)\n",
    "print(pow(2, 5))\n",
    "print(pow(2, 5, 10))\n"
   ]
  },
  {
   "cell_type": "code",
   "execution_count": null,
   "metadata": {},
   "outputs": [],
   "source": [
    "# min(item, item , item, or iterator)\n",
    "\n",
    "myNumbers = (1, 20, -50, -100, 100)\n",
    "\n",
    "print(min(1, 10, -50, 20, 30))\n",
    "print(min(\"X\", \"Z\", \"Osama\"))\n",
    "print(min(myNumbers))\n"
   ]
  },
  {
   "cell_type": "code",
   "execution_count": null,
   "metadata": {},
   "outputs": [],
   "source": [
    "# max(item, item , item, or iterator)\n",
    "\n",
    "myNumbers = (1, 20, -50, -100, 100)\n",
    "\n",
    "print(max(1, 10, -50, 20, 30))\n",
    "print(max(\"X\", \"Z\", \"Osama\"))\n",
    "print(max(myNumbers))\n"
   ]
  },
  {
   "cell_type": "code",
   "execution_count": null,
   "metadata": {},
   "outputs": [],
   "source": [
    "# slice(start, end, step)\n",
    "\n",
    "a = [\"A\", \"B\", \"C\", \"D\", \"E\", \"F\"]\n",
    "\n",
    "print(a[:5])\n",
    "print(a[slice(5)])\n",
    "print(a[slice(2, 5)])\n"
   ]
  },
  {
   "cell_type": "markdown",
   "metadata": {},
   "source": [
    "## 072 – Built In Functions Part 4 – Map"
   ]
  },
  {
   "cell_type": "markdown",
   "metadata": {},
   "source": [
    "[1] Map Take A Function + Iterator  \n",
    "[2] Map Called Map Because It Map The Function On Every Element  \n",
    "[3] The Function Can Be Pre-Defined Function or Lambda Function\n"
   ]
  },
  {
   "cell_type": "code",
   "execution_count": null,
   "metadata": {},
   "outputs": [],
   "source": [
    "# map with predefined function\n",
    "\n",
    "def formatText(text):\n",
    "    return f\"- {text.strip().capitalize()}-\"\n",
    "\n",
    "\n",
    "myTexts = [\"osama\", \"ahmed\"]\n",
    "\n",
    "myFormatedData = map(formatText, myTexts)\n",
    "\n",
    "print(myFormatedData)\n"
   ]
  },
  {
   "cell_type": "code",
   "execution_count": null,
   "metadata": {},
   "outputs": [],
   "source": [
    "for name in map(formatText, myTexts):\n",
    "    print(name)\n"
   ]
  },
  {
   "cell_type": "code",
   "execution_count": null,
   "metadata": {},
   "outputs": [],
   "source": [
    "for name in list(map(formatText, myTexts)):\n",
    "    print(name)\n"
   ]
  },
  {
   "cell_type": "code",
   "execution_count": null,
   "metadata": {},
   "outputs": [],
   "source": [
    "# map with lambda\n",
    "myTexts = [\"osama\", \"ahmed\"]\n",
    "for name in list(map(lambda text: f\"- {text.strip().capitalize()}-\", myTexts)):\n",
    "    print(name)\n"
   ]
  },
  {
   "cell_type": "code",
   "execution_count": null,
   "metadata": {},
   "outputs": [],
   "source": [
    "# map with lambda\n",
    "myTexts = [\"osama\", \"ahmed\"]\n",
    "for name in list(map((lambda text: f\"- {text.strip().capitalize()}-\"), myTexts)):\n",
    "    print(name)\n"
   ]
  },
  {
   "cell_type": "markdown",
   "metadata": {},
   "source": [
    "## 073 - Built In Functions Part 5 – Filter"
   ]
  },
  {
   "cell_type": "markdown",
   "metadata": {},
   "source": [
    "[1] Filter Take A Function + Iterator  \n",
    "[2] Filter Run A Function On Every Element  \n",
    "[3] The Function Can Be Pre-Defined Function or Lambda Function  \n",
    "[4] Filter Out All Elements For Which The Function Return True  \n",
    "[5] The Function Need To Return Boolean Value\n"
   ]
  },
  {
   "cell_type": "code",
   "execution_count": null,
   "metadata": {},
   "outputs": [],
   "source": [
    "def checkNumber(num):\n",
    "    if num > 10:\n",
    "        return num\n",
    "\n",
    "\n",
    "myNumbers = [1, 19, 10, 20, 100, 5]\n",
    "\n",
    "myResult = filter(checkNumber, myNumbers)\n",
    "\n",
    "for number in myResult:\n",
    "    print(number)\n"
   ]
  },
  {
   "cell_type": "code",
   "execution_count": null,
   "metadata": {},
   "outputs": [],
   "source": [
    "def checkNumber(num):\n",
    "    if num == 0:\n",
    "        return num  # wont work cuz 0 is falsy\n",
    "\n",
    "\n",
    "myNumbers = [0, 0, 1, 19, 10, 20, 100, 5, 0, 0]\n",
    "\n",
    "myResult = filter(checkNumber, myNumbers)\n",
    "\n",
    "for number in myResult:\n",
    "    print(number)\n"
   ]
  },
  {
   "cell_type": "code",
   "execution_count": null,
   "metadata": {},
   "outputs": [],
   "source": [
    "def checkNumber(num):\n",
    "    if num == 0:\n",
    "        return True\n",
    "\n",
    "\n",
    "myNumbers = [0, 0, 1, 19, 10, 20, 100, 5, 0, 0]\n",
    "\n",
    "myResult = filter(checkNumber, myNumbers)\n",
    "\n",
    "for number in myResult:\n",
    "    print(number)\n"
   ]
  },
  {
   "cell_type": "code",
   "execution_count": null,
   "metadata": {},
   "outputs": [],
   "source": [
    "def checkNumber(num):\n",
    "    return num > 10\n",
    "\n",
    "\n",
    "myNumbers = [1, 19, 10, 20, 100, 5]\n",
    "\n",
    "myResult = filter(checkNumber, myNumbers)\n",
    "\n",
    "for number in myResult:\n",
    "    print(number)\n"
   ]
  },
  {
   "cell_type": "code",
   "execution_count": null,
   "metadata": {},
   "outputs": [],
   "source": [
    "def checkName(name):\n",
    "\n",
    "    return name.startswith(\"O\")\n",
    "\n",
    "\n",
    "myTexts = [\"Osama\", \"Omer\", \"Omar\", \"Ahmed\", \"Sayed\", \"Othman\"]\n",
    "\n",
    "myReturnedData = filter(checkName, myTexts)\n",
    "\n",
    "for person in myReturnedData:\n",
    "\n",
    "    print(person)\n"
   ]
  },
  {
   "cell_type": "code",
   "execution_count": null,
   "metadata": {},
   "outputs": [],
   "source": [
    "myNames = [\"Osama\", \"Omer\", \"Omar\", \"Ahmed\", \"Sayed\", \"Othman\", \"Ameer\"]\n",
    "\n",
    "for p in filter(lambda name: name.startswith(\"A\"), myNames):\n",
    "\n",
    "    print(p)\n"
   ]
  },
  {
   "cell_type": "markdown",
   "metadata": {},
   "source": [
    "## 074 – Built In Functions Part 6 – Reduce"
   ]
  },
  {
   "cell_type": "markdown",
   "metadata": {},
   "source": [
    "[1] Reduce Take A Function + Iterator  \n",
    "[2] Reduce Run A Function On FIrst and Second Element And Give Result  \n",
    "[3] Then Run Function On Result And Third Element  \n",
    "[4] Then Run Function On Rsult And Fourth Element And So On  \n",
    "[5] Till One ELement is Left And This is The Result of The Reduce  \n",
    "[6] The Function Can Be Pre-Defined Function or Lambda Function\n"
   ]
  },
  {
   "cell_type": "code",
   "execution_count": null,
   "metadata": {},
   "outputs": [],
   "source": [
    "from functools import reduce\n",
    "\n",
    "\n",
    "def sumAll(num1, num2):\n",
    "\n",
    "    return num1 + num2\n",
    "\n",
    "\n",
    "numbers = [5, 10, 15, 20, 30]\n",
    "\n",
    "result = reduce(sumAll, numbers)\n",
    "print(result)\n",
    "print(((((5+10)+15)+20)+30))\n"
   ]
  },
  {
   "cell_type": "code",
   "execution_count": null,
   "metadata": {},
   "outputs": [],
   "source": [
    "result = reduce(lambda num1, num2: num1 + num2, numbers)\n",
    "\n",
    "print(result)\n"
   ]
  },
  {
   "cell_type": "markdown",
   "metadata": {},
   "source": [
    "## 075 – Built In Functions Part 7"
   ]
  },
  {
   "cell_type": "code",
   "execution_count": null,
   "metadata": {},
   "outputs": [],
   "source": [
    "# enumerate(iterable, start=0)\n",
    "\n",
    "mySkills = [\"Html\", \"Css\", \"Js\", \"PHP\"]\n",
    "\n",
    "for skill in mySkills:\n",
    "    print(skill)\n"
   ]
  },
  {
   "cell_type": "code",
   "execution_count": null,
   "metadata": {},
   "outputs": [],
   "source": [
    "mySkillsWithCounter = enumerate(mySkills, 00)\n",
    "print(type(mySkillsWithCounter))\n",
    "\n",
    "for skill in mySkillsWithCounter:\n",
    "    print(skill)\n"
   ]
  },
  {
   "cell_type": "code",
   "execution_count": null,
   "metadata": {},
   "outputs": [],
   "source": [
    "mySkillsWithCounter = enumerate(mySkills, 00)\n",
    "\n",
    "\n",
    "for counter, skill in mySkillsWithCounter:\n",
    "\n",
    "    print(f\"{counter} - {skill}\")\n"
   ]
  },
  {
   "cell_type": "code",
   "execution_count": null,
   "metadata": {},
   "outputs": [],
   "source": [
    "print(help(print))\n"
   ]
  },
  {
   "cell_type": "code",
   "execution_count": null,
   "metadata": {},
   "outputs": [],
   "source": [
    "# reversed(iterable)\n",
    "\n",
    "myString = \"Elzero\"\n",
    "\n",
    "print(reversed(myString))\n"
   ]
  },
  {
   "cell_type": "code",
   "execution_count": null,
   "metadata": {},
   "outputs": [],
   "source": [
    "for letter in reversed(myString):\n",
    "\n",
    "    print(letter, end=\"\")\n"
   ]
  },
  {
   "cell_type": "code",
   "execution_count": null,
   "metadata": {},
   "outputs": [],
   "source": [
    "for s in reversed(mySkills):\n",
    "\n",
    "    print(s)\n"
   ]
  },
  {
   "cell_type": "markdown",
   "metadata": {},
   "source": [
    "# Week 11"
   ]
  },
  {
   "cell_type": "markdown",
   "metadata": {},
   "source": [
    "## 076 – Modules Part 1 – Intro And Built In Modules"
   ]
  },
  {
   "cell_type": "markdown",
   "metadata": {},
   "source": [
    "[1] Module is A File Contain A Set Of Functions  \n",
    "[2] You Can Import Module in Your App To Help You  \n",
    "[3] You Can Import Multiple Modules  \n",
    "[4] You Can Create Your Own Modules  \n",
    "[5] Modules Saves Your Time\n"
   ]
  },
  {
   "cell_type": "code",
   "execution_count": null,
   "metadata": {},
   "outputs": [],
   "source": [
    "import random\n",
    "print(random)\n"
   ]
  },
  {
   "cell_type": "code",
   "execution_count": null,
   "metadata": {},
   "outputs": [],
   "source": [
    "print(f\"random float number {random.random()}\")\n"
   ]
  },
  {
   "cell_type": "code",
   "execution_count": null,
   "metadata": {},
   "outputs": [],
   "source": [
    "# show all functions inside module\n",
    "import random\n",
    "print(dir(random))\n"
   ]
  },
  {
   "cell_type": "code",
   "execution_count": null,
   "metadata": {},
   "outputs": [],
   "source": [
    "# import functions from module\n",
    "from random import randint, random\n",
    "\n",
    "print(f\"random integer: {randint(100,900)}\")\n",
    "print(f\"float number: {random()}\")\n"
   ]
  },
  {
   "cell_type": "markdown",
   "metadata": {},
   "source": [
    "to import all functions from a module\n",
    "\n",
    "> from random import \\*\n"
   ]
  },
  {
   "cell_type": "markdown",
   "metadata": {},
   "source": [
    "## 077 - Modules – Part 2 – Create Your Module"
   ]
  },
  {
   "cell_type": "markdown",
   "metadata": {},
   "source": [
    "first, create your functions in a file (ex: elzero) then:\n"
   ]
  },
  {
   "cell_type": "code",
   "execution_count": null,
   "metadata": {},
   "outputs": [],
   "source": [
    "import sys\n",
    "print(sys.path)\n"
   ]
  },
  {
   "cell_type": "markdown",
   "metadata": {},
   "source": [
    "to add other path (games):\n",
    "\n",
    "> sys.path.append(r\"D:\\Games\")\n"
   ]
  },
  {
   "attachments": {},
   "cell_type": "markdown",
   "metadata": {},
   "source": [
    "```python\n",
    "import elzero\n",
    "\n",
    "print(dir(elzero))\n",
    "\n",
    "elzero.sayHello(\"Ahmed\")\n",
    "elzero.sayHello(\"Osama\")\n",
    "\n",
    "elzero.sayHowAreYou(\"Ahmed\")\n",
    "elzero.sayHowAreYou(\"Osama\")"
   ]
  },
  {
   "attachments": {},
   "cell_type": "markdown",
   "metadata": {},
   "source": [
    "ALias\n",
    "\n",
    "```python\n",
    "import elzero as ee\n",
    "\n",
    "ee.sayHello(\"Ahmed\")\n",
    "ee.sayHello(\"Osama\")\n",
    "\n",
    "ee.sayHowAreYou(\"Ahmed\")\n",
    "ee.sayHowAreYou(\"Osama\")\n",
    "```\n"
   ]
  },
  {
   "attachments": {},
   "cell_type": "markdown",
   "metadata": {},
   "source": [
    "``` python\n",
    "from elzero import sayHello   \n",
    "sayHello(\"Osama\")  \n",
    "\n",
    "from elzero import sayHello as ss  \n",
    "\n",
    "ss(\"Osama\")  \n",
    "```"
   ]
  },
  {
   "cell_type": "markdown",
   "metadata": {},
   "source": [
    "## 078 - Modules – Part 3 – Install External Packages"
   ]
  },
  {
   "cell_type": "markdown",
   "metadata": {},
   "source": [
    "[1] Module vs Package  \n",
    "[2] External Packages Downloaded From The Internet  \n",
    "[3] You Can Install Packages With Python Package Manager PIP  \n",
    "[4] PIP Install the Package and Its Dependencies  \n",
    "[5] Modules List \"https://docs.python.org/3/py-modindex.html\"  \n",
    "[6] Packages and Modules Directory \"https://pypi.org/\"  \n",
    "[7] PIP Manual \"https://pip.pypa.io/en/stable/reference/pip_install/\"\n"
   ]
  },
  {
   "cell_type": "markdown",
   "metadata": {},
   "source": [
    "> pip - -version\n"
   ]
  },
  {
   "cell_type": "markdown",
   "metadata": {},
   "source": [
    "> pip list\n"
   ]
  },
  {
   "cell_type": "markdown",
   "metadata": {},
   "source": [
    "> pip install termcolor pyfiglet\n"
   ]
  },
  {
   "cell_type": "markdown",
   "metadata": {},
   "source": [
    "> pip install --user pip --upgrade\n"
   ]
  },
  {
   "cell_type": "code",
   "execution_count": null,
   "metadata": {},
   "outputs": [],
   "source": [
    "import termcolor\n",
    "import pyfiglet\n"
   ]
  },
  {
   "cell_type": "code",
   "execution_count": null,
   "metadata": {},
   "outputs": [],
   "source": [
    "import textwrap\n",
    "output = '\\n'.join(dir(pyfiglet))\n",
    "print(textwrap.fill(output, width=80))\n"
   ]
  },
  {
   "cell_type": "code",
   "execution_count": null,
   "metadata": {},
   "outputs": [],
   "source": [
    "print(pyfiglet.figlet_format(\"Ahmed\"))\n"
   ]
  },
  {
   "cell_type": "code",
   "execution_count": null,
   "metadata": {},
   "outputs": [],
   "source": [
    "print(termcolor.colored(\"Ahmed\", color=\"yellow\"))\n"
   ]
  },
  {
   "cell_type": "code",
   "execution_count": null,
   "metadata": {},
   "outputs": [],
   "source": [
    "print(termcolor.colored(pyfiglet.figlet_format(\"Ahmed\"), color=\"yellow\"))\n"
   ]
  },
  {
   "cell_type": "markdown",
   "metadata": {},
   "source": [
    "## 079 - Date And Time – Introduction"
   ]
  },
  {
   "cell_type": "code",
   "execution_count": null,
   "metadata": {},
   "outputs": [],
   "source": [
    "import textwrap\n",
    "import datetime\n",
    "\n",
    "output = '\\n'.join(dir(datetime))\n",
    "print(textwrap.fill(output, width=80))\n"
   ]
  },
  {
   "cell_type": "code",
   "execution_count": null,
   "metadata": {},
   "outputs": [],
   "source": [
    "import textwrap\n",
    "\n",
    "output = '\\n'.join(dir(datetime.datetime))\n",
    "print(textwrap.fill(output, width=80))\n"
   ]
  },
  {
   "cell_type": "code",
   "execution_count": null,
   "metadata": {},
   "outputs": [],
   "source": [
    "# Print The Current Date and Time\n",
    "print(datetime.datetime.now())\n"
   ]
  },
  {
   "cell_type": "code",
   "execution_count": null,
   "metadata": {},
   "outputs": [],
   "source": [
    "print(datetime.datetime.now().year)\n",
    "print(datetime.datetime.now().month)\n",
    "print(datetime.datetime.now().day)\n"
   ]
  },
  {
   "cell_type": "code",
   "execution_count": null,
   "metadata": {},
   "outputs": [],
   "source": [
    "# print start and end of date\n",
    "print(datetime.datetime.min)\n",
    "print(datetime.datetime.max)\n"
   ]
  },
  {
   "cell_type": "code",
   "execution_count": null,
   "metadata": {},
   "outputs": [],
   "source": [
    "# Print The Current Time\n",
    "print(datetime.datetime.now().time())\n",
    "print(datetime.datetime.now().time().hour)\n",
    "print(datetime.datetime.now().time().minute)\n",
    "print(datetime.datetime.now().time().second)\n"
   ]
  },
  {
   "cell_type": "code",
   "execution_count": null,
   "metadata": {},
   "outputs": [],
   "source": [
    "# Print Start and End Of Time\n",
    "print(datetime.time.min)\n",
    "print(datetime.time.max)\n"
   ]
  },
  {
   "cell_type": "code",
   "execution_count": null,
   "metadata": {},
   "outputs": [],
   "source": [
    "# Print Specific Date\n",
    "print(datetime.datetime(1982, 10, 25))\n",
    "print(datetime.datetime(1982, 10, 25, 10, 45, 55, 150364))\n"
   ]
  },
  {
   "cell_type": "code",
   "execution_count": null,
   "metadata": {},
   "outputs": [],
   "source": [
    "myBirthDay = datetime.datetime(2001, 10, 17)\n",
    "dateNow = datetime.datetime.now()\n",
    "\n",
    "print(f\"My Birthday is {myBirthDay} And \", end=\"\")\n",
    "print(f\"Date Now Is {dateNow}\")\n",
    "\n",
    "print(f\" I Lived For {dateNow - myBirthDay}\")\n",
    "print(f\" I Lived For {(dateNow - myBirthDay).days} Days.\")\n"
   ]
  },
  {
   "cell_type": "markdown",
   "metadata": {},
   "source": [
    "## 080 - Date And Time – Format Date"
   ]
  },
  {
   "cell_type": "markdown",
   "metadata": {},
   "source": [
    "https://strftime.org/\n"
   ]
  },
  {
   "cell_type": "code",
   "execution_count": null,
   "metadata": {},
   "outputs": [],
   "source": [
    "import datetime\n",
    "\n",
    "myBirthday = datetime.datetime(1982, 10, 25)\n",
    "\n",
    "print(myBirthday)\n",
    "print(myBirthday.strftime(\"%a\"))\n",
    "print(myBirthday.strftime(\"%A\"))\n",
    "print(myBirthday.strftime(\"%b\"))\n",
    "print(myBirthday.strftime(\"%B\"))\n"
   ]
  },
  {
   "cell_type": "code",
   "execution_count": null,
   "metadata": {},
   "outputs": [],
   "source": [
    "print(myBirthday.strftime(\"%d %B %Y\"))\n",
    "print(myBirthday.strftime(\"%d, %B, %Y\"))\n",
    "print(myBirthday.strftime(\"%d/%B/%Y\"))\n",
    "print(myBirthday.strftime(\"%d - %B - %Y\"))\n",
    "print(myBirthday.strftime(\"%B - %Y\"))\n"
   ]
  },
  {
   "cell_type": "markdown",
   "metadata": {},
   "source": [
    "## 081 - Iterable vs Iterator"
   ]
  },
  {
   "cell_type": "markdown",
   "metadata": {},
   "source": [
    "Iterable  \n",
    "[1] Object Contains Data That Can Be Iterated Upon  \n",
    "[2] Examples (String, List, Set, Tuple, Dictionary)\n",
    "\n",
    "Iterator  \n",
    "[1] Object Used To Iterate Over Iterable Using next() Method Return 1 Element At A Time  \n",
    "[2] You Can Generate Iterator From Iterable When Using iter() Method  \n",
    "[3] For Loop Already Calls iter() Method on The Iterable Behind The Scene  \n",
    "[4] Gives \"StopIteration\" If Theres No Next Element\n"
   ]
  },
  {
   "cell_type": "code",
   "execution_count": null,
   "metadata": {},
   "outputs": [],
   "source": [
    "myString = \"Osama\"\n",
    "\n",
    "for letter in myString:\n",
    "    print(letter, end=\" \")\n"
   ]
  },
  {
   "cell_type": "code",
   "execution_count": null,
   "metadata": {},
   "outputs": [],
   "source": [
    "myList = [1, 2, 3, 4, 5]\n",
    "\n",
    "for number in myList:\n",
    "    print(number, end=\" \")\n"
   ]
  },
  {
   "cell_type": "markdown",
   "metadata": {},
   "source": [
    "> myNumber = 100.50  \n",
    "> for part in myNumber:  \n",
    ">  print(part) # error\n"
   ]
  },
  {
   "cell_type": "code",
   "execution_count": null,
   "metadata": {},
   "outputs": [],
   "source": [
    "my_name = \"ahmed\"\n",
    "my_iterator = iter(my_name)\n",
    "print(next(my_iterator))\n",
    "print(next(my_iterator))\n",
    "print(next(my_iterator))\n",
    "print(next(my_iterator))\n",
    "print(next(my_iterator))\n"
   ]
  },
  {
   "cell_type": "code",
   "execution_count": null,
   "metadata": {},
   "outputs": [],
   "source": [
    "for letter in \"Elzero\":\n",
    "    print(letter, end=\" \")\n"
   ]
  },
  {
   "cell_type": "code",
   "execution_count": null,
   "metadata": {},
   "outputs": [],
   "source": [
    "for letter in iter(\"Elzero\"):\n",
    "    print(letter, end=\" \")\n"
   ]
  },
  {
   "cell_type": "markdown",
   "metadata": {},
   "source": [
    "## 082 - Generators"
   ]
  },
  {
   "cell_type": "markdown",
   "metadata": {},
   "source": [
    "[1] Generator is a Function With \"yield\" Keyword Instead of \"return\"  \n",
    "[2] It Support Iteration and Return Generator Iterator By Calling \"yield\"  \n",
    "[3] Generator Function Can Have one or More \"yield\"  \n",
    "[4] By Using next() It Resume From Where It Called \"yield\" Not From Begining  \n",
    "[5] When Called, Its Not Start Automatically, Its Only Give You The Control\n"
   ]
  },
  {
   "cell_type": "code",
   "execution_count": null,
   "metadata": {},
   "outputs": [],
   "source": [
    "def myGenerator():\n",
    "    yield 1\n",
    "    yield 2\n",
    "    yield 3\n",
    "    yield 4\n",
    "\n",
    "\n",
    "print(myGenerator())\n"
   ]
  },
  {
   "cell_type": "code",
   "execution_count": null,
   "metadata": {},
   "outputs": [],
   "source": [
    "myGen = myGenerator()\n",
    "\n",
    "print(next(myGen), end=\" \")\n",
    "print(\"Hello From Python\")\n",
    "print(next(myGen), end=\" \")\n"
   ]
  },
  {
   "cell_type": "code",
   "execution_count": null,
   "metadata": {},
   "outputs": [],
   "source": [
    "for number in myGen:\n",
    "    print(number)\n"
   ]
  },
  {
   "cell_type": "markdown",
   "metadata": {},
   "source": [
    "## 083 - Decorators – Intro"
   ]
  },
  {
   "cell_type": "markdown",
   "metadata": {},
   "source": [
    "[1] Sometimes Called Meta Programming  \n",
    "[2] Everything in Python is Object Even Functions  \n",
    "[3] Decorator Take A Function and Add Some Functionality and Return It  \n",
    "[4] Decorator Wrap Other Function and Enhance Their Behaviour  \n",
    "[5] Decorator is Higher Order Function (Function Accept Function As Parameter)\n"
   ]
  },
  {
   "cell_type": "code",
   "execution_count": null,
   "metadata": {},
   "outputs": [],
   "source": [
    "def myDecorator(func):  # Decorator\n",
    "\n",
    "    def nestedfunc():  # Any Name Its Just For Decoration\n",
    "        print(\"Before\")  # Message From Decorator\n",
    "\n",
    "        func()  # Execute Function\n",
    "\n",
    "        print(\"After\")  # Message From Decorator\n",
    "\n",
    "    return nestedfunc  # Return All Data\n",
    "\n",
    "\n",
    "def sayHello():\n",
    "    print(\"Hello from sayHello function\")\n",
    "\n",
    "\n",
    "afterDecoration = myDecorator(sayHello)\n",
    "afterDecoration()\n"
   ]
  },
  {
   "cell_type": "code",
   "execution_count": null,
   "metadata": {},
   "outputs": [],
   "source": [
    "def myDecorator(func):  # Decorator\n",
    "\n",
    "    def nestedfunc():  # Any Name Its Just For Decoration\n",
    "        print(\"Before\")  # Message From Decorator\n",
    "\n",
    "        func()  # Execute Function\n",
    "\n",
    "        print(\"After\")  # Message From Decorator\n",
    "\n",
    "    return nestedfunc  # Return All Data\n",
    "\n",
    "\n",
    "@myDecorator\n",
    "def sayHello():\n",
    "    print(\"Hello from sayHello function\")\n",
    "\n",
    "\n",
    "sayHello()\n"
   ]
  },
  {
   "cell_type": "code",
   "execution_count": null,
   "metadata": {},
   "outputs": [],
   "source": [
    "def myDecorator(func):  # Decorator\n",
    "\n",
    "    def nestedfunc():  # Any Name Its Just For Decoration\n",
    "        print(\"Before\")  # Message From Decorator\n",
    "\n",
    "        func()  # Execute Function\n",
    "\n",
    "        print(\"After\")  # Message From Decorator\n",
    "\n",
    "    return nestedfunc  # Return All Data\n",
    "\n",
    "\n",
    "@myDecorator\n",
    "def sayHello():\n",
    "    print(\"Hello from sayHello function\")\n",
    "\n",
    "\n",
    "def sayHowAreYou():\n",
    "    print(\"Hello From Say How Are You Function\")\n",
    "\n",
    "\n",
    "sayHello()\n",
    "sayHowAreYou()\n"
   ]
  },
  {
   "cell_type": "markdown",
   "metadata": {},
   "source": [
    "## 084 - Decorators – Function with Parameters"
   ]
  },
  {
   "cell_type": "code",
   "execution_count": null,
   "metadata": {},
   "outputs": [],
   "source": [
    "def myDecorator(func):  # Decorator\n",
    "\n",
    "    def nestedFunc(num1, num2):  # Any Name Its Just For Decoration\n",
    "        if num1 < 0 or num2 < 0:\n",
    "            print(\"Beware One Of The Numbers Is Less Than Zero\")\n",
    "\n",
    "        func(num1, num2)  # Execute Function\n",
    "    return nestedFunc  # Return All Data\n",
    "\n",
    "\n",
    "@myDecorator\n",
    "def calculate(n1, n2):\n",
    "    print(n1 + n2)\n",
    "\n",
    "\n",
    "calculate(10, 90)\n",
    "calculate(-5, 90)\n"
   ]
  },
  {
   "cell_type": "code",
   "execution_count": null,
   "metadata": {},
   "outputs": [],
   "source": [
    "def myDecorator(func):  # Decorator\n",
    "\n",
    "    def nestedFunc(num1, num2):  # Any Name Its Just For Decoration\n",
    "        if num1 < 0 or num2 < 0:\n",
    "            print(\"Beware One Of The Numbers Is Less Than Zero\")\n",
    "\n",
    "        func(num1, num2)  # Execute Function\n",
    "    return nestedFunc  # Return All Data\n",
    "\n",
    "\n",
    "def myDecoratorTwo(func):  # Decorator\n",
    "\n",
    "    def nestedFunc(num1, num2):  # Any Name Its Just For Decoration\n",
    "        print(\"Coming From Decorator Two\")\n",
    "\n",
    "        func(num1, num2)  # Execute Function\n",
    "\n",
    "    return nestedFunc  # Return All Data\n",
    "\n",
    "\n",
    "@myDecorator\n",
    "@myDecoratorTwo\n",
    "def calculate(n1, n2):\n",
    "    print(n1 + n2)\n",
    "\n",
    "\n",
    "calculate(-5, 90)\n"
   ]
  },
  {
   "cell_type": "code",
   "execution_count": null,
   "metadata": {},
   "outputs": [],
   "source": [
    "@myDecoratorTwo\n",
    "@myDecorator\n",
    "def calculate(n1, n2):\n",
    "    print(n1 + n2)\n",
    "\n",
    "\n",
    "calculate(-5, 90)\n"
   ]
  },
  {
   "cell_type": "markdown",
   "metadata": {},
   "source": [
    "## 085 - Decorators – Practical Speed Test"
   ]
  },
  {
   "cell_type": "code",
   "execution_count": null,
   "metadata": {},
   "outputs": [],
   "source": [
    "def myDecorator(func):  # Decorator\n",
    "    def nestedFunc(*numbers):  # Any Name Its Just For Decoration\n",
    "\n",
    "        for number in numbers:\n",
    "            if number < 0:\n",
    "                print(\"Beware One Of The Numbers Is Less Than Zero\")\n",
    "\n",
    "        func(*numbers)  # Execute Function\n",
    "\n",
    "    return nestedFunc  # Return All Data\n",
    "\n",
    "\n",
    "@myDecorator\n",
    "def calculate(n1, n2, n3, n4):\n",
    "    print(n1 + n2 + n3 + n4)\n",
    "\n",
    "\n",
    "calculate(-5, 90, 50, 150)\n"
   ]
  },
  {
   "cell_type": "code",
   "execution_count": null,
   "metadata": {},
   "outputs": [],
   "source": [
    "from time import time\n",
    "\n",
    "\n",
    "def speedTest(func):\n",
    "    def wrapper():\n",
    "\n",
    "        start = time()\n",
    "\n",
    "        func()\n",
    "        end = time()\n",
    "\n",
    "        print(f\"Function Running Time Is: {end - start}\")\n",
    "\n",
    "    return wrapper\n",
    "\n",
    "\n",
    "@speedTest\n",
    "def bigLoop():\n",
    "\n",
    "    for _ in range(1, 200000):\n",
    "        print(\"\", end=\"\")\n",
    "\n",
    "\n",
    "bigLoop()\n"
   ]
  },
  {
   "cell_type": "markdown",
   "metadata": {},
   "source": [
    "# Week 12"
   ]
  },
  {
   "cell_type": "markdown",
   "metadata": {},
   "source": [
    "## 086 – Practical Loop On Many Iterators With Zip"
   ]
  },
  {
   "cell_type": "markdown",
   "metadata": {},
   "source": [
    "zip() Return A Zip Object Contains All Objects  \n",
    "zip() Length Is The Length of Lowest Object\n"
   ]
  },
  {
   "cell_type": "code",
   "execution_count": null,
   "metadata": {},
   "outputs": [],
   "source": [
    "list1 = [1, 2, 3, 4, 5]\n",
    "list2 = [\"A\", 'B']\n",
    "\n",
    "ultimateList = zip(list1, list2)\n",
    "print(ultimateList)\n",
    "\n",
    "for item in ultimateList:\n",
    "    print(item)  # length of lowest object\n"
   ]
  },
  {
   "cell_type": "code",
   "execution_count": null,
   "metadata": {},
   "outputs": [],
   "source": [
    "list1 = [1, 2, 3, 4, 5]\n",
    "list2 = [\"A\", 'B']\n",
    "tuple1 = (\"Man\", \"Woman\", \"Girl\", \"Boy\")\n",
    "dict1 = {\"Name\": \"Osama\", \"Age\": 36, \"Country\": \"Egypt\", \"Skill\": \"Python\"}\n",
    "\n",
    "for item1, item2 in zip(list1, list2):\n",
    "    print(\"list1 item =>\", item1)\n",
    "    print(\"list2 item =>\", item2)\n"
   ]
  },
  {
   "cell_type": "code",
   "execution_count": null,
   "metadata": {},
   "outputs": [],
   "source": [
    "for item1, item2, item3 in zip(list1, list2, tuple1):\n",
    "    print(\"list1 item =>\", item1)\n",
    "    print(\"list2 item =>\", item2)\n",
    "    print(\"tuple1 item =>\", item3)\n"
   ]
  },
  {
   "cell_type": "code",
   "execution_count": null,
   "metadata": {},
   "outputs": [],
   "source": [
    "for item1, item2, item3, item4 in zip(list1, list2, tuple1, dict1):\n",
    "    print(\"list1 item =>\", item1)\n",
    "    print(\"list2 item =>\", item2)\n",
    "    print(\"tuple1 item =>\", item3)\n",
    "    print(\"dict1 key =>\", item4, \"value =>\", dict1[item4])\n"
   ]
  },
  {
   "cell_type": "markdown",
   "metadata": {},
   "source": [
    "## 087 - Practical Image Manipulation With Pillow"
   ]
  },
  {
   "cell_type": "markdown",
   "metadata": {},
   "source": [
    "> pip install pillow\n"
   ]
  },
  {
   "cell_type": "code",
   "execution_count": null,
   "metadata": {},
   "outputs": [],
   "source": [
    "from PIL import Image\n",
    "myImage = Image.open(\"picture.jpg\")\n"
   ]
  },
  {
   "cell_type": "code",
   "execution_count": null,
   "metadata": {},
   "outputs": [],
   "source": [
    "from IPython.display import display\n",
    "# myImage.show()\n",
    "display(myImage)\n"
   ]
  },
  {
   "cell_type": "code",
   "execution_count": null,
   "metadata": {},
   "outputs": [],
   "source": [
    "# my cropped image\n",
    "myBox = (0, 0, 400, 400)\n",
    "myNewImage = myImage.crop(myBox)\n",
    "display(myNewImage)\n"
   ]
  },
  {
   "cell_type": "code",
   "execution_count": null,
   "metadata": {},
   "outputs": [],
   "source": [
    "myConverted = myImage.convert(\"L\")\n",
    "display(myConverted)\n"
   ]
  },
  {
   "cell_type": "markdown",
   "metadata": {},
   "source": [
    "## 088 - Doc String & Commenting vs Documenting"
   ]
  },
  {
   "cell_type": "markdown",
   "metadata": {},
   "source": [
    "[1] Documentation String For Class, Module or Function  \n",
    "[2] Can Be Accessed From The Help and Doc Attributes  \n",
    "[3] Made For Understanding The Functionality of The Complex Code  \n",
    "[4] Theres One Line and Multiple Line Doc Strings\n"
   ]
  },
  {
   "cell_type": "code",
   "execution_count": null,
   "metadata": {},
   "outputs": [],
   "source": [
    "def elzero_function(name):\n",
    "    \"\"\"\n",
    "    Elzero Function\n",
    "    It Say Hello From Elzero\n",
    "    Parameter:\n",
    "    name => Person Name That Use Function\n",
    "    Return:\n",
    "    Return Hello Message To The Person\n",
    "    \"\"\"\n",
    "    print(f\"Hello {name} From Elzero\")\n",
    "\n",
    "\n",
    "elzero_function(\"Ahmed\")\n"
   ]
  },
  {
   "cell_type": "code",
   "execution_count": null,
   "metadata": {},
   "outputs": [],
   "source": [
    "import textwrap\n",
    "output = '\\n'.join(dir(elzero_function))\n",
    "print(textwrap.fill(output, width=80))\n"
   ]
  },
  {
   "cell_type": "code",
   "execution_count": null,
   "metadata": {},
   "outputs": [],
   "source": [
    "print(elzero_function.__doc__)\n"
   ]
  },
  {
   "cell_type": "code",
   "execution_count": null,
   "metadata": {},
   "outputs": [],
   "source": [
    "help(elzero_function)\n"
   ]
  },
  {
   "cell_type": "markdown",
   "metadata": {},
   "source": [
    "## 089 - Installing And Use Pylint For Better Code"
   ]
  },
  {
   "cell_type": "markdown",
   "metadata": {},
   "source": [
    "> pip install pylint\n"
   ]
  },
  {
   "cell_type": "code",
   "execution_count": null,
   "metadata": {},
   "outputs": [],
   "source": [
    "def hello():\n",
    "\n",
    "    print(\"yay\")\n"
   ]
  },
  {
   "cell_type": "code",
   "execution_count": null,
   "metadata": {},
   "outputs": [],
   "source": [
    "def say_hello(name):\n",
    "    '''This Function Only Say Hello To Someone'''\n",
    "    msg = \"Hello\"\n",
    "\n",
    "    return f\"{msg} {name}\"\n"
   ]
  },
  {
   "cell_type": "markdown",
   "metadata": {},
   "source": [
    "## 090 – Errors And Exceptions Raising\n"
   ]
  },
  {
   "cell_type": "markdown",
   "metadata": {},
   "source": [
    "[1] Exceptions Is A Runtime Error Reporting Mechanism  \n",
    "[2] Exception Gives You The Message To Understand The Problem  \n",
    "[3] Traceback Gives You The Line To Look For The Code in This Line  \n",
    "[4] Exceptions Have Types (SyntaxError, IndexError, KeyError, Etc...)  \n",
    "[5] Exceptions List https://docs.python.org/3/library/exceptions.html  \n",
    "[6] raise Keyword Used To Raise Your Own Exceptions\n"
   ]
  },
  {
   "cell_type": "code",
   "execution_count": null,
   "metadata": {},
   "outputs": [],
   "source": [
    "x = 10\n",
    "if x < 0:\n",
    "    raise Exception(f\"The Number {x} Is Less Than Zero\")\n",
    "\n",
    "else:\n",
    "    print(f\"{x} is good number and ok\")\n",
    "\n",
    "print(\"message after if condition\")\n"
   ]
  },
  {
   "cell_type": "code",
   "execution_count": null,
   "metadata": {},
   "outputs": [],
   "source": [
    "y = 10\n",
    "if type(y) != int:\n",
    "\n",
    "    raise ValueError(\"Only Numbers Allowed\")\n",
    "\n",
    "print('Print Message After If Condition')\n"
   ]
  },
  {
   "cell_type": "markdown",
   "metadata": {},
   "source": [
    "## 091 - Exceptions Handling Try, Except, Else, Finally\n"
   ]
  },
  {
   "cell_type": "markdown",
   "metadata": {},
   "source": [
    "Try     => Test The Code For Errors  \n",
    "Except  => Handle The Errors  \n",
    "Else    => If No Errors  \n",
    "Finally => Run The Code\n"
   ]
  },
  {
   "cell_type": "code",
   "execution_count": null,
   "metadata": {},
   "outputs": [],
   "source": [
    "try:\n",
    "    number = int('hi')\n",
    "except:\n",
    "    print(\"this is not an integer\")\n",
    "else:\n",
    "    print(\"this is int\")"
   ]
  },
  {
   "cell_type": "code",
   "execution_count": null,
   "metadata": {},
   "outputs": [],
   "source": [
    "try:\n",
    "    number = int(5)\n",
    "except:\n",
    "    print(\"this is not an integer\")\n",
    "else:\n",
    "    print(\"this is int\")\n"
   ]
  },
  {
   "cell_type": "code",
   "execution_count": null,
   "metadata": {},
   "outputs": [],
   "source": [
    "try:\n",
    "    number = int(5)\n",
    "    print(\"this is int\")\n",
    "except:\n",
    "    print(\"this is not an integer\")\n"
   ]
  },
  {
   "cell_type": "code",
   "execution_count": null,
   "metadata": {},
   "outputs": [],
   "source": [
    "try:\n",
    "    number = int(5)\n",
    "    print(\"this is int\")\n",
    "except:\n",
    "    print(\"this is not an integer\")\n",
    "\n",
    "finally:\n",
    "    print(\"end\")"
   ]
  },
  {
   "cell_type": "code",
   "execution_count": null,
   "metadata": {},
   "outputs": [],
   "source": [
    "try: \n",
    "    print(int(\"hi\"))\n",
    "\n",
    "except ZeroDivisionError:\n",
    "    print(\"cant divide\")\n",
    "\n",
    "except NameError:\n",
    "    print(\"identifer not found\")\n",
    "\n",
    "except:\n",
    "    print(\"error happened\")"
   ]
  },
  {
   "cell_type": "code",
   "execution_count": null,
   "metadata": {},
   "outputs": [],
   "source": [
    "try:\n",
    "    print(10/0)\n",
    "\n",
    "except ZeroDivisionError:\n",
    "    print(\"cant divide by zero\")\n",
    "\n",
    "except NameError:\n",
    "    print(\"identifer not found\")\n",
    "\n",
    "except:\n",
    "    print(\"error happened\")\n"
   ]
  },
  {
   "cell_type": "markdown",
   "metadata": {},
   "source": [
    "## 092 - Exceptions Handling Advanced Example"
   ]
  },
  {
   "cell_type": "code",
   "execution_count": null,
   "metadata": {},
   "outputs": [],
   "source": [
    "the_file = None\n",
    "the_tries = 3\n",
    "\n",
    "while the_tries > 0:\n",
    "\n",
    "    try:  # Try To Open The File\n",
    "\n",
    "        print(\"Enter The File Name With Absolute Path To Open\")\n",
    "        print(f\"You Have {the_tries} Tries Left\")\n",
    "        print(\"Example: D:\\Python\\Files\\yourfile.extension\")\n",
    "\n",
    "        file_name_and_path = input(\"File Name => : \").strip()\n",
    "        the_file = open(file_name_and_path, 'r')\n",
    "\n",
    "        print(the_file.read())\n",
    "\n",
    "        break\n",
    "\n",
    "    except FileNotFoundError:\n",
    "        print(\"File Not Found Please Be Sure The Name is Valid\")\n",
    "        the_tries -= 1\n",
    "\n",
    "    except:\n",
    "        print(\"Error Happen\")\n",
    "\n",
    "    finally:\n",
    "        if the_file is not None:\n",
    "            the_file.close()\n",
    "            print(\"File Closed.\")\n",
    "\n",
    "else:\n",
    "    print(\"All Tries are Done\")\n"
   ]
  },
  {
   "cell_type": "markdown",
   "metadata": {},
   "source": [
    "## 093 - Debugging Code"
   ]
  },
  {
   "cell_type": "code",
   "execution_count": null,
   "metadata": {},
   "outputs": [],
   "source": [
    "my_list = [1, 2, 3]\n",
    "my_dictionary = {\"Name\": \"Osama\", \"Age\": 36, \"Country\": \"Egypt\"}\n",
    "\n",
    "for num in my_list:\n",
    "    print(num)\n",
    "\n",
    "for key, value in my_dictionary.items():\n",
    "    print(f\"{key} => {value}\")\n",
    "\n",
    "\n",
    "def function_one_one():\n",
    "    print(\"Hello From Function One\")\n",
    "\n",
    "\n",
    "function_one_one()\n"
   ]
  },
  {
   "cell_type": "markdown",
   "metadata": {},
   "source": [
    "## 094 - Type Hinting\n"
   ]
  },
  {
   "cell_type": "code",
   "execution_count": null,
   "metadata": {},
   "outputs": [],
   "source": [
    "def say_hello(name) -> str:\n",
    "    print(f\"Hello {name}\")\n",
    "\n",
    "\n",
    "say_hello(\"Ahmed\")"
   ]
  },
  {
   "cell_type": "code",
   "execution_count": null,
   "metadata": {},
   "outputs": [],
   "source": [
    "def calculate(n1, n2) -> int:\n",
    "    print(n1 + n2)\n",
    "\n",
    "calculate(10, 40)\n"
   ]
  },
  {
   "cell_type": "markdown",
   "metadata": {},
   "source": [
    "# Week 13"
   ]
  },
  {
   "cell_type": "markdown",
   "metadata": {},
   "source": [
    "## 095 - Regular Expressions Part 1 Intro"
   ]
  },
  {
   "cell_type": "markdown",
   "metadata": {},
   "source": [
    "[1] Sequence of Characters That Define A Search Pattern  \n",
    "[2] Regular Expression is Not In Python Its General Concept  \n",
    "[3] Used In [Credit Card Validation, IP Address Validation, Email Validation]  \n",
    "[4] Test RegEx \"https://pythex.org/\"  \n",
    "[5] Characters Sheet \"https://www.debuggex.com/cheatsheet/regex/python\"\n"
   ]
  },
  {
   "cell_type": "code",
   "execution_count": null,
   "metadata": {},
   "outputs": [],
   "source": [
    "import re\n",
    "\n",
    "text = \"\"\"Hi i am ahmed trying my luck\n",
    "My Number is 123456789\n",
    "My Email is Ahmed@Ahmed.com\n",
    "!@#$%^&*()\n",
    "123 123\n",
    "\"\"\"\n",
    "\n",
    "print(re.findall(r'\\d' ,text)) #digit\n"
   ]
  },
  {
   "cell_type": "code",
   "execution_count": null,
   "metadata": {},
   "outputs": [],
   "source": [
    "import textwrap\n",
    "output = '\\n'.join(re.findall(r'\\D' ,text)) #not digit\n",
    "print(textwrap.fill(output, width=80))"
   ]
  },
  {
   "cell_type": "code",
   "execution_count": null,
   "metadata": {},
   "outputs": [],
   "source": [
    "output = '\\n'.join(re.findall(r'\\w' ,text)) #digit and letter\n",
    "print(textwrap.fill(output, width=80))"
   ]
  },
  {
   "cell_type": "code",
   "execution_count": null,
   "metadata": {},
   "outputs": [],
   "source": [
    "output = '\\n'.join(re.findall(r'\\W', text))  # not digit nor letter\n",
    "print(textwrap.fill(output, width=80))"
   ]
  },
  {
   "cell_type": "code",
   "execution_count": null,
   "metadata": {},
   "outputs": [],
   "source": [
    "output = '\\n'.join(re.findall(r'\\d\\d', text))  # two consecutive digits\n",
    "print(textwrap.fill(output, width=80))"
   ]
  },
  {
   "cell_type": "code",
   "execution_count": null,
   "metadata": {},
   "outputs": [],
   "source": [
    "output = '\\n'.join(re.findall(r'\\d\\d\\d', text))  # three consecutive digits\n",
    "print(textwrap.fill(output, width=80))"
   ]
  },
  {
   "cell_type": "code",
   "execution_count": null,
   "metadata": {},
   "outputs": [],
   "source": [
    "output = '\\n'.join(re.findall(r'\\d\\s', text))  # digit followed by space\n",
    "print(textwrap.fill(output, width=80))\n"
   ]
  },
  {
   "cell_type": "code",
   "execution_count": null,
   "metadata": {},
   "outputs": [],
   "source": [
    "output = '\\n'.join(re.findall(r'\\w\\w', text))  # two consecutive digits or two consecutive letters\n",
    "print(textwrap.fill(output, width=80))\n"
   ]
  },
  {
   "cell_type": "code",
   "execution_count": null,
   "metadata": {},
   "outputs": [],
   "source": [
    "output = '\\n'.join(re.findall(r'\\w\\w\\w\\w\\w\\w', text))\n",
    "print(textwrap.fill(output, width=80))\n"
   ]
  },
  {
   "cell_type": "code",
   "execution_count": null,
   "metadata": {},
   "outputs": [],
   "source": [
    "\n",
    "output = '\\n'.join(re.findall(r'.',text))  # anything except new line\n",
    "print(textwrap.fill(output, width=80))\n"
   ]
  },
  {
   "cell_type": "markdown",
   "metadata": {},
   "source": [
    "## 096 - Regular Expressions Part 2 Quantifiers"
   ]
  },
  {
   "cell_type": "markdown",
   "metadata": {},
   "source": [
    "\\*\t0 or more  \n",
    "\\+\t1 or more  \n",
    "?\t0 or 1  \n",
    "{2}\tExactly 2  \n",
    "{2, 5}\tBetween 2 and 5  \n",
    "{2,}\t2 or more  \n",
    "(,5}\tUp to 5  \n",
    "Explain RegEx \"https://regex101.com/\"\n"
   ]
  },
  {
   "cell_type": "code",
   "execution_count": null,
   "metadata": {},
   "outputs": [],
   "source": [
    "import re\n",
    "\n",
    "text = \"\"\"A\n",
    "ABC\n",
    "123 123 1234\n",
    "ABCD ABCDE\n",
    "A B C D E F\n",
    "\"\"\"\n",
    "\n",
    "output = '\\n'.join(re.findall(r'A', text)) #find letter A\n",
    "print(textwrap.fill(output, width=80))\n"
   ]
  },
  {
   "cell_type": "code",
   "execution_count": null,
   "metadata": {},
   "outputs": [],
   "source": [
    "output = '\\n'.join(re.findall(r'A\\w\\w', text))\n",
    "print(textwrap.fill(output, width=80))\n"
   ]
  },
  {
   "cell_type": "code",
   "execution_count": null,
   "metadata": {},
   "outputs": [],
   "source": [
    "output = '\\n'.join(re.findall(r'A\\w\\w\\w\\w', text))\n",
    "print(textwrap.fill(output, width=80))\n"
   ]
  },
  {
   "cell_type": "code",
   "execution_count": null,
   "metadata": {},
   "outputs": [],
   "source": [
    "output = '\\n'.join(re.findall(r'A\\w\\w\\wE', text))\n",
    "print(textwrap.fill(output, width=80))\n"
   ]
  },
  {
   "cell_type": "code",
   "execution_count": null,
   "metadata": {},
   "outputs": [],
   "source": [
    "output = '\\n'.join(re.findall(r'\\w\\w\\w\\w', text))\n",
    "print(textwrap.fill(output, width=80))\n"
   ]
  },
  {
   "cell_type": "code",
   "execution_count": null,
   "metadata": {},
   "outputs": [],
   "source": [
    "output = '\\n'.join(re.findall(r'\\sD', text)) #space followed by D\n",
    "print(textwrap.fill(output, width=80))\n"
   ]
  },
  {
   "cell_type": "code",
   "execution_count": null,
   "metadata": {},
   "outputs": [],
   "source": [
    "output = '\\n'.join(re.findall(r'\\w+', text)) #one or more\n",
    "print(textwrap.fill(output, width=80))\n"
   ]
  },
  {
   "cell_type": "code",
   "execution_count": null,
   "metadata": {},
   "outputs": [],
   "source": [
    "output = '\\n'.join(re.findall(r'\\w?', text)) # zero or one\n",
    "print(textwrap.fill(output, width=80))\n"
   ]
  },
  {
   "cell_type": "code",
   "execution_count": null,
   "metadata": {},
   "outputs": [],
   "source": [
    "output = '\\n'.join(re.findall(r'\\w{3}', text)) # 3 consecutive characters\n",
    "print(textwrap.fill(output, width=80))\n"
   ]
  },
  {
   "cell_type": "code",
   "execution_count": null,
   "metadata": {},
   "outputs": [],
   "source": [
    "output = '\\n'.join(re.findall(r'\\w{2,4}', text))\n",
    "print(textwrap.fill(output, width=80))\n"
   ]
  },
  {
   "cell_type": "code",
   "execution_count": null,
   "metadata": {},
   "outputs": [],
   "source": [
    "output = '\\n'.join(re.findall(r'\\w{3,}', text)) #3 to infinity\n",
    "print(textwrap.fill(output, width=80))\n"
   ]
  },
  {
   "cell_type": "code",
   "execution_count": null,
   "metadata": {},
   "outputs": [],
   "source": [
    "output = '\\n'.join(re.findall(r'\\w{,3}', text))\n",
    "print(textwrap.fill(output, width=80))\n"
   ]
  },
  {
   "cell_type": "code",
   "execution_count": null,
   "metadata": {},
   "outputs": [],
   "source": [
    "phone = \"\"\"011 5456-820\n",
    "Hello\n",
    "My Name is Osama\n",
    "12345678\n",
    "\"\"\"\n",
    "output = '\\n'.join(re.findall(r'\\d{3}\\s\\d{4}-\\d{3}', phone))\n",
    "print(textwrap.fill(output, width=80))\n"
   ]
  },
  {
   "cell_type": "markdown",
   "metadata": {},
   "source": [
    "## 097 - Regular Expressions Part 3 Characters Classes Training’s"
   ]
  },
  {
   "cell_type": "markdown",
   "metadata": {},
   "source": [
    "[0-9]  \n",
    "[^0-9]  \n",
    "[A-Z]  \n",
    "[^A-Z]  \n",
    "[a-z]  \n",
    "[^a-z]"
   ]
  },
  {
   "cell_type": "code",
   "execution_count": null,
   "metadata": {},
   "outputs": [],
   "source": [
    "text = \"\"\"011 5456-820\n",
    "Hello\n",
    "My Name is Osama\n",
    "12345678\n",
    "012 1234-156\n",
    "!@#$%^&*()_+\n",
    "a r d\n",
    "\"\"\"\n",
    "output = '\\n'.join(re.findall(r'a r d', text))\n",
    "print(textwrap.fill(output, width=80))\n"
   ]
  },
  {
   "cell_type": "code",
   "execution_count": null,
   "metadata": {},
   "outputs": [],
   "source": [
    "output = '\\n'.join(re.findall(r'[ard]', text))\n",
    "print(textwrap.fill(output, width=80))"
   ]
  },
  {
   "cell_type": "code",
   "execution_count": null,
   "metadata": {},
   "outputs": [],
   "source": [
    "output = '\\n'.join(re.findall(r'[a-z]', text))\n",
    "print(textwrap.fill(output, width=80))"
   ]
  },
  {
   "cell_type": "code",
   "execution_count": null,
   "metadata": {},
   "outputs": [],
   "source": [
    "output = '\\n'.join(re.findall(r'[A-Z]', text))\n",
    "print(textwrap.fill(output, width=80))"
   ]
  },
  {
   "cell_type": "code",
   "execution_count": null,
   "metadata": {},
   "outputs": [],
   "source": [
    "output = '\\n'.join(re.findall(r'[a-zA-Z0-9]', text))\n",
    "print(textwrap.fill(output, width=80))\n"
   ]
  },
  {
   "cell_type": "code",
   "execution_count": null,
   "metadata": {},
   "outputs": [],
   "source": [
    "output = '\\n'.join(re.findall(r'[a-m]', text))\n",
    "print(textwrap.fill(output, width=80))"
   ]
  },
  {
   "cell_type": "code",
   "execution_count": null,
   "metadata": {},
   "outputs": [],
   "source": [
    "output = '\\n'.join(re.findall(r'[^a-z]', text)) #not a to z\n",
    "print(textwrap.fill(output, width=80))\n"
   ]
  },
  {
   "cell_type": "code",
   "execution_count": null,
   "metadata": {},
   "outputs": [],
   "source": [
    "output = '\\n'.join(re.findall(r'N[a-z]', text))\n",
    "print(textwrap.fill(output, width=80))\n"
   ]
  },
  {
   "cell_type": "code",
   "execution_count": null,
   "metadata": {},
   "outputs": [],
   "source": [
    "test = \" IM 001 yay\"\n",
    "output = '\\n'.join(re.findall(r'\\s[A-Z]{2}\\s[0-9]{3}\\s\\w{,6}', test))\n",
    "print(textwrap.fill(output, width=80))"
   ]
  },
  {
   "cell_type": "markdown",
   "metadata": {},
   "source": [
    "## 098 - Regular Expressions Part 4 Assertions and Email Pattern"
   ]
  },
  {
   "cell_type": "markdown",
   "metadata": {},
   "source": [
    "\\^\t  Start of String    \n",
    "\\$\t  End of string    \n",
    "\n",
    "Match Email    \n",
    "[A-z0-9\\.]+@[A-z0-9]+\\.[A-z]+  \n",
    "^[A-z0-9\\.]+@[A-z0-9]+\\.(com|net|org|info)$  \n"
   ]
  },
  {
   "cell_type": "code",
   "execution_count": null,
   "metadata": {},
   "outputs": [],
   "source": [
    "text = '''012 1234 567\n",
    "=>012 1234-654\n",
    "012 1234 567=>\n",
    "012 1234-654=>\n",
    "012 1234-654\n",
    "'''\n",
    "\n",
    "print(re.findall(r'\\d{3}\\s\\d{4}-?\\s?\\d{3}', text))\n"
   ]
  },
  {
   "cell_type": "code",
   "execution_count": null,
   "metadata": {},
   "outputs": [],
   "source": [
    "print(re.findall(r'^\\d{3}\\s\\d{4}-?\\s?\\d{3}', text))\n"
   ]
  },
  {
   "cell_type": "code",
   "execution_count": null,
   "metadata": {},
   "outputs": [],
   "source": [
    "email = \"\"\"osama.elzero@osama.com\n",
    "kamal@mail.ru\"\"\"\n",
    "\n",
    "print(re.findall(r'[A-z0-9\\.]+@[A-z0-9]+\\.[A-z]+', email))\n"
   ]
  },
  {
   "cell_type": "code",
   "execution_count": null,
   "metadata": {},
   "outputs": [],
   "source": [
    "print(re.search(r'[A-z0-9\\.]+@[A-z0-9]+\\.(com|net)', email))\n"
   ]
  },
  {
   "cell_type": "markdown",
   "metadata": {},
   "source": [
    "## 099 - Regular Expressions Part 5 Logical Or And Escaping"
   ]
  },
  {
   "cell_type": "markdown",
   "metadata": {},
   "source": [
    "|\t  Or  \n",
    "\\\\\t  Escape Special Characters  \n",
    "()  Separate Groups"
   ]
  },
  {
   "cell_type": "code",
   "execution_count": null,
   "metadata": {},
   "outputs": [],
   "source": [
    "import re\n",
    "\n",
    "text =\"\"\"1-HTML\n",
    "2-CSS\n",
    "3-PHP\n",
    "\n",
    "1)HTML\n",
    "2)CSS\n",
    "3)PHP\n",
    "\n",
    "1>HTML\n",
    "2>CSS\n",
    "3>PHP\n",
    "\"\"\"\n",
    "print(re.findall(r'(\\d-)(\\w+)', text))"
   ]
  },
  {
   "cell_type": "code",
   "execution_count": null,
   "metadata": {},
   "outputs": [],
   "source": [
    "print(re.findall(r'(\\d-|\\d\\))(\\w+)', text))\n"
   ]
  },
  {
   "cell_type": "code",
   "execution_count": null,
   "metadata": {},
   "outputs": [],
   "source": [
    "print(re.findall(r'(\\d-|\\d\\)|\\d> )(\\w+)', text))"
   ]
  },
  {
   "cell_type": "code",
   "execution_count": null,
   "metadata": {},
   "outputs": [],
   "source": [
    "text= '''012 4578 213\n",
    "011 4568 (345)\n",
    "'''\n",
    "print(re.findall(r'(\\d{3}) (\\d{4}) (\\d{3}|\\(\\d{3}\\))',text))"
   ]
  },
  {
   "cell_type": "code",
   "execution_count": null,
   "metadata": {},
   "outputs": [],
   "source": [
    "web = '''http://www.elzero.net\n",
    "http://elzero.org\n",
    "https://elzerocourses.com\n",
    "Hello Osama Elzero'''"
   ]
  },
  {
   "cell_type": "code",
   "execution_count": null,
   "metadata": {},
   "outputs": [],
   "source": [
    "print(re.findall(r'(https?://)(www\\.)?(\\w+\\.)(net|org|com)',web))"
   ]
  },
  {
   "cell_type": "markdown",
   "metadata": {},
   "source": [
    "## 100 – Regular Expression Part 6 – Re Module Search And FindAll\n"
   ]
  },
  {
   "cell_type": "markdown",
   "metadata": {},
   "source": [
    "\n",
    "search()  => Search A String For A Match And Return A First Match Only  \n",
    "findall() => Returns A List Of All Matches and Empty List if No Match\n"
   ]
  },
  {
   "cell_type": "code",
   "execution_count": null,
   "metadata": {},
   "outputs": [],
   "source": [
    "import re\n",
    "\n",
    "my_search = re.search(\"[A-Z]\",\"OsamaElzero\")\n",
    "print(my_search)"
   ]
  },
  {
   "cell_type": "code",
   "execution_count": null,
   "metadata": {},
   "outputs": [],
   "source": [
    "import textwrap\n",
    "output = '\\n'.join(dir(my_search))\n",
    "print(textwrap.fill(output, width=80))"
   ]
  },
  {
   "cell_type": "code",
   "execution_count": null,
   "metadata": {},
   "outputs": [],
   "source": [
    "my_search = re.search(\"[A-Z]{2}\",\"OSamaElzero\")\n",
    "print(my_search.span())\n",
    "print(my_search.string)\n",
    "print(my_search.group())"
   ]
  },
  {
   "cell_type": "code",
   "execution_count": null,
   "metadata": {},
   "outputs": [],
   "source": [
    "is_email = re.search(r\"[A-z0-9\\.]+@[A-z0-9]+\\.(com|net)\",\"os@osama.com\")\n",
    "\n",
    "if is_email:\n",
    "    print(\"this is a valid mail\")\n",
    "else:\n",
    "    print(\"invalid email\")\n",
    "\n",
    "print(is_email.span())\n",
    "print(is_email.string)\n",
    "print(is_email.group())"
   ]
  },
  {
   "cell_type": "code",
   "execution_count": null,
   "metadata": {},
   "outputs": [],
   "source": [
    "email_input = \"ahmed@mail.com\"\n",
    "search = re.findall(r\"[A-z0-9\\.]+@[A-z0-9]+\\.com|net\", email_input)\n",
    "\n",
    "empty_list = []\n",
    "\n",
    "if search != []:\n",
    "    empty_list.append(search)\n",
    "    print(\"Email Added\")\n",
    "else:\n",
    "    print(\"Invalid Email\")\n",
    "\n",
    "for email in empty_list:\n",
    "    print(email)\n"
   ]
  },
  {
   "cell_type": "markdown",
   "metadata": {},
   "source": [
    "## 101 - Regular Expressions Part 7 Re Module Split And Sub"
   ]
  },
  {
   "cell_type": "markdown",
   "metadata": {},
   "source": [
    "split(Pattern, String, MaxSplit)  => Return A List Of Elements Splitted On Each Match  \n",
    "sub(Pattern, Replace, String, ReplaceCount) => Replace Matches With What You Want\n"
   ]
  },
  {
   "cell_type": "code",
   "execution_count": null,
   "metadata": {},
   "outputs": [],
   "source": [
    "import re\n",
    "\n",
    "string_one = \"I Love Python\"\n",
    "search_one = re.split(r\"\\s\",string_one)\n",
    "searchOne= re.split(r\"\\s\",string_one,1)\n",
    "\n",
    "print(search_one)\n",
    "print(searchOne)"
   ]
  },
  {
   "cell_type": "code",
   "execution_count": null,
   "metadata": {},
   "outputs": [],
   "source": [
    "string_two = \"How-To_Write_A_Very-Good-Article\"\n",
    "search_two = re.split(r\"-|_\", string_two)\n",
    "\n",
    "print(search_two)\n"
   ]
  },
  {
   "cell_type": "code",
   "execution_count": null,
   "metadata": {},
   "outputs": [],
   "source": [
    "for word in search_two:\n",
    "    print(word)"
   ]
  },
  {
   "cell_type": "code",
   "execution_count": null,
   "metadata": {},
   "outputs": [],
   "source": [
    "for counter, word in enumerate(search_two, 1):\n",
    "\n",
    "    if len(word) == 1:\n",
    "        continue\n",
    "\n",
    "    print(f\"Word Number: {counter} => {word.lower()}\")\n"
   ]
  },
  {
   "cell_type": "code",
   "execution_count": null,
   "metadata": {},
   "outputs": [],
   "source": [
    "my_string = \"I Love Python\"\n",
    "\n",
    "print(re.sub(r\"\\s\", \"-\", my_string,))\n",
    "print(re.sub(r\"\\s\", \"-\", my_string, 1))\n"
   ]
  },
  {
   "cell_type": "markdown",
   "metadata": {},
   "source": [
    "## 102 - Regular Expressions Part 8 Group Trainings And Flags"
   ]
  },
  {
   "cell_type": "code",
   "execution_count": null,
   "metadata": {},
   "outputs": [],
   "source": [
    "import re\n",
    "\n",
    "my_web = \"https://www.elzero.org:8080/category.php?article=105?name=how-to-do\"\n",
    "search = re.search(r\"(https?)://(www)?\\.?(\\w+)\\.(\\w+):?(\\d+)?/?(.+)\", my_web,re.MULTILINE)\n",
    "\n",
    "print(search.group())\n",
    "print(search.groups())\n"
   ]
  },
  {
   "cell_type": "code",
   "execution_count": null,
   "metadata": {},
   "outputs": [],
   "source": [
    "for group in search.groups():\n",
    "    print(group)"
   ]
  },
  {
   "cell_type": "code",
   "execution_count": null,
   "metadata": {},
   "outputs": [],
   "source": [
    "print(f\"Protocol: {search.group(1)}\")\n",
    "print(f\"Sub Domain: {search.group(2)}\")\n",
    "print(f\"Domain Name: {search.group(3)}\")\n",
    "print(f\"Top Level Domain: {search.group(4)}\")\n",
    "print(f\"Port: {search.group(5)}\")\n",
    "print(f\"Query String: {search.group(6)}\")"
   ]
  },
  {
   "cell_type": "markdown",
   "metadata": {},
   "source": [
    "# Week 14"
   ]
  },
  {
   "cell_type": "markdown",
   "metadata": {},
   "source": [
    "## 103 – OOP – Part 1 – Introduction"
   ]
  },
  {
   "cell_type": "markdown",
   "metadata": {},
   "source": [
    "- Python Support Object Oriented Programming  \n",
    "- OOP Is A Paradigm Or Coding Style  \n",
    "OOP Paradigm = >  \n",
    "Means Structuring Program So The Methods[Functions] and Attributes[Data] Are Bundled Into Objects    \n",
    "- Methods = > Act As Function That Use The Information Of The Object  \n",
    "- Python Is Multi-Paradigm Programming Language[Procedural, OOP, Functional]  \n",
    "    - Procedural = > Structure App Like Recipe, Sets Of Steps To Make The Task  \n",
    "    - Functional = > Built On the Concept of Mathematical Functions  \n",
    "- OOP Allow You To Organize Your Code and Make It Readable and Reusable  \n",
    "- Everything in Python is Object  \n",
    "- If Man Is Object  \n",
    "    - Attributes = > Name, Age, Address, Phone Number, Info[Can Be Differnet]  \n",
    "    - Methods[Behaviors] = > Walking, Eating, Singing, Playing  \n",
    "- If Car Is Object  \n",
    "    - Attributes = > Model, Colour, Price  \n",
    "    - Methods[Behaviors] = > Walking, Stopping  \n",
    "- Class Is The Template For Creating Objects[Object Constructor | Blueprint]  \n"
   ]
  },
  {
   "cell_type": "markdown",
   "metadata": {},
   "source": [
    "## 104 – OOP – Part 2 – Class Syntax And Information"
   ]
  },
  {
   "cell_type": "markdown",
   "metadata": {},
   "source": [
    "[01] Class is The Blueprint Or Construtor Of The Object  \n",
    "[02] Class Instantiate Means Create Instance of A Class  \n",
    "[03] Instance => Object Created From Class And Have Their Methods and Attributes  \n",
    "[04] Class Defined With Keyword class  \n",
    "[05] Class Name Written With PascalCase [UpperCamelCase] Style  \n",
    "[06] Class May Contains Methods and Attributes  \n",
    "[07] When Creating Object Python Look For The Built In __init__ Method  \n",
    "[08] __init__ Method Called Every Time You Create Object From Class  \n",
    "[09] __init__ Method Is Initialize The Data For The Object  \n",
    "[10] Any Method With Two Underscore in The Start and End Called Dunder or Magic Method  \n",
    "[11] self Refer To The Current Instance Created From The Class And Must Be First Param  \n",
    "[12] self Can Be Named Anything  \n",
    "[13] In Python You Dont Need To Call new() Keyword To Create Object\n"
   ]
  },
  {
   "cell_type": "markdown",
   "metadata": {},
   "source": [
    "Syntax\n",
    "````python\n",
    "class Name:\n",
    "    Constructor => Do Instantiation [ Create Instance From A Class ]\n",
    "    Each Instance Is Separate Object\n",
    "    def __init__(self, other_data)\n",
    "    Body Of Function"
   ]
  },
  {
   "cell_type": "code",
   "execution_count": null,
   "metadata": {},
   "outputs": [],
   "source": [
    "class Member:\n",
    "    def __init__(self):\n",
    "        print(\"a new member has been added\")\n",
    "\n",
    "Member()\n",
    "Member()"
   ]
  },
  {
   "cell_type": "code",
   "execution_count": null,
   "metadata": {},
   "outputs": [],
   "source": [
    "import textwrap\n",
    "output = '\\n'.join(dir(Member))\n",
    "print(textwrap.fill(output, width=80))\n"
   ]
  },
  {
   "cell_type": "code",
   "execution_count": null,
   "metadata": {},
   "outputs": [],
   "source": [
    "output = '\\n'.join(dir(str))\n",
    "print(textwrap.fill(output, width=80))\n"
   ]
  },
  {
   "cell_type": "code",
   "execution_count": null,
   "metadata": {},
   "outputs": [],
   "source": [
    "member_one = Member()\n",
    "member_two = Member()\n",
    "\n",
    "print(member_one.__class__)\n"
   ]
  },
  {
   "cell_type": "markdown",
   "metadata": {},
   "source": [
    "## 105 – OOP – Part 3 – Instance Attributes And Methods Part 1"
   ]
  },
  {
   "cell_type": "markdown",
   "metadata": {},
   "source": [
    "Self: Point To Instance Created From Class  \n",
    "Instance Attributes: Instance Attributes Defined Inside The Constructor  \n",
    "\n",
    "Instance Methods: Take Self Parameter Which Point To Instance Created From Class  \n",
    "Instance Methods Can Have More Than One Parameter Like Any Function\n",
    "Instance Methods Can Freely Access Attributes And Methods On The Same Object  \n",
    "Instance Methods Can Access The Class Itself\n"
   ]
  },
  {
   "cell_type": "code",
   "execution_count": null,
   "metadata": {},
   "outputs": [],
   "source": [
    "class Member:\n",
    "    def __init__(self):\n",
    "        self.name = \"Osama\"\n",
    "\n",
    "\n",
    "member_one = Member()\n",
    "member_two = Member()\n"
   ]
  },
  {
   "cell_type": "code",
   "execution_count": null,
   "metadata": {},
   "outputs": [],
   "source": [
    "output = '\\n'.join(dir(Member))\n",
    "print(textwrap.fill(output, width=80))\n"
   ]
  },
  {
   "cell_type": "code",
   "execution_count": null,
   "metadata": {},
   "outputs": [],
   "source": [
    "print(member_one.name)\n",
    "print(member_two.name)"
   ]
  },
  {
   "cell_type": "code",
   "execution_count": null,
   "metadata": {},
   "outputs": [],
   "source": [
    "class Member:\n",
    "    def __init__(self, first_name):\n",
    "        self.name = first_name\n",
    "\n",
    "\n",
    "member_one = Member(\"osama\")\n",
    "member_two = Member(\"ahmed\")\n",
    "\n",
    "print(member_one.name)\n",
    "print(member_two.name)\n"
   ]
  },
  {
   "cell_type": "code",
   "execution_count": null,
   "metadata": {},
   "outputs": [],
   "source": [
    "class Member:\n",
    "    def __init__(self, first_name, middle_name, last_name):\n",
    "        self.fname = first_name\n",
    "        self.mname = middle_name\n",
    "        self.lname = last_name\n",
    "\n",
    "\n",
    "\n",
    "member_one = Member(\"osama\",\"mohamed\",\"elsayed\")\n",
    "member_two = Member(\"ahmed\",\"hany\",\"darwish\")\n",
    "\n",
    "print(member_one.fname, member_one.mname, member_one.lname)\n",
    "print(member_two.fname)\n"
   ]
  },
  {
   "cell_type": "markdown",
   "metadata": {},
   "source": [
    "## 106 – OOP – Part 4 – Instance Attributes And Methods Part 2\n"
   ]
  },
  {
   "cell_type": "markdown",
   "metadata": {},
   "source": [
    "Self: Point To Instance Created From Class  \n",
    "Instance Attributes: Instance Attributes Defined Inside The Constructor  \n",
    "\n",
    "Instance Methods: Take Self Parameter Which Point To Instance Created From Class  \n",
    "Instance Methods Can Have More Than One Parameter Like Any Function\n",
    "Instance Methods Can Freely Access Attributes And Methods On The Same Object  \n",
    "Instance Methods Can Access The Class Itself\n"
   ]
  },
  {
   "cell_type": "code",
   "execution_count": null,
   "metadata": {},
   "outputs": [],
   "source": [
    "class Member:\n",
    "    def __init__(self, first_name, middle_name, last_name):\n",
    "        self.fname = first_name\n",
    "        self.mname = middle_name\n",
    "        self.lname = last_name\n",
    "\n",
    "    def full_name(self):\n",
    "        return f\"{self.fname} {self.mname} {self.lname}\"\n",
    "    \n",
    "    def name_with_title(self):\n",
    "        return f\"Hello Mr {self.fname}\"\n",
    "\n",
    "\n",
    "member_one = Member(\"Osama\", \"Mohamed\", \"Elsayed\")\n",
    "member_two = Member(\"Ahmed\", \"Ali\", \"Mahmoud\")\n",
    "\n",
    "\n",
    "\n",
    "print(member_one.full_name())\n",
    "print(member_one.name_with_title())"
   ]
  },
  {
   "cell_type": "code",
   "execution_count": null,
   "metadata": {},
   "outputs": [],
   "source": [
    "class Member:\n",
    "    def __init__(self, first_name, middle_name, last_name, gender):\n",
    "        self.fname = first_name\n",
    "        self.mname = middle_name\n",
    "        self.lname = last_name\n",
    "        self.gender = gender\n",
    "\n",
    "    def full_name(self):\n",
    "        return f\"{self.fname} {self.mname} {self.lname}\"\n",
    "\n",
    "    def name_with_title(self):\n",
    "        if self.gender == \"Male\":\n",
    "            return f\"Hello Mr {self.fname}\"\n",
    "        elif self.gender == \"Female\":\n",
    "            return f\"Hello Miss {self.fname}\"\n",
    "        else:\n",
    "            return f\"Hello {self.fname}\"\n",
    "\n",
    "    def get_all_info(self):\n",
    "        return f\"{self.name_with_title()}, Your Full Name Is: {self.full_name()}\"\n",
    "\n",
    "\n",
    "member_one = Member(\"Osama\", \"Mohamed\", \"Elsayed\", \"Male\")\n",
    "member_two = Member(\"Ahmed\", \"Hany\", \"Darwish\", \"Male\")\n",
    "\n",
    "print(member_one.get_all_info())\n"
   ]
  },
  {
   "cell_type": "markdown",
   "metadata": {},
   "source": [
    "## 107 - OOP – Part 5 Class Attributes"
   ]
  },
  {
   "cell_type": "markdown",
   "metadata": {},
   "source": [
    "Class Attributes: Attributes Defined Outside The Constructor"
   ]
  },
  {
   "cell_type": "code",
   "execution_count": null,
   "metadata": {},
   "outputs": [],
   "source": [
    "class Member:\n",
    "\n",
    "    not_allowed_names = [\"Hell\", \"Shit\", \"Baloot\"]\n",
    "    users_num = 0\n",
    "\n",
    "    def __init__(self, first_name, middle_name, last_name, gender):\n",
    "\n",
    "        self.fname = first_name\n",
    "        self.mname = middle_name\n",
    "        self.lname = last_name\n",
    "        self.gender = gender\n",
    "\n",
    "        Member.users_num += 1  # Member.users_num = Member.users_num + 1\n",
    "\n",
    "    def full_name(self):\n",
    "\n",
    "        if self.fname in Member.not_allowed_names:\n",
    "            raise ValueError(\"Name Not Allowed\")\n",
    "        else:\n",
    "            return f\"{self.fname} {self.mname} {self.lname}\"\n",
    "\n",
    "    def name_with_title(self):\n",
    "        if self.gender == \"Male\":\n",
    "            return f\"Hello Mr {self.fname}\"\n",
    "        elif self.gender == \"Female\":\n",
    "            return f\"Hello Miss {self.fname}\"\n",
    "        else:\n",
    "            return f\"Hello {self.fname}\"\n",
    "\n",
    "    def get_all_info(self):\n",
    "        return f\"{self.name_with_title()}, Your Full Name Is: {self.full_name()}\"\n",
    "\n",
    "    def delete_user(self):\n",
    "        Member.users_num -= 1  # Member.users_num = Member.users_num -1\n",
    "        return f\"User {self.fname} Is Deleted.\"\n",
    "\n",
    "\n",
    "output = '\\n'.join(dir(Member))\n",
    "print(textwrap.fill(output, width=80))\n"
   ]
  },
  {
   "cell_type": "code",
   "execution_count": null,
   "metadata": {},
   "outputs": [],
   "source": [
    "print(Member.users_num)\n",
    "\n",
    "member_one = Member(\"Osama\", \"Mohamed\", \"Elsayed\", \"Male\")\n",
    "member_two = Member(\"Ahmed\", \"Ali\", \"Mahmoud\", \"Male\")\n",
    "member_three = Member(\"Mona\", \"Ali\", \"Mahmoud\", \"Female\")\n",
    "member_four = Member(\"Shit\", \"Hell\", \"Metal\", \"DD\")\n",
    "\n",
    "print(Member.users_num)"
   ]
  },
  {
   "cell_type": "code",
   "execution_count": null,
   "metadata": {},
   "outputs": [],
   "source": [
    "print(member_four.delete_user())\n",
    "print(Member.users_num)"
   ]
  },
  {
   "cell_type": "code",
   "execution_count": null,
   "metadata": {},
   "outputs": [],
   "source": [
    "output = '\\n'.join(dir(member_one))\n",
    "print(textwrap.fill(output, width=80))\n"
   ]
  },
  {
   "cell_type": "code",
   "execution_count": null,
   "metadata": {},
   "outputs": [],
   "source": [
    "print(member_one.fname, member_one.mname, member_one.lname)\n",
    "print(member_two.fname)\n",
    "print(member_three.fname)"
   ]
  },
  {
   "cell_type": "code",
   "execution_count": null,
   "metadata": {},
   "outputs": [],
   "source": [
    "print(member_two.full_name())\n",
    "print(member_two.name_with_title())\n"
   ]
  },
  {
   "cell_type": "code",
   "execution_count": null,
   "metadata": {},
   "outputs": [],
   "source": [
    "print(member_three.get_all_info())\n"
   ]
  },
  {
   "cell_type": "markdown",
   "metadata": {},
   "source": [
    "## 108 - OOP – Part 6 Class Methods and Static Methods"
   ]
  },
  {
   "cell_type": "markdown",
   "metadata": {},
   "source": [
    "Class Methods:\n",
    "- Marked With @classmethod Decorator To Flag It As Class Method\n",
    "- It Take Cls Parameter Not Self To Point To The Class not The Instance\n",
    "- It Doesn't Require Creation of a Class Instance\n",
    "- Used When You Want To Do Something With The Class Itself  \n",
    "  \n",
    "Static Methods:\n",
    "- It Takes No Parameters\n",
    "- Its Bound To The Class Not Instance\n",
    "- Used When Doing Something Doesnt Have Access To Object Or Class But Related To Class\n"
   ]
  },
  {
   "cell_type": "code",
   "execution_count": null,
   "metadata": {},
   "outputs": [],
   "source": [
    "class Member:\n",
    "\n",
    "    not_allowed_names = [\"Hell\", \"Shit\", \"Baloot\"]\n",
    "    users_num = 0\n",
    "\n",
    "    @classmethod\n",
    "    def show_users_count(cls):\n",
    "        print(f\"we have {cls.users_num} users in our system\")\n",
    "    \n",
    "    @staticmethod\n",
    "    def say_hello():\n",
    "        print(\"Hello from static method\")\n",
    "\n",
    "    def __init__(self, first_name, middle_name, last_name, gender):\n",
    "\n",
    "        self.fname = first_name\n",
    "        self.mname = middle_name\n",
    "        self.lname = last_name\n",
    "        self.gender = gender\n",
    "\n",
    "        Member.users_num += 1  # Member.users_num = Member.users_num + 1\n",
    "\n",
    "    def full_name(self):\n",
    "\n",
    "        if self.fname in Member.not_allowed_names:\n",
    "            raise ValueError(\"Name Not Allowed\")\n",
    "        else:\n",
    "            return f\"{self.fname} {self.mname} {self.lname}\"\n",
    "\n",
    "    def name_with_title(self):\n",
    "        if self.gender == \"Male\":\n",
    "            return f\"Hello Mr {self.fname}\"\n",
    "        elif self.gender == \"Female\":\n",
    "            return f\"Hello Miss {self.fname}\"\n",
    "        else:\n",
    "            return f\"Hello {self.fname}\"\n",
    "\n",
    "    def get_all_info(self):\n",
    "        return f\"{self.name_with_title()}, Your Full Name Is: {self.full_name()}\"\n",
    "\n",
    "    def delete_user(self):\n",
    "        Member.users_num -= 1  # Member.users_num = Member.users_num -1\n",
    "        return f\"User {self.fname} Is Deleted.\"\n",
    "\n"
   ]
  },
  {
   "cell_type": "code",
   "execution_count": null,
   "metadata": {},
   "outputs": [],
   "source": [
    "member_one = Member(\"Osama\", \"Mohamed\", \"Elsayed\", \"Male\")\n",
    "member_two = Member(\"Ahmed\", \"Ali\", \"Mahmoud\", \"Male\")\n",
    "member_three = Member(\"Mona\", \"Ali\", \"Mahmoud\", \"Female\")\n",
    "member_four = Member(\"Shit\", \"Hell\", \"Metal\", \"DD\")\n"
   ]
  },
  {
   "cell_type": "code",
   "execution_count": null,
   "metadata": {},
   "outputs": [],
   "source": [
    "Member.show_users_count()"
   ]
  },
  {
   "cell_type": "code",
   "execution_count": null,
   "metadata": {},
   "outputs": [],
   "source": [
    "print(member_one.full_name())\n",
    "print(Member.full_name(member_one))"
   ]
  },
  {
   "cell_type": "code",
   "execution_count": null,
   "metadata": {},
   "outputs": [],
   "source": [
    "Member.say_hello()"
   ]
  },
  {
   "cell_type": "markdown",
   "metadata": {},
   "source": [
    "## 109 - OOP – Part 7 Class Magic Methods\n"
   ]
  },
  {
   "cell_type": "markdown",
   "metadata": {},
   "source": [
    "Everything in Python is An Object  \n",
    "__init__  Called Automatically When Instantiating Class  \n",
    "self.__class__ The class to which a class instance belongs  \n",
    "__str__   Gives a Human-Readable Output of the Object  \n",
    "__len__   Returns the Length of the Container  \n",
    "Called When We Use the Built-in len() Function on the Object\n"
   ]
  },
  {
   "cell_type": "code",
   "execution_count": null,
   "metadata": {},
   "outputs": [],
   "source": [
    "class Skill:\n",
    "    def __init__(self) -> None:\n",
    "        self.skills = [\"HTML\",\"Css\",\"Js\"]\n",
    "\n",
    "\n",
    "profile = Skill()"
   ]
  },
  {
   "cell_type": "code",
   "execution_count": null,
   "metadata": {},
   "outputs": [],
   "source": [
    "print(profile)\n",
    "print(profile.__class__)"
   ]
  },
  {
   "cell_type": "code",
   "execution_count": null,
   "metadata": {},
   "outputs": [],
   "source": [
    "my_string = \"Osama\""
   ]
  },
  {
   "cell_type": "code",
   "execution_count": null,
   "metadata": {},
   "outputs": [],
   "source": [
    "print(my_string.__class__)\n",
    "print(type(my_string))\n"
   ]
  },
  {
   "cell_type": "code",
   "execution_count": null,
   "metadata": {},
   "outputs": [],
   "source": [
    "output = '\\n'.join(dir(str))\n",
    "print(textwrap.fill(output, width=80))\n"
   ]
  },
  {
   "cell_type": "code",
   "execution_count": null,
   "metadata": {},
   "outputs": [],
   "source": [
    "my_string = 12\n",
    "print(type(my_string))\n",
    "print(my_string.__class__)"
   ]
  },
  {
   "cell_type": "code",
   "execution_count": null,
   "metadata": {},
   "outputs": [],
   "source": [
    "my_string = \"Osama\"\n",
    "print(str.upper(my_string))\n",
    "print(my_string.upper())"
   ]
  },
  {
   "cell_type": "code",
   "execution_count": null,
   "metadata": {},
   "outputs": [],
   "source": [
    "print(profile)"
   ]
  },
  {
   "cell_type": "code",
   "execution_count": null,
   "metadata": {},
   "outputs": [],
   "source": [
    "class Skill:\n",
    "    def __init__(self) -> None:\n",
    "        self.skills = [\"HTML\", \"Css\", \"Js\"]\n",
    "\n",
    "    def __str__(self) -> str:\n",
    "        return f\"this is my skills => {self.skills}\"\n",
    "profile = Skill()\n"
   ]
  },
  {
   "cell_type": "code",
   "execution_count": null,
   "metadata": {},
   "outputs": [],
   "source": [
    "print(profile)"
   ]
  },
  {
   "cell_type": "markdown",
   "metadata": {},
   "source": [
    ">print(len(profile)) #error"
   ]
  },
  {
   "cell_type": "code",
   "execution_count": null,
   "metadata": {},
   "outputs": [],
   "source": [
    "class Skill:\n",
    "    def __init__(self) -> None:\n",
    "        self.skills = [\"HTML\", \"Css\", \"Js\"]\n",
    "\n",
    "    def __str__(self) -> str:\n",
    "        return f\"this is my skills => {self.skills}\"\n",
    "\n",
    "    def __len__(self):\n",
    "        return len(self.skills)\n",
    "\n",
    "profile = Skill()\n"
   ]
  },
  {
   "cell_type": "code",
   "execution_count": null,
   "metadata": {},
   "outputs": [],
   "source": [
    "print(len(profile))"
   ]
  },
  {
   "cell_type": "code",
   "execution_count": null,
   "metadata": {},
   "outputs": [],
   "source": [
    "profile.skills.append(\"PHP\")\n",
    "profile.skills.append(\"MySQL\")\n",
    "\n",
    "print(len(profile))"
   ]
  },
  {
   "cell_type": "markdown",
   "metadata": {},
   "source": [
    "## 110 - OOP – Part 8 Inheritance"
   ]
  },
  {
   "cell_type": "code",
   "execution_count": null,
   "metadata": {},
   "outputs": [],
   "source": [
    "class Food: #Base class\n",
    "    def __init__(self):\n",
    "        print(\"Food is created from base class\")\n",
    "    \n",
    "    def eat(self):\n",
    "        print(\"Eat method from base class\")\n"
   ]
  },
  {
   "cell_type": "code",
   "execution_count": null,
   "metadata": {},
   "outputs": [],
   "source": [
    "class Apple(Food): #Derived class\n",
    "    def __init__(self):\n",
    "        print(\"Apple is created from derived class\")"
   ]
  },
  {
   "cell_type": "code",
   "execution_count": null,
   "metadata": {},
   "outputs": [],
   "source": [
    "food_one = Food()\n",
    "food_two = Apple()"
   ]
  },
  {
   "cell_type": "code",
   "execution_count": null,
   "metadata": {},
   "outputs": [],
   "source": [
    "food_two.eat()"
   ]
  },
  {
   "cell_type": "code",
   "execution_count": null,
   "metadata": {},
   "outputs": [],
   "source": [
    "class Food: #Base class\n",
    "    def __init__(self, name, price):\n",
    "        self.name = name\n",
    "        self.price = price\n",
    "\n",
    "        print(f\"{self.name} is created from base class\")\n",
    "    \n",
    "    def eat(self):\n",
    "        print(\"Eat method from base class\")\n",
    "\n",
    "food_one = Food(\"Pizza\",150)"
   ]
  },
  {
   "cell_type": "code",
   "execution_count": null,
   "metadata": {},
   "outputs": [],
   "source": [
    "class Apple(Food):  # Derived class\n",
    "    def __init__(self, name, price, amount):\n",
    "\n",
    "        # Food.__init__(self,name) #create instance from base class\n",
    "        super().__init__(name, price)\n",
    "        self.amount = amount\n",
    "\n",
    "        print(f\"{self.name} Is Created From Derived Class And Price Is {self.price} And Amount Is {self.amount}\")\n",
    "\n",
    "    def get_from_tree(self):\n",
    "        print(\"Get From Tree From Derived Class\")\n",
    "\n",
    "\n",
    "food_two = Apple(\"pizza\",150,500)\n",
    "\n",
    "\n"
   ]
  },
  {
   "cell_type": "code",
   "execution_count": null,
   "metadata": {},
   "outputs": [],
   "source": [
    "food_two.eat()\n",
    "food_two.get_from_tree()\n"
   ]
  },
  {
   "cell_type": "markdown",
   "metadata": {},
   "source": [
    "## 111 – OOP – Part 9 – Multiple Inheritance And Method Overriding"
   ]
  },
  {
   "cell_type": "code",
   "execution_count": null,
   "metadata": {},
   "outputs": [],
   "source": [
    "class BaseOne:\n",
    "\n",
    "    def __init__(self):\n",
    "        print(\"Base One\")\n",
    "\n",
    "    def func_one(self):\n",
    "        print(\"One\")\n",
    "\n",
    "\n",
    "class BaseTwo:\n",
    "\n",
    "    def __init__(self):\n",
    "        print(\"Base Two\")\n",
    "    def func_two(self):\n",
    "        print(\"Two\")\n",
    "\n",
    "\n",
    "class Derived(BaseOne, BaseTwo):\n",
    "    pass\n",
    "\n",
    "\n",
    "my_var = Derived()\n"
   ]
  },
  {
   "cell_type": "code",
   "execution_count": null,
   "metadata": {},
   "outputs": [],
   "source": [
    "print(Derived.mro())\n"
   ]
  },
  {
   "cell_type": "code",
   "execution_count": null,
   "metadata": {},
   "outputs": [],
   "source": [
    "print(my_var.func_one)\n",
    "print(my_var.func_two)\n",
    "\n",
    "my_var.func_one()\n",
    "my_var.func_two()\n"
   ]
  },
  {
   "cell_type": "markdown",
   "metadata": {},
   "source": [
    "DerivedTwo will inherit from base\n",
    "```python\n",
    "\n",
    "class Base:\n",
    "    pass\n",
    "\n",
    "\n",
    "class DerivedOne(Base):\n",
    "    pass\n",
    "\n",
    "\n",
    "class DerivedTwo(DerivedOne):\n",
    "    pass\n"
   ]
  },
  {
   "cell_type": "markdown",
   "metadata": {},
   "source": [
    "## 112 – OOP – Part 10 – Polymorphism"
   ]
  },
  {
   "cell_type": "code",
   "execution_count": null,
   "metadata": {},
   "outputs": [],
   "source": [
    "n1 = 10\n",
    "n2 = 20\n",
    "print(n1 + n2)"
   ]
  },
  {
   "cell_type": "code",
   "execution_count": null,
   "metadata": {},
   "outputs": [],
   "source": [
    "s1 = \"Hello\"\n",
    "s2 = \"Python\"\n",
    "print(s1+ \" \" + s2) # + adds numbers and concatenates strings "
   ]
  },
  {
   "cell_type": "code",
   "execution_count": null,
   "metadata": {},
   "outputs": [],
   "source": [
    "print(len([1,2,3,4,5]))\n",
    "print(len(\"osama elzero\"))\n",
    "print(len({\"Key_One\": 1, \"Key_Two\": 2}))\n",
    "#len can do multiple tasks based on type"
   ]
  },
  {
   "cell_type": "code",
   "execution_count": null,
   "metadata": {},
   "outputs": [],
   "source": [
    "class A:\n",
    "    def do_something(self):\n",
    "        print(\"From Class A\")\n",
    "        raise NotImplementedError(\"Derived Class Must Implement This Method\") #raises error if B doesnt define do_something function\n",
    "\n",
    "\n",
    "class B(A):\n",
    "    def do_something(self):\n",
    "        print(\"From Class B\")\n",
    "\n",
    "\n",
    "class C(A):\n",
    "    def do_something(self):\n",
    "        print(\"From Class C\")\n"
   ]
  },
  {
   "cell_type": "code",
   "execution_count": null,
   "metadata": {},
   "outputs": [],
   "source": [
    "my_instance = B()\n",
    "my_instance.do_something()\n"
   ]
  },
  {
   "cell_type": "markdown",
   "metadata": {},
   "source": [
    "## 113 – OOP – Part 11 – Encapsulation"
   ]
  },
  {
   "cell_type": "markdown",
   "metadata": {},
   "source": [
    "Encapsulation\n",
    "- Restrict Access To The Data Stored in Attirbutes and Methods\n",
    "Public\n",
    "- Every Attribute and Method That We Used So Far Is Public\n",
    "- Attributes and Methods Can Be Modified and Run From Everywhere\n",
    "- Inside Our Outside The Class\n",
    "Protected\n",
    "- Attributes and Methods Can Be Accessed From Within The Class And Sub Classes\n",
    "- Attributes and Methods Prefixed With One Underscore _\n",
    "Private\n",
    "- Attributes and Methods Can Be Accessed From Within The Class Or Object Only\n",
    "- Attributes Cannot Be Modified From Outside The Class\n",
    "- Attributes and Methods Prefixed With Two Underscores __\n",
    "---------------------------------------------------------\n",
    "- Attributes = Variables = Properties"
   ]
  },
  {
   "cell_type": "code",
   "execution_count": null,
   "metadata": {},
   "outputs": [],
   "source": [
    "class Member:\n",
    "    def __init__(self,name) -> None:\n",
    "        self.name = name #public\n",
    "\n",
    "one = Member(\"Ahmed\")\n",
    "print(one.name)\n",
    "one.name = \"Sayed\"\n",
    "print(one.name)"
   ]
  },
  {
   "cell_type": "code",
   "execution_count": null,
   "metadata": {},
   "outputs": [],
   "source": [
    "class Member:\n",
    "    def __init__(self,name) -> None:\n",
    "        self._name = name #protected\n",
    "\n",
    "\n",
    "one = Member(\"Ahmed\")\n",
    "print(one._name)\n",
    "one._name = \"Sayed\"\n",
    "print(one._name)\n",
    "#Shouldnt do that"
   ]
  },
  {
   "cell_type": "code",
   "execution_count": null,
   "metadata": {},
   "outputs": [],
   "source": [
    "class Member:\n",
    "    def __init__(self,name) -> None:\n",
    "        self.__name = name #protected\n",
    "\n",
    "\n",
    "one = Member(\"Ahmed\")\n"
   ]
  },
  {
   "attachments": {},
   "cell_type": "markdown",
   "metadata": {},
   "source": [
    "print(one.__name)  \n",
    "one.__name = \"Sayed\"  \n",
    "print(one.__name) #error cuz its protected\n",
    "\n"
   ]
  },
  {
   "cell_type": "code",
   "execution_count": null,
   "metadata": {},
   "outputs": [],
   "source": [
    "class Member:\n",
    "    def __init__(self, name):\n",
    "        self.__name = name  # Private\n",
    "\n",
    "    def say_hello(self):\n",
    "        return f\"Hello {self.__name}\"\n",
    "\n",
    "one = Member(\"ahmed\")\n",
    "\n",
    "print(one.say_hello())"
   ]
  },
  {
   "cell_type": "code",
   "execution_count": null,
   "metadata": {},
   "outputs": [],
   "source": [
    "print(one._Member__name)\n",
    "#Shouldnt do that"
   ]
  },
  {
   "cell_type": "markdown",
   "metadata": {},
   "source": [
    "## 114 – OOP – Part 12 – Getters And Setters\n"
   ]
  },
  {
   "cell_type": "code",
   "execution_count": null,
   "metadata": {},
   "outputs": [],
   "source": [
    "class Member:\n",
    "    def __init__(self, name):\n",
    "        self.__name = name\n",
    "    \n",
    "    def say_hello(self):\n",
    "        return f\"Hello {self.__name}\"\n",
    "    \n",
    "    def get_name(self): #Getter\n",
    "        return self.__name\n",
    "    \n",
    "    def set_name(self,new_name):  # setter\n",
    "        self.__name = new_name\n",
    "\n",
    "one = Member(\"Ahmed\")\n",
    "print(one.get_name())\n",
    "one.set_name(\"abbas\")\n",
    "print(one.get_name())"
   ]
  },
  {
   "cell_type": "markdown",
   "metadata": {},
   "source": [
    "## 115 – OOP – Part 13 – @Property Decorator"
   ]
  },
  {
   "cell_type": "code",
   "execution_count": null,
   "metadata": {},
   "outputs": [],
   "source": [
    "class Member:\n",
    "    def __init__(self, name, age):\n",
    "        self.name = name\n",
    "        self.age = age\n",
    "\n",
    "    def say_hello(self):\n",
    "        return f\"Hello {self.name}\"\n",
    "\n",
    "    def age_in_days(self):\n",
    "        return self.age * 365\n",
    "\n",
    "\n",
    "one = Member(\"Ahmed\", 21)\n",
    "\n",
    "print(one.name)\n",
    "print(one.age)\n",
    "print(one.say_hello())\n"
   ]
  },
  {
   "cell_type": "code",
   "execution_count": null,
   "metadata": {},
   "outputs": [],
   "source": [
    "print(one.age_in_days())\n",
    "print(one.age_in_days)"
   ]
  },
  {
   "cell_type": "code",
   "execution_count": null,
   "metadata": {},
   "outputs": [],
   "source": [
    "class Member:\n",
    "    def __init__(self, name, age):\n",
    "        self.name = name\n",
    "        self.age = age\n",
    "\n",
    "    def say_hello(self):\n",
    "        return f\"Hello {self.name}\"\n",
    "\n",
    "    @property\n",
    "    def age_in_days(self):\n",
    "        return self.age * 365\n",
    "\n",
    "\n",
    "one = Member(\"Ahmed\", 21)\n",
    "print(one.age_in_days)\n"
   ]
  },
  {
   "cell_type": "markdown",
   "metadata": {},
   "source": [
    "## 116 – OOP – Part 14 – ABCs Abstract Base Class"
   ]
  },
  {
   "cell_type": "markdown",
   "metadata": {},
   "source": [
    "- Class Called Abstract Class If it Has One or More Abstract Methods\n",
    "- abc module in Python Provides Infrastructure for Defining Custom Abstract Base Classes.\n",
    "- By Adding @absttractmethod Decorator on The Methods\n",
    "- ABCMeta Class Is a Metaclass Used For Defining Abstract Base Class\n"
   ]
  },
  {
   "cell_type": "code",
   "execution_count": null,
   "metadata": {},
   "outputs": [],
   "source": [
    "from abc import ABCMeta, abstractmethod\n",
    "\n",
    "class Programming(metaclass=ABCMeta):\n",
    "\n",
    "    @abstractmethod\n",
    "    def has_oop(self):\n",
    "        pass\n",
    "\n",
    "class Python(Programming):\n",
    "\n",
    "    def has_oop(self):\n",
    "        return \"yes\"\n",
    "\n",
    "class Pascal(Programming):\n",
    "    def has_oop(self):\n",
    "        return \"no\"  \n",
    "\n",
    "#one = Programming() error\n",
    "one = Python()\n",
    "print(one.has_oop())"
   ]
  },
  {
   "cell_type": "code",
   "execution_count": null,
   "metadata": {},
   "outputs": [],
   "source": [
    "from abc import ABCMeta, abstractmethod\n",
    "\n",
    "\n",
    "class Programming(metaclass=ABCMeta):\n",
    "\n",
    "    @abstractmethod\n",
    "    def has_oop(self):\n",
    "        pass\n",
    "\n",
    "\n",
    "class Python(Programming):\n",
    "\n",
    "    def has_oop(self):\n",
    "        return \"yes\"\n",
    "\n",
    "\n",
    "class Pascal(Programming):\n",
    "    pass\n",
    "\n",
    "\n",
    "# one = Programming() error\n",
    "#one = Pascal() error\n",
    "#print(one.has_oop()) error\n"
   ]
  },
  {
   "cell_type": "markdown",
   "metadata": {},
   "source": [
    "# Week 15"
   ]
  },
  {
   "cell_type": "markdown",
   "metadata": {},
   "source": [
    "## 117 – Databases – Intro To Database"
   ]
  },
  {
   "cell_type": "markdown",
   "metadata": {},
   "source": [
    "- Database Is A Place Where We Can Store Data  \n",
    "- Database Organized Into Tables (Users, Categories)  \n",
    "- Tables Has Columns (ID, Username, Password)  \n",
    "- There's Many Types Of Databases (MongoDB, MySQL, SQLite)  \n",
    "- SQL Stand For Structured Query Language  \n",
    "- SQLite => Can Run in Memory or in A Single File  \n",
    "- You Can Browse File With https://sqlitebrowser.org/  \n",
    "- Data Inside Database Has Types (Text, Integer, Date)\n"
   ]
  },
  {
   "cell_type": "markdown",
   "metadata": {},
   "source": [
    "## 118 – Databases – SQLite Create Database And Connect"
   ]
  },
  {
   "cell_type": "markdown",
   "metadata": {},
   "source": [
    "> Connect\n",
    "> Execute\n",
    "> Close\n"
   ]
  },
  {
   "cell_type": "code",
   "execution_count": null,
   "metadata": {},
   "outputs": [],
   "source": [
    "import sqlite3"
   ]
  },
  {
   "cell_type": "code",
   "execution_count": null,
   "metadata": {},
   "outputs": [],
   "source": [
    "# Create Database and connect\n",
    "db = sqlite3.connect(\"app.db\")"
   ]
  },
  {
   "cell_type": "code",
   "execution_count": null,
   "metadata": {},
   "outputs": [],
   "source": [
    "# Create the tables and fields\n",
    "db.execute(\"CREATE TABLE IF NOT EXISTS skills (name TEXT, progress INTEGRER, user_id INTEGER)\")"
   ]
  },
  {
   "cell_type": "code",
   "execution_count": null,
   "metadata": {},
   "outputs": [],
   "source": [
    "# Close Database\n",
    "db.close()\n"
   ]
  },
  {
   "cell_type": "markdown",
   "metadata": {},
   "source": [
    "## 119 – Databases – SQLite Insert Data Into Database"
   ]
  },
  {
   "cell_type": "markdown",
   "metadata": {},
   "source": [
    "- cursor => All Operation in SQL Done By Cursor Not The Connection Itself\n",
    "- commit => Save All Changes\n"
   ]
  },
  {
   "cell_type": "code",
   "execution_count": null,
   "metadata": {},
   "outputs": [],
   "source": [
    "# Import SQLite Module\n",
    "import sqlite3\n",
    "\n",
    "# Create Database And Connect\n",
    "db = sqlite3.connect(\"app.db\")\n"
   ]
  },
  {
   "cell_type": "code",
   "execution_count": null,
   "metadata": {},
   "outputs": [],
   "source": [
    "# Setting Up The Cursor\n",
    "cr = db.cursor()\n"
   ]
  },
  {
   "cell_type": "code",
   "execution_count": null,
   "metadata": {},
   "outputs": [],
   "source": [
    "# Create The Tables and Fields\n",
    "cr.execute(\"create table if not exists users (user_id integer, name text)\")\n",
    "cr.execute(\n",
    "    \"create table if not exists skills (name text, progress integer, user_id integer)\")\n"
   ]
  },
  {
   "cell_type": "code",
   "execution_count": null,
   "metadata": {},
   "outputs": [],
   "source": [
    "# Inserting Data\n",
    "cr.execute(\"insert into users(user_id, name) values(1, 'Ahmed')\")\n",
    "cr.execute(\"insert into users(user_id, name) values(2, 'Sayed')\")\n",
    "cr.execute(\"insert into users(user_id, name) values(3, 'Osama')\")\n"
   ]
  },
  {
   "cell_type": "code",
   "execution_count": null,
   "metadata": {},
   "outputs": [],
   "source": [
    "# Save (Commit) Changes\n",
    "db.commit()\n"
   ]
  },
  {
   "cell_type": "markdown",
   "metadata": {},
   "source": [
    "> Delete db file before running the for loop"
   ]
  },
  {
   "cell_type": "code",
   "execution_count": null,
   "metadata": {},
   "outputs": [],
   "source": [
    "my_list = [\"Ahmed\", \"Sayed\", \"Mahmoud\", \"Ali\", \"Kamel\", \"Ibrahim\", \"Enas\"]\n",
    "\n",
    "for key, user in enumerate(my_list):\n",
    "    cr.execute(f\"insert into users(user_id, name) values({key + 1}, '{user}')\")\n",
    "\n",
    "db.commit()\n"
   ]
  },
  {
   "cell_type": "code",
   "execution_count": null,
   "metadata": {},
   "outputs": [],
   "source": [
    "#Close Database\n",
    "db.close()"
   ]
  },
  {
   "cell_type": "markdown",
   "metadata": {},
   "source": [
    "## 120 – Databases – SQLite Retrieve Data From Database"
   ]
  },
  {
   "cell_type": "markdown",
   "metadata": {},
   "source": [
    "- fetchone => returns a single record or None if no more rows are available.  \n",
    "- fetchall => fetches all the rows of a query result. It returns all the rows as a list of tuples. An empty list is returned if there is no record to fetch.  \n",
    "- fetchmany(size) =>\n"
   ]
  },
  {
   "cell_type": "markdown",
   "metadata": {},
   "source": [
    "> Delete the database file again"
   ]
  },
  {
   "cell_type": "code",
   "execution_count": null,
   "metadata": {},
   "outputs": [],
   "source": [
    "# Import SQLite Module\n",
    "import sqlite3\n",
    "\n",
    "# Create Database And Connect\n",
    "db = sqlite3.connect(\"app.db\")\n",
    "\n",
    "# Setting Up The Cursor\n",
    "cr = db.cursor()\n"
   ]
  },
  {
   "cell_type": "code",
   "execution_count": null,
   "metadata": {},
   "outputs": [],
   "source": [
    "# Create The Tables and Fields\n",
    "cr.execute(\"create table if not exists users (user_id integer, name text)\")\n",
    "\n",
    "cr.execute(\"create table if not exists skills (name text, progress integer, user_id integer)\")\n"
   ]
  },
  {
   "cell_type": "code",
   "execution_count": null,
   "metadata": {},
   "outputs": [],
   "source": [
    "# Inserting Data\n",
    "cr.execute(\"insert into users(user_id, name) values(1, 'Ahmed')\")\n",
    "cr.execute(\"insert into users(user_id, name) values(2, 'Sayed')\")\n",
    "cr.execute(\"insert into users(user_id, name) values(3, 'Osama')\")\n",
    "\n",
    "db.commit()\n"
   ]
  },
  {
   "cell_type": "code",
   "execution_count": null,
   "metadata": {},
   "outputs": [],
   "source": [
    "# Fetch Data\n",
    "cr.execute(\"select name from users\")\n",
    "\n",
    "print(cr.fetchone())\n",
    "print(cr.fetchone())\n",
    "print(cr.fetchone())\n",
    "print(cr.fetchone())\n"
   ]
  },
  {
   "cell_type": "code",
   "execution_count": null,
   "metadata": {},
   "outputs": [],
   "source": [
    "cr.execute(\"select user_id, name from users\")\n",
    "\n",
    "#print(cr.fetchall())\n",
    "print(cr.fetchmany(2))"
   ]
  },
  {
   "cell_type": "markdown",
   "metadata": {},
   "source": [
    "## 121 – Databases – SQLite Training On Everything"
   ]
  },
  {
   "cell_type": "code",
   "execution_count": null,
   "metadata": {},
   "outputs": [],
   "source": [
    "import sqlite3\n",
    "\n",
    "\n",
    "def get_all_data():\n",
    "\n",
    "    try:\n",
    "\n",
    "        # Connect To Database\n",
    "        db = sqlite3.connect(\"app.db\")\n",
    "\n",
    "        # Print Success Message\n",
    "        print(\"Connected To Database Successfully\")\n",
    "\n",
    "        # Setting Up The Cursor\n",
    "        cr = db.cursor()\n",
    "\n",
    "        # Fetch Data From Database\n",
    "        cr.execute(\"select * from users\")\n",
    "\n",
    "        # Assign Data To Variable\n",
    "        results = cr.fetchall()\n",
    "\n",
    "        # Print Number Of Rows\n",
    "        print(f\"Database Has {len(results)} Rows.\")\n",
    "        # Printing Message\n",
    "        print(\"Showing Data:\")\n",
    "\n",
    "        # Loop On Results\n",
    "        for row in results:\n",
    "            print(f\"UserID => {row[0]},\", end=\" \")\n",
    "            print(f\"Username => {row[1]}\")\n",
    "\n",
    "    except sqlite3.Error as er:\n",
    "        print(f\"Error Reading Data {er}\")\n",
    "\n",
    "    finally:\n",
    "\n",
    "        if (db):\n",
    "            # Close Database Connection\n",
    "            db.close()\n",
    "            print(\"Connection To Database Is Closed\")\n",
    "\n",
    "\n",
    "get_all_data()\n"
   ]
  },
  {
   "cell_type": "markdown",
   "metadata": {},
   "source": [
    "## 122 – Databases – SQLite Update And Delete From Database"
   ]
  },
  {
   "cell_type": "code",
   "execution_count": null,
   "metadata": {},
   "outputs": [],
   "source": [
    "# Import SQLite Module\n",
    "import sqlite3\n",
    "\n",
    "# Create Database And Connect\n",
    "db = sqlite3.connect(\"app.db\")\n"
   ]
  },
  {
   "cell_type": "code",
   "execution_count": null,
   "metadata": {},
   "outputs": [],
   "source": [
    "# Setting Up The Cursor\n",
    "cr = db.cursor()\n"
   ]
  },
  {
   "cell_type": "code",
   "execution_count": null,
   "metadata": {},
   "outputs": [],
   "source": [
    "# Create The Tables and Fields\n",
    "cr.execute(\"create table if not exists users (user_id integer, name text)\")\n",
    "\n",
    "cr.execute(\n",
    "    \"create table if not exists skills (name text, progress integer, user_id integer)\")\n"
   ]
  },
  {
   "cell_type": "code",
   "execution_count": null,
   "metadata": {},
   "outputs": [],
   "source": [
    "# Inserting Data\n",
    "cr.execute(\"insert into users(user_id, name) values(1, 'Ahmed')\")\n",
    "cr.execute(\"insert into users(user_id, name) values(2, 'Sayed')\")\n",
    "cr.execute(\"insert into users(user_id, name) values(3, 'Osama')\")\n",
    "\n",
    "db.commit()\n"
   ]
  },
  {
   "cell_type": "code",
   "execution_count": null,
   "metadata": {},
   "outputs": [],
   "source": [
    "# Update Data\n",
    "cr.execute(\"update users set name = 'Ahmed' where user_id = 1\")\n"
   ]
  },
  {
   "cell_type": "code",
   "execution_count": null,
   "metadata": {},
   "outputs": [],
   "source": [
    "# Delete Data\n",
    "cr.execute(\"delete from users where user_id = 4\")\n"
   ]
  },
  {
   "cell_type": "code",
   "execution_count": null,
   "metadata": {},
   "outputs": [],
   "source": [
    "# Fetch Data\n",
    "cr.execute(\"select * from users\")\n",
    "print(cr.fetchone())\n"
   ]
  },
  {
   "cell_type": "code",
   "execution_count": null,
   "metadata": {},
   "outputs": [],
   "source": [
    "# Save (Commit) Changes\n",
    "db.commit()\n"
   ]
  },
  {
   "cell_type": "code",
   "execution_count": null,
   "metadata": {},
   "outputs": [],
   "source": [
    "# Close Database\n",
    "db.close()\n"
   ]
  },
  {
   "cell_type": "markdown",
   "metadata": {},
   "source": [
    "## 123 – Databases – SQLite Create Skills App Part 1"
   ]
  },
  {
   "cell_type": "code",
   "execution_count": null,
   "metadata": {},
   "outputs": [],
   "source": [
    "# Input Big Message\n",
    "input_message = \"\"\"\n",
    "What Do You Want To Do ?\n",
    "\"s\" => Show All Skills\n",
    "\"a\" => Add New Skill\n",
    "\"d\" => Delete A Skill\n",
    "\"u\" => Update Skill Progress\n",
    "\"q\" => Quit The App\n",
    "Choose Option:\n",
    "\"\"\"\n"
   ]
  },
  {
   "cell_type": "code",
   "execution_count": null,
   "metadata": {},
   "outputs": [],
   "source": [
    "# Input Option Choose\n",
    "user_input = input(input_message).strip().lower()\n",
    "\n",
    "# Command List\n",
    "commands_list = [\"s\", \"a\", \"d\", \"u\", \"q\"]\n"
   ]
  },
  {
   "cell_type": "code",
   "execution_count": null,
   "metadata": {},
   "outputs": [],
   "source": [
    "# Define The Methods\n",
    "\n",
    "def show_skills():\n",
    "    print(\"Show Skills\")\n",
    "\n",
    "\n",
    "def add_skill():\n",
    "    print(\"Add Skill\")\n",
    "\n",
    "\n",
    "def delete_skill():\n",
    "    print(\"Delete Skill\")\n",
    "\n",
    "\n",
    "def update_skill():\n",
    "    print(\"Update Skill Progress\")\n"
   ]
  },
  {
   "cell_type": "code",
   "execution_count": null,
   "metadata": {},
   "outputs": [],
   "source": [
    "# Check If Command Is Exists\n",
    "if user_input in commands_list:\n",
    "    print(f\"Command Found {user_input}\")\n",
    "\n",
    "    if user_input == \"s\":\n",
    "        show_skills()\n",
    "\n",
    "    elif user_input == \"a\":\n",
    "        add_skill()\n",
    "\n",
    "    elif user_input == \"d\":\n",
    "        delete_skill()\n",
    "\n",
    "    elif user_input == \"u\":\n",
    "        update_skill()\n",
    "\n",
    "    else:\n",
    "        print(\"App Is Closed.\")\n",
    "\n",
    "else:\n",
    "    print(f\"Sorry This Command \\\"{user_input}\\\" Is Not Found\")\n"
   ]
  },
  {
   "cell_type": "markdown",
   "metadata": {},
   "source": [
    "## 124 – Databases – SQLite Create Skills App Part 2"
   ]
  },
  {
   "cell_type": "code",
   "execution_count": null,
   "metadata": {},
   "outputs": [],
   "source": [
    "# Import SQLite Module\n",
    "import sqlite3\n",
    "\n",
    "# Create Database And Connect\n",
    "db = sqlite3.connect(\"skill.db\")\n",
    "\n",
    "# Setting Up The Cursor\n",
    "cr = db.cursor()\n",
    "\n",
    "# My User ID\n",
    "uid = 1"
   ]
  },
  {
   "cell_type": "code",
   "execution_count": null,
   "metadata": {},
   "outputs": [],
   "source": [
    "# Commit and Close Method\n",
    "def commit_and_close():\n",
    "\n",
    "    # Save (Commit) Changes\n",
    "    db.commit()\n",
    "\n",
    "    # Close Database\n",
    "    db.close()\n",
    "    print(\"Connection To Database Is Closed\")\n"
   ]
  },
  {
   "cell_type": "code",
   "execution_count": null,
   "metadata": {},
   "outputs": [],
   "source": [
    "# Input Big Message\n",
    "input_message = \"\"\"\n",
    "What Do You Want To Do ?\n",
    "\"s\" => Show All Skills\n",
    "\"a\" => Add New Skill\n",
    "\"d\" => Delete A Skill\n",
    "\"u\" => Update Skill Progress\n",
    "\"q\" => Quit The App\n",
    "Choose Option:\n",
    "\"\"\"\n"
   ]
  },
  {
   "cell_type": "code",
   "execution_count": null,
   "metadata": {},
   "outputs": [],
   "source": [
    "# Input Option Choose\n",
    "user_input = input(input_message).strip().lower()"
   ]
  },
  {
   "cell_type": "code",
   "execution_count": null,
   "metadata": {},
   "outputs": [],
   "source": [
    "# Command List\n",
    "commands_list = [\"s\", \"a\", \"d\", \"u\", \"q\"]\n"
   ]
  },
  {
   "cell_type": "code",
   "execution_count": null,
   "metadata": {},
   "outputs": [],
   "source": [
    "# Define The Methods\n",
    "def show_skills():\n",
    "\n",
    "    print(\"Show Skills\")\n",
    "\n",
    "    commit_and_close()\n",
    "\n",
    "\n",
    "def add_skill():\n",
    "\n",
    "    sk = input(\"Write Skill Name: \").strip().capitalize()\n",
    "    prog = input(\"Write Skill Progress \").strip()\n",
    "\n",
    "    cr.execute(\n",
    "        f\"insert into skills(name, progress, user_id) values('{sk}', '{prog}', '{uid}')\")\n",
    "\n",
    "    commit_and_close()\n",
    "\n",
    "\n",
    "def delete_skill():\n",
    "\n",
    "    sk = input(\"Write Skill Name: \").strip().capitalize()\n",
    "    cr.execute(f\"delete from skills where name = '{sk}' and user_id = '{uid}'\")\n",
    "\n",
    "    commit_and_close()\n",
    "\n",
    "\n",
    "def update_skill():\n",
    "\n",
    "    print(\"Update Skill Progress\")\n",
    "    \n",
    "    commit_and_close()\n"
   ]
  },
  {
   "cell_type": "code",
   "execution_count": null,
   "metadata": {},
   "outputs": [],
   "source": [
    "# Check If Command Is Exists\n",
    "if user_input in commands_list:\n",
    "\n",
    "    # print(f\"Command Found {user_input}\")\n",
    "\n",
    "    if user_input == \"s\":\n",
    "        show_skills()\n",
    "\n",
    "    elif user_input == \"a\":\n",
    "        add_skill()\n",
    "\n",
    "    elif user_input == \"d\":\n",
    "        delete_skill()\n",
    "\n",
    "    elif user_input == \"u\":\n",
    "        update_skill()\n",
    "\n",
    "    else:\n",
    "        print(\"App Is Closed.\")\n",
    "\n",
    "else:\n",
    "\n",
    "    print(f\"Sorry This Command \\\"{user_input}\\\" Is Not Found\")\n"
   ]
  },
  {
   "cell_type": "markdown",
   "metadata": {},
   "source": [
    "## 125 – Databases – SQLite Create Skills App Part 3"
   ]
  },
  {
   "cell_type": "code",
   "execution_count": null,
   "metadata": {},
   "outputs": [],
   "source": [
    "# Import SQLite Module\n",
    "import sqlite3\n",
    "\n",
    "# Create Database And Connect\n",
    "db = sqlite3.connect(\"skill.db\")\n",
    "\n",
    "# Setting Up The Cursor\n",
    "cr = db.cursor()"
   ]
  },
  {
   "cell_type": "code",
   "execution_count": null,
   "metadata": {},
   "outputs": [],
   "source": [
    "def commit_and_close():\n",
    "    \"\"\"Commit Changes and Close Connection To Database\"\"\"\n",
    "    db.commit()  # Save (Commit) Changes\n",
    "    db.close()  # Close Database\n",
    "    print(\"Connection To Database Is Closed\")\n"
   ]
  },
  {
   "cell_type": "code",
   "execution_count": null,
   "metadata": {},
   "outputs": [],
   "source": [
    "# My User ID\n",
    "uid = 1"
   ]
  },
  {
   "cell_type": "code",
   "execution_count": null,
   "metadata": {},
   "outputs": [],
   "source": [
    "# Input Big Message\n",
    "input_message = \"\"\"\n",
    "What Do You Want To Do ?\n",
    "\"s\" => Show All Skills\n",
    "\"a\" => Add New Skill\n",
    "\"d\" => Delete A Skill\n",
    "\"u\" => Update Skill Progress\n",
    "\"q\" => Quit The App\n",
    "Choose Option:\n",
    "\"\"\""
   ]
  },
  {
   "cell_type": "code",
   "execution_count": null,
   "metadata": {},
   "outputs": [],
   "source": [
    "# Input Option Choose\n",
    "user_input = input(input_message).strip().lower()\n",
    "\n",
    "# Command List\n",
    "commands_list = [\"s\", \"a\", \"d\", \"u\", \"q\"]\n"
   ]
  },
  {
   "cell_type": "code",
   "execution_count": null,
   "metadata": {},
   "outputs": [],
   "source": [
    "# Define The Methods\n",
    "def show_skills():\n",
    "\n",
    "    cr.execute(f\"select * from skills where user_id = '{uid}'\")\n",
    "    results = cr.fetchall()\n",
    "\n",
    "    print(f\"You Have {len(results)} Skills.\")\n",
    "\n",
    "    if len(results) > 0:\n",
    "        print(\"Showing Skills With Progress: \")\n",
    "\n",
    "    for row in results:\n",
    "        print(f\"Skill => {row[0]},\", end=\" \")\n",
    "        print(f\"Progress => {row[1]}%\")\n",
    "\n",
    "    commit_and_close()\n",
    "\n",
    "\n",
    "def add_skill():\n",
    "\n",
    "    sk = input(\"Write Skill Name: \").strip().capitalize()\n",
    "    prog = input(\"Write Skill Progress \").strip()\n",
    "\n",
    "    cr.execute(\n",
    "        f\"insert into skills(name, progress, user_id) values('{sk}', '{prog}', '{uid}')\")\n",
    "\n",
    "    commit_and_close()\n",
    "\n",
    "\n",
    "def delete_skill():\n",
    "\n",
    "    sk = input(\"Write Skill Name: \").strip().capitalize()\n",
    "\n",
    "    cr.execute(f\"delete from skills where name = '{sk}' and user_id = '{uid}'\")\n",
    "\n",
    "    commit_and_close()\n",
    "\n",
    "\n",
    "def update_skill():\n",
    "\n",
    "    print(\"Update Skill Progress\")\n",
    "\n",
    "    commit_and_close()\n"
   ]
  },
  {
   "cell_type": "code",
   "execution_count": null,
   "metadata": {},
   "outputs": [],
   "source": [
    "# Check If Command Is Exists\n",
    "if user_input in commands_list:\n",
    "\n",
    "    # print(f\"Command Found {user_input}\")\n",
    "\n",
    "    if user_input == \"s\":\n",
    "        show_skills()\n",
    "\n",
    "    elif user_input == \"a\":\n",
    "        add_skill()\n",
    "\n",
    "    elif user_input == \"d\":\n",
    "        delete_skill()\n",
    "\n",
    "    elif user_input == \"u\":\n",
    "        update_skill()\n",
    "\n",
    "    else:\n",
    "        print(\"App Is Closed.\")\n",
    "\n",
    "else:\n",
    "\n",
    "    print(f\"Sorry This Command \\\"{user_input}\\\" Is Not Found\")\n"
   ]
  },
  {
   "cell_type": "markdown",
   "metadata": {},
   "source": [
    "## 126 – Databases – SQLite Create Skills App Part 4"
   ]
  },
  {
   "cell_type": "code",
   "execution_count": null,
   "metadata": {},
   "outputs": [],
   "source": [
    "# Import SQLite Module\n",
    "import sqlite3\n",
    "\n",
    "# Create Database And Connect\n",
    "db = sqlite3.connect(\"skill.db\")\n",
    "\n",
    "# Setting Up The Cursor\n",
    "cr = db.cursor()\n"
   ]
  },
  {
   "cell_type": "code",
   "execution_count": null,
   "metadata": {},
   "outputs": [],
   "source": [
    "def commit_and_close():\n",
    "    \"\"\"Commit Changes and Close Connection To Database\"\"\"\n",
    "    db.commit()  # Save (Commit) Changes\n",
    "    db.close()  # Close Database\n",
    "    print(\"Connection To Database Is Closed\")\n"
   ]
  },
  {
   "cell_type": "code",
   "execution_count": null,
   "metadata": {},
   "outputs": [],
   "source": [
    "# My User ID\n",
    "uid = 1\n",
    "\n",
    "# Input Big Message\n",
    "input_message = \"\"\"\n",
    "What Do You Want To Do ?\n",
    "\"s\" => Show All Skills\n",
    "\"a\" => Add New Skill\n",
    "\"d\" => Delete A Skill\n",
    "\"u\" => Update Skill Progress\n",
    "\"q\" => Quit The App\n",
    "Choose Option:\n",
    "\"\"\"\n"
   ]
  },
  {
   "cell_type": "code",
   "execution_count": null,
   "metadata": {},
   "outputs": [],
   "source": [
    "# Input Option Choose\n",
    "user_input = input(input_message).strip().lower()\n",
    "\n",
    "# Command List\n",
    "commands_list = [\"s\", \"a\", \"d\", \"u\", \"q\"]\n"
   ]
  },
  {
   "cell_type": "code",
   "execution_count": null,
   "metadata": {},
   "outputs": [],
   "source": [
    "# Define The Methods\n",
    "def show_skills():\n",
    "\n",
    "    cr.execute(f\"select * from skills where user_id = '{uid}'\")\n",
    "\n",
    "    results = cr.fetchall()\n",
    "\n",
    "    print(f\"You Have {len(results)} Skills.\")\n",
    "\n",
    "    if len(results) > 0:\n",
    "\n",
    "        print(\"Showing Skills With Progress: \")\n",
    "\n",
    "    for row in results:\n",
    "\n",
    "        print(f\"Skill => {row[0]},\", end=\" \")\n",
    "\n",
    "        print(f\"Progress => {row[1]}%\")\n",
    "\n",
    "    commit_and_close()\n",
    "\n",
    "\n",
    "def add_skill():\n",
    "\n",
    "    sk = input(\"Write Skill Name: \").strip().capitalize()\n",
    "\n",
    "    cr.execute(\n",
    "        f\"select name from skills where name = '{sk}' and user_id = '{uid}'\")\n",
    "\n",
    "    results = cr.fetchone()\n",
    "\n",
    "    if results == None:  # Theres No Skill With This Name In Database\n",
    "\n",
    "        prog = input(\"Write Skill Progress \").strip()\n",
    "\n",
    "        cr.execute(\n",
    "            f\"insert into skills(name, progress, user_id) values('{sk}', '{prog}', '{uid}')\")\n",
    "\n",
    "    else:  # Theres A Skill With This Name in Database\n",
    "\n",
    "        print(\"You Cannot Add It\")\n",
    "\n",
    "    commit_and_close()\n",
    "\n",
    "\n",
    "def delete_skill():\n",
    "\n",
    "    sk = input(\"Write Skill Name: \").strip().capitalize()\n",
    "\n",
    "    cr.execute(f\"delete from skills where name = '{sk}' and user_id = '{uid}'\")\n",
    "\n",
    "    commit_and_close()\n",
    "\n",
    "\n",
    "def update_skill():\n",
    "\n",
    "    sk = input(\"Write Skill Name: \").strip().capitalize()\n",
    "\n",
    "    prog = input(\"Write The New Skill Progress \").strip()\n",
    "\n",
    "    cr.execute(\n",
    "        f\"update skills set progress = '{prog}' where name = '{sk}' and user_id = '{uid}'\")\n",
    "\n",
    "    commit_and_close()\n"
   ]
  },
  {
   "cell_type": "code",
   "execution_count": null,
   "metadata": {},
   "outputs": [],
   "source": [
    "# Check If Command Is Exists\n",
    "if user_input in commands_list:\n",
    "\n",
    "    # print(f\"Command Found {user_input}\")\n",
    "\n",
    "    if user_input == \"s\":\n",
    "        show_skills()\n",
    "\n",
    "    elif user_input == \"a\":\n",
    "        add_skill()\n",
    "\n",
    "    elif user_input == \"d\":\n",
    "        delete_skill()\n",
    "\n",
    "    elif user_input == \"u\":\n",
    "        update_skill()\n",
    "\n",
    "    else:\n",
    "        print(\"App Is Closed.\")\n",
    "\n",
    "        commit_and_close()\n",
    "\n",
    "else:\n",
    "\n",
    "    print(f\"Sorry This Command \\\"{user_input}\\\" Is Not Found\")\n"
   ]
  },
  {
   "cell_type": "markdown",
   "metadata": {},
   "source": [
    "## 127 – Databases – SQLite Very Important Informations"
   ]
  },
  {
   "attachments": {},
   "cell_type": "markdown",
   "metadata": {},
   "source": [
    "```\n",
    "import sqlite3\n",
    "\n",
    "db = sqlite3.connect(\"skill.db\")\n",
    "\n",
    "cr = db.cursor()\n",
    "\n",
    "\n",
    "my_tuple = ('Pascal', '65', 4)\n",
    "cr.execute(\"insert into skills values(?, ?, ?)\", my_tuple)\n",
    "\n",
    "cr.execute(\"select * from skills where user_id not in(1, 2, 3)\")\n",
    "\n",
    "results = cr.fetchall()\n",
    "\n",
    "for row in results:\n",
    "    print(f\"Skill Name => {row[0]},\", end=\" \")\n",
    "    print(f\"Skill Progress => {row[1]},\", end=\" \")\n",
    "    print(f\"User ID => {row[2]}\")\n",
    "\n",
    "\n",
    "db.commit()\n",
    "\n",
    "db.close()"
   ]
  },
  {
   "cell_type": "markdown",
   "metadata": {},
   "source": [
    "# Week 16"
   ]
  },
  {
   "cell_type": "markdown",
   "metadata": {},
   "source": [
    "## 128 - Advanced Lessons – \"\\__name__\" And “\\__main__”"
   ]
  },
  {
   "attachments": {},
   "cell_type": "markdown",
   "metadata": {},
   "source": [
    "```python\n",
    "if __name__ == \"__main__\":  \n",
    "- __name__ => Built In Variable  \n",
    "- \"__main__\" => Value Of The __name__ Variable  \n",
    "Executions Methods  \n",
    "- Directly => Execute the Python File Using the Command Line.  \n",
    "- From Import => Import The Code From File To Another File  \n",
    "-------------------------------------------------------------  \n",
    "In Some Cases You Want To Know If You Are Using A Module Method As Import Or You Use The Original Python File  \n",
    "-------------------------------------------------------------------------  \n",
    "In Direct Mode Python Assign A Value \"__main__\"  \n",
    "To The Built In Variable __name__ in The Background\n"
   ]
  },
  {
   "cell_type": "code",
   "execution_count": null,
   "metadata": {},
   "outputs": [],
   "source": [
    "print(__name__)"
   ]
  },
  {
   "cell_type": "markdown",
   "metadata": {},
   "source": [
    "## 129 - Advanced Lessons – Timing Your Code With Timeit"
   ]
  },
  {
   "attachments": {},
   "cell_type": "markdown",
   "metadata": {},
   "source": [
    "- timeit: - Get Execution Time Of Code By Running 1M Time And Give You Minimal Time  \n",
    "-         - It Used For Performance By Testing All Functionality   \n",
    "- timeit(stmt, setup, timer, number)  \n",
    "- timeit(pass, pass, default, 1.000.000) Default Values  \n",
    "-------------------------------------------------------  \n",
    "- stmt: Code You Want To Measure The Execution Time  \n",
    "- setup: Setup Done Before The Code Execution (Import Module Or Anything)  \n",
    "- timer: The Timer Value  \n",
    "- number: How Many Execution That Will Run  \n"
   ]
  },
  {
   "cell_type": "code",
   "execution_count": null,
   "metadata": {},
   "outputs": [],
   "source": [
    "import timeit\n",
    "\n",
    "print(timeit.timeit(\"'elzero'\" * 1000))"
   ]
  },
  {
   "cell_type": "code",
   "execution_count": null,
   "metadata": {},
   "outputs": [],
   "source": [
    "name = \"Elzero\"\n",
    "\n",
    "print(timeit.timeit(\"name = 'Elzero'; name * 1000\"))\n"
   ]
  },
  {
   "cell_type": "code",
   "execution_count": null,
   "metadata": {},
   "outputs": [],
   "source": [
    "print(timeit.timeit(stmt=\"random.randint(0, 50)\", setup=\"import random\"))\n"
   ]
  },
  {
   "cell_type": "code",
   "execution_count": null,
   "metadata": {},
   "outputs": [],
   "source": [
    "print(timeit.repeat(stmt=\"random.randint(0, 50)\", setup=\"import random\", repeat=4))\n"
   ]
  },
  {
   "cell_type": "markdown",
   "metadata": {},
   "source": [
    "## 130 - Advanced Lessons – Add Logging To Your Code"
   ]
  },
  {
   "attachments": {},
   "cell_type": "markdown",
   "metadata": {},
   "source": [
    "- Print Out To Console Or File\n",
    "- Print Logs Of What Happens\n",
    "------------------------------\n",
    "- DEBUG\n",
    "- INFO\n",
    "- WARNING\n",
    "- ERROR\n",
    "- CRITICAL    \n",
    "  \n",
    "name => Logging Module Give It To The Default Logger.  \n",
    "   \n",
    "Basic Config\n",
    "- level => Level of Severity\n",
    "- filename => File Name and Extension\n",
    "- mode => Mode Of The File a => Append\n",
    "- format => Format For The Log Message\n",
    "------------------------"
   ]
  },
  {
   "cell_type": "code",
   "execution_count": null,
   "metadata": {},
   "outputs": [],
   "source": [
    "import logging\n",
    "\n",
    "import textwrap\n",
    "output = '\\n'.join(dir(logging))\n",
    "print(textwrap.fill(output, width=80))\n"
   ]
  },
  {
   "cell_type": "code",
   "execution_count": null,
   "metadata": {},
   "outputs": [],
   "source": [
    "logging.basicConfig(filename=\"my_app.log\",\n",
    "                    filemode=\"a\",\n",
    "                    format=\"(%(asctime)s) | %(name)s | %(levelname)s => '%(message)s'\",\n",
    "                    datefmt=\"%d - %B - %Y, %H:%M:%S\")\n"
   ]
  },
  {
   "cell_type": "code",
   "execution_count": null,
   "metadata": {},
   "outputs": [],
   "source": [
    "my_logger = logging.getLogger(\"Elzero\")\n",
    "\n",
    "my_logger.warning(\"This Is Warning Message\")\n"
   ]
  },
  {
   "cell_type": "markdown",
   "metadata": {},
   "source": [
    "## 131 - Advanced Lessons – Unit Testing With Unittest"
   ]
  },
  {
   "attachments": {},
   "cell_type": "markdown",
   "metadata": {},
   "source": [
    "Test Runner\n",
    "- The Module That Run The Unit Testing (unittest, pytest)\n",
    "---------------------------------------------------------\n",
    "Test Case\n",
    "- Smallest Unit Of Testing\n",
    "- It Use Asserts Methods To Check For Actions And Responses\n",
    "Test Suite\n",
    "- Collection Of Multiple Tests Or Test Cases\n",
    "Test Report\n",
    "- A Full Report Contains The Failure Or Succeed\n",
    "-------------------------------------------------------\n",
    "unittest\n",
    "- Add Tests Into Classes As Methods\n",
    "- Use a Series of Special Assertion Methods\n",
    "https://docs.python.org/3/library/unittest.html "
   ]
  },
  {
   "cell_type": "code",
   "execution_count": null,
   "metadata": {},
   "outputs": [],
   "source": [
    "assert 3*8 ==24, \"should be 24\""
   ]
  },
  {
   "cell_type": "code",
   "execution_count": null,
   "metadata": {},
   "outputs": [],
   "source": [
    "def test_case_one():\n",
    "    assert 5 * 10 == 50, \"Should Be 50\"\n",
    "\n",
    "\n",
    "def test_case_two():\n",
    "    assert 5 * 50 == 250, \"Should Be 250\"\n",
    "\n",
    "\n",
    "if __name__ == \"__main__\":\n",
    "    test_case_one()\n",
    "    test_case_two()\n",
    "\n",
    "    print(\"All Tests Passed\")\n"
   ]
  },
  {
   "attachments": {},
   "cell_type": "markdown",
   "metadata": {},
   "source": [
    "```Python\n",
    "import unittest\n",
    "\n",
    "class MyTestCase(unittest.TestCase):\n",
    "\n",
    "    def test_one(self):\n",
    "        self.assertTrue(100 > 99, \"Should Be True\")\n",
    "\n",
    "    def test_two(self):\n",
    "        self.assertEqual(40 + 60, 100, \"Should Be 100\")\n",
    "\n",
    "    def test_three(self):\n",
    "        self.assertGreater(100, 80, \"Should Be True\")\n",
    "\n",
    "\n",
    "if __name__ == \"__main__\":\n",
    "\n",
    "    unittest.main()\n"
   ]
  },
  {
   "cell_type": "markdown",
   "metadata": {},
   "source": [
    "## 132 - Advanced Lessons – Generate Random Serial Numbers"
   ]
  },
  {
   "cell_type": "code",
   "execution_count": null,
   "metadata": {},
   "outputs": [],
   "source": [
    "import string\n",
    "\n",
    "print(string.digits)"
   ]
  },
  {
   "cell_type": "code",
   "execution_count": null,
   "metadata": {},
   "outputs": [],
   "source": [
    "print(string.ascii_letters)"
   ]
  },
  {
   "cell_type": "code",
   "execution_count": null,
   "metadata": {},
   "outputs": [],
   "source": [
    "print(string.ascii_lowercase)"
   ]
  },
  {
   "cell_type": "code",
   "execution_count": null,
   "metadata": {},
   "outputs": [],
   "source": [
    "print(string.ascii_uppercase)"
   ]
  },
  {
   "cell_type": "code",
   "execution_count": null,
   "metadata": {},
   "outputs": [],
   "source": [
    "def make_serial():\n",
    "\n",
    "    all_chars = string.ascii_letters + string.digits\n",
    "    print(all_chars)\n",
    "\n",
    "    chars_count = len(all_chars)\n",
    "    print(chars_count)\n",
    "\n",
    "make_serial()"
   ]
  },
  {
   "cell_type": "code",
   "execution_count": null,
   "metadata": {},
   "outputs": [],
   "source": [
    "import random \n",
    "\n",
    "test = \"abcd\"\n",
    "print(test[random.randint(0,3)])"
   ]
  },
  {
   "cell_type": "code",
   "execution_count": null,
   "metadata": {},
   "outputs": [],
   "source": [
    "def make_serial(count):\n",
    "\n",
    "    all_chars = string.ascii_letters + string.digits\n",
    "\n",
    "    chars_count = len(all_chars)\n",
    "\n",
    "    serial_list = []\n",
    "\n",
    "    while count > 0:\n",
    "\n",
    "        random_number = random.randint(0, chars_count - 1)\n",
    "        random_character = all_chars[random_number]\n",
    "        serial_list.append(random_character)\n",
    "\n",
    "        count -= 1  # count = count - 1\n",
    "\n",
    "    print(\"\".join(serial_list))\n",
    "\n",
    "\n",
    "make_serial(10)\n"
   ]
  },
  {
   "cell_type": "markdown",
   "metadata": {},
   "source": [
    "# Week 17"
   ]
  },
  {
   "cell_type": "markdown",
   "metadata": {},
   "source": [
    "## 133 - Flask – Intro And Your First Page"
   ]
  },
  {
   "attachments": {},
   "cell_type": "markdown",
   "metadata": {},
   "source": [
    "```python\n",
    "from flask import Flask\n",
    "\n",
    "skills_app = Flask(__name__)\n",
    "\n",
    "\n",
    "@skills_app.route(\"/\")\n",
    "def homepage():\n",
    "    return \"Hello From Flask Framework\"\n",
    "\n",
    "\n",
    "@skills_app.route(\"/about\")\n",
    "def about():\n",
    "    return \"About Page From Flask Framework\"\n",
    "\n",
    "\n",
    "if __name__ == \"__main__\":\n",
    "    skills_app.run(debug=True, port=9000)\n"
   ]
  },
  {
   "cell_type": "markdown",
   "metadata": {},
   "source": [
    "## 134 - Flask – Create HTML Files"
   ]
  },
  {
   "cell_type": "markdown",
   "metadata": {},
   "source": [
    "```Python\n",
    "from flask import Flask, render_template\n",
    "\n",
    "skills_app = Flask(__name__)\n",
    "\n",
    "\n",
    "@skills_app.route(\"/\")\n",
    "def homepage():\n",
    "    return render_template(\"homepage.html\", pagetitle=\"Homepage\")\n",
    "\n",
    "\n",
    "@skills_app.route(\"/about\")\n",
    "def about():\n",
    "    return render_template(\"about.html\", pagetitle=\"About Us\")\n",
    "\n",
    "\n",
    "if __name__ == \"__main__\":\n",
    "    skills_app.run(debug=True, port=9000)\n"
   ]
  },
  {
   "attachments": {},
   "cell_type": "markdown",
   "metadata": {},
   "source": [
    "```HTML\n",
    "  \n",
    "homepage.html\n",
    "  \n",
    "<!DOCTYPE html>\n",
    "  <html lang=\"en\">\n",
    "  <head>\n",
    "    <meta charset=\"UTF-8\">\n",
    "    <title>{{ pagetitle }}</title>\n",
    "  </head>\n",
    "  <body>\n",
    "    Hello From Home Page\n",
    "  </body>\n",
    "</html>"
   ]
  },
  {
   "cell_type": "markdown",
   "metadata": {},
   "source": [
    "```HTML\n",
    "\n",
    "about.html\n",
    "\n",
    "<!DOCTYPE html>\n",
    "  <html lang=\"en\">\n",
    "  <head>\n",
    "    <meta charset=\"UTF-8\">\n",
    "    <title>{{ pagetitle }}</title>\n",
    "  </head>\n",
    "  <body>\n",
    "    Hello From About Page\n",
    "  </body>\n",
    "</html>"
   ]
  },
  {
   "cell_type": "markdown",
   "metadata": {},
   "source": [
    "## 135 - Flask – Create And Extends HTML Templates"
   ]
  },
  {
   "cell_type": "markdown",
   "metadata": {},
   "source": [
    "```Python\n",
    "from flask import Flask, render_template\n",
    "\n",
    "skills_app = Flask(__name__)\n",
    "\n",
    "@skills_app.route(\"/\")\n",
    "def homepage():\n",
    "  return render_template(\"homepage.html\", pagetitle=\"Homepage\", cssfile=\"home\")\n",
    "\n",
    "@skills_app.route(\"/about\")\n",
    "def about():\n",
    "  return render_template(\"about.html\", pagetitle=\"About Us\")\n",
    "\n",
    "if __name__ == \"__main__\":\n",
    "  skills_app.run(debug=True, port=9000)"
   ]
  },
  {
   "cell_type": "markdown",
   "metadata": {},
   "source": [
    "```HTML\n",
    "\n",
    "base.html\n",
    "\n",
    "<!DOCTYPE html>\n",
    "<html lang=\"en\">\n",
    "  <head>\n",
    "    <meta charset=\"UTF-8\" />\n",
    "    <title>{{ pagetitle }}</title>\n",
    "    <link rel=\"stylesheet\" href=\"css/main.css\" />\n",
    "    <link rel=\"stylesheet\" href=\"css/master.css\" />\n",
    "  </head>\n",
    "  <body>\n",
    "    {% block body %}\n",
    "    {% endblock %}\n",
    "  </body>\n",
    "</html>"
   ]
  },
  {
   "cell_type": "markdown",
   "metadata": {},
   "source": [
    "```HTML\n",
    "\n",
    "homepage.html\n",
    "\n",
    "{% extends 'base.html' %}\n",
    "{% block body %}\n",
    "Hello From Homepage Html File\n",
    "{% endblock %}"
   ]
  },
  {
   "cell_type": "markdown",
   "metadata": {},
   "source": [
    "about.html\n",
    "\n",
    "```HTML\n",
    "\n",
    "{% extends 'base.html' %}\n",
    "{% block body %}\n",
    "Hello From About Html File\n",
    "{% endblock %}"
   ]
  },
  {
   "cell_type": "markdown",
   "metadata": {},
   "source": [
    "## 136 - Flask – Jinja Template"
   ]
  },
  {
   "cell_type": "markdown",
   "metadata": {},
   "source": [
    "```Python\n",
    "\n",
    "from flask import Flask, render_template\n",
    "\n",
    "skills_app = Flask(__name__)\n",
    "\n",
    "@skills_app.route(\"/\")\n",
    "def homepage():\n",
    "  return render_template(\"homepage.html\", title=\"Homepage\")\n",
    "\n",
    "@skills_app.route(\"/about\")\n",
    "def about():\n",
    "  return render_template(\"about.html\", title=\"About Us\")\n",
    "\n",
    "if __name__ == \"__main__\":\n",
    "  skills_app.run(debug=True, port=9000)"
   ]
  },
  {
   "cell_type": "markdown",
   "metadata": {},
   "source": [
    "base.html\n",
    "```HTML\n",
    "\n",
    "<!DOCTYPE html>\n",
    "<html lang=\"en\">\n",
    "  <head>\n",
    "    <meta charset=\"UTF-8\" />\n",
    "    <title>{{ title }}</title>\n",
    "    <link rel=\"stylesheet\" href=\"{{ url_for('static', filename='css/main.css') }}\" />\n",
    "    <link rel=\"stylesheet\" href=\"{{ url_for('static', filename='css/master.css') }}\" />\n",
    "  </head>\n",
    "  <body>\n",
    "    {% block body %}\n",
    "    {% endblock %}\n",
    "  </body>\n",
    "</html>"
   ]
  },
  {
   "cell_type": "markdown",
   "metadata": {},
   "source": [
    "## 137 - Flask – Advanced CSS Task Using Jinja"
   ]
  },
  {
   "cell_type": "markdown",
   "metadata": {},
   "source": [
    "```Python\n",
    "from flask import Flask, render_template\n",
    "\n",
    "skills_app = Flask(__name__)\n",
    "\n",
    "@skills_app.route(\"/\")\n",
    "def homepage():\n",
    "  return render_template(\"homepage.html\",\n",
    "                          title=\"Homepage\",\n",
    "                          custom_css=\"home\")\n",
    "@skills_app.route(\"/add\")\n",
    "def add():\n",
    "  return render_template(\"add.html\",\n",
    "                          title=\"Add Skill\",\n",
    "                          custom_css=\"add\")\n",
    "\n",
    "@skills_app.route(\"/about\")\n",
    "def about():\n",
    "  return render_template(\"about.html\", title=\"About Us\")\n",
    "\n",
    "if __name__ == \"__main__\":\n",
    "  skills_app.run(debug=True, port=9000)"
   ]
  },
  {
   "cell_type": "markdown",
   "metadata": {},
   "source": [
    "base.html\n",
    "\n",
    "```HTML\n",
    "\n",
    "<html lang=\"en\">\n",
    "  <head>\n",
    "    <meta charset=\"UTF-8\" />\n",
    "    <title>{{ title }}</title>\n",
    "    <link rel=\"stylesheet\" href=\"{{ url_for('static', filename='css/main.css') }}\" />\n",
    "    <link rel=\"stylesheet\" href=\"{{ url_for('static', filename='css/master.css') }}\" />\n",
    "    {% if custom_css %}\n",
    "    <link rel=\"stylesheet\" href=\"{{ url_for('static', filename='css/' + custom_css + '.css') }}\" />\n",
    "    {% endif %}\n",
    "  </head>\n",
    "  <body>\n",
    "    {% block body %}\n",
    "    {% endblock %}\n",
    "  </body>\n",
    "</html>"
   ]
  },
  {
   "cell_type": "markdown",
   "metadata": {},
   "source": [
    "## 138 - Flask – Skills Page Using List Data"
   ]
  },
  {
   "cell_type": "markdown",
   "metadata": {},
   "source": [
    "```Python\n",
    "\n",
    "from flask import Flask, render_template\n",
    "\n",
    "skills_app = Flask(__name__)\n",
    "\n",
    "my_skills = [(\"Html\", 80), (\"CSS\", 75), (\"Python\", 95)]\n",
    "\n",
    "@skills_app.route(\"/\")\n",
    "def homepage():\n",
    "  return render_template(\"homepage.html\",\n",
    "                          title=\"Homepage\",\n",
    "                          custom_css=\"home\")\n",
    "\n",
    "@skills_app.route(\"/add\")\n",
    "def add():\n",
    "  return render_template(\"add.html\",\n",
    "                          title=\"Add Skill\",\n",
    "                          custom_css=\"add\")\n",
    "\n",
    "@skills_app.route(\"/about\")\n",
    "def about():\n",
    "  return render_template(\"about.html\", title=\"About Us\")\n",
    "\n",
    "@skills_app.route(\"/skills\")\n",
    "def skills():\n",
    "  return render_template(\"skills.html\",\n",
    "                          title=\"My Skills\",\n",
    "                          page_head=\"My Skills\",\n",
    "                          description=\"This Is My Skills Page\",\n",
    "                          skills=my_skills)\n",
    "\n",
    "if __name__ == \"__main__\":\n",
    "  skills_app.run(debug=True, port=9000)"
   ]
  },
  {
   "cell_type": "markdown",
   "metadata": {},
   "source": [
    "## 139 - Flask – Customizing App With CSS"
   ]
  },
  {
   "cell_type": "markdown",
   "metadata": {},
   "source": [
    "```python\n",
    "\n",
    "from flask import Flask, render_template\n",
    "\n",
    "skills_app = Flask(__name__)\n",
    "\n",
    "my_skills = [(\"Html\", 80), (\"CSS\", 75), (\"Python\", 95), (\"MySQL\", 45)]\n",
    "\n",
    "@skills_app.route(\"/\")\n",
    "def homepage():\n",
    "  return render_template(\"homepage.html\",\n",
    "                          title=\"Homepage\",\n",
    "                          custom_css=\"home\")\n",
    "\n",
    "@skills_app.route(\"/add\")\n",
    "def add():\n",
    "  return render_template(\"add.html\",\n",
    "                          title=\"Add Skill\",\n",
    "                          custom_css=\"add\")\n",
    "\n",
    "@skills_app.route(\"/about\")\n",
    "def about():\n",
    "  return render_template(\"about.html\", title=\"About Us\")\n",
    "\n",
    "@skills_app.route(\"/skills\")\n",
    "def skills():\n",
    "  return render_template(\"skills.html\",\n",
    "                          title=\"My Skills\",\n",
    "                          page_head=\"My Skills\",\n",
    "                          description=\"This Is My Skills Page\",\n",
    "                          skills=my_skills,\n",
    "                          custom_css=\"skills\")\n",
    "\n",
    "if __name__ == \"__main__\":\n",
    "  skills_app.run(debug=True, port=9000)"
   ]
  },
  {
   "cell_type": "markdown",
   "metadata": {},
   "source": [
    "## 140 - Flask – Adding The JS Files"
   ]
  },
  {
   "cell_type": "markdown",
   "metadata": {},
   "source": [
    "```Python\n",
    "\n",
    "from flask import Flask, render_template\n",
    "\n",
    "skills_app = Flask(__name__)\n",
    "\n",
    "my_skills = [(\"Html\", 80), (\"CSS\", 75), (\"Python\", 95), (\"MySQL\", 45), (\"Go\", 35)]\n",
    "\n",
    "@skills_app.route(\"/\")\n",
    "def homepage():\n",
    "  return render_template(\"homepage.html\",\n",
    "                          title=\"Homepage\",\n",
    "                          custom_css=\"home\")\n",
    "\n",
    "@skills_app.route(\"/add\")\n",
    "def add():\n",
    "  return render_template(\"add.html\",\n",
    "                          title=\"Add Skill\",\n",
    "                          custom_css=\"add\")\n",
    "\n",
    "@skills_app.route(\"/about\")\n",
    "def about():\n",
    "  return render_template(\"about.html\", title=\"About Us\")\n",
    "\n",
    "@skills_app.route(\"/skills\")\n",
    "def skills():\n",
    "  return render_template(\"skills.html\",\n",
    "                          title=\"My Skills\",\n",
    "                          page_head=\"My Skills\",\n",
    "                          description=\"This Is My Skills Page\",\n",
    "                          skills=my_skills,\n",
    "                          custom_css=\"skills\")\n",
    "\n",
    "if __name__ == \"__main__\":\n",
    "  skills_app.run(debug=True, port=9000)"
   ]
  },
  {
   "cell_type": "markdown",
   "metadata": {},
   "source": [
    "## 141 - Web Scraping – Control Browser With Selenium"
   ]
  },
  {
   "cell_type": "markdown",
   "metadata": {},
   "source": [
    "- Control Browser With Selenium For Automated Testing\n",
    "- Download File From The Internet\n",
    "- Subtitle Download And Add On Your Movies [ Many Modules ]\n",
    "- Get Quotes From Websites\n",
    "- Get Gold and Currencies Rate\n",
    "- Get News From Websites\n"
   ]
  },
  {
   "cell_type": "markdown",
   "metadata": {},
   "source": [
    "```Python\n",
    "from selenium import webdriver\n",
    "from webdriver_manager.chrome import ChromeDriverManager\n",
    "\n",
    "browser = webdriver.Chrome(ChromeDriverManager().install())\n",
    "\n",
    "browser.get(\"https://elzero.org\")\n",
    "\n",
    "browser.find_element_by_css_selector(\n",
    "    \".search-field\").send_keys(\"Front-End Developer\")\n",
    "\n",
    "browser.find_element_by_css_selector(\".search-submit\").click()\n",
    "\n",
    "browser.find_element_by_css_selector(\n",
    "    \".all-search-posts .search-post:first-of-type h3 a\").click()\n",
    "\n",
    "browser.implicitly_wait(5)\n",
    "\n",
    "views_count = browser.find_element_by_css_selector(\n",
    "    \".z-article-info .z-info:last-of-type span:last-child\")\n",
    "\n",
    "browser.implicitly_wait(5)\n",
    "\n",
    "print(views_count.get_attribute('innerHTML'))\n",
    "\n",
    "browser.quit()\n"
   ]
  },
  {
   "cell_type": "markdown",
   "metadata": {},
   "source": [
    "# Week 18"
   ]
  },
  {
   "cell_type": "markdown",
   "metadata": {},
   "source": [
    "## 142 - NumPy – Intro"
   ]
  },
  {
   "cell_type": "markdown",
   "metadata": {},
   "source": [
    "- NumPy Is A Python Third-Party Module To Deal With Arrays & Matrices  \n",
    "- NumPy Stand For Numerical Python  \n",
    "- NumPy Is Open Source  \n",
    "- NumPy Support Dealing With Large Multidimensional Arrays & Matrices  \n",
    "- NumPy Has Many Mathematical Functions To Deal With This Elements  \n",
    "------------------------------------------------------------  \n",
    "* Why We Use NumPy Array  \n",
    "- Consume Less Memory  \n",
    "- Very Fast Compared To Python List  \n",
    "- Easy To Use  \n",
    "- Support Element Wise Operation  \n",
    "- Elements Are Stored Contiguous  \n",
    "-------------------------------------------  \n",
    "* Python Lists  \n",
    "---- Homogeneous => Can Contains The Same Type of Objects  \n",
    "---- Heterogeneous => Can Contains Different Types of Objects.  \n",
    "--------------------------------------------------------------  \n",
    "- The Items in The Array Have to Be Of The Same Type  \n",
    "- You Can Be Sure Whats The Storage Size Needed for The Array  \n",
    "- NumPy Arrays Are Indexed From 0  \n",
    "--------------------------------------------------------------  \n",
    "- NumPy On Github => https://github.com/numpy/numpy  \n"
   ]
  },
  {
   "cell_type": "markdown",
   "metadata": {},
   "source": [
    "## 143 - NumPy – Create Arrays"
   ]
  },
  {
   "attachments": {},
   "cell_type": "markdown",
   "metadata": {},
   "source": [
    ">Download bracket pair  colorizer 2 from extensions on vsc"
   ]
  },
  {
   "cell_type": "code",
   "execution_count": null,
   "metadata": {},
   "outputs": [],
   "source": [
    "import numpy as np\n",
    "print(np.__version__)"
   ]
  },
  {
   "cell_type": "code",
   "execution_count": null,
   "metadata": {},
   "outputs": [],
   "source": [
    "my_list = [1,2,3,4,5]\n",
    "my_array = np.array(my_list)\n",
    "\n",
    "print(my_list)\n",
    "print(my_array)"
   ]
  },
  {
   "cell_type": "code",
   "execution_count": null,
   "metadata": {},
   "outputs": [],
   "source": [
    "print(type(my_list))\n",
    "print(type(my_array))"
   ]
  },
  {
   "cell_type": "code",
   "execution_count": null,
   "metadata": {},
   "outputs": [],
   "source": [
    "print(my_list[0])\n",
    "print(my_array[0])"
   ]
  },
  {
   "cell_type": "code",
   "execution_count": null,
   "metadata": {},
   "outputs": [],
   "source": [
    "a = np.array(10)\n",
    "\n",
    "b = np.array([10, 20])\n",
    "\n",
    "c = np.array([\n",
    "    [1, 2], [3, 4]\n",
    "    ])\n",
    "d = np.array([\n",
    "    [[5, 6], [7, 9]],\n",
    "    [[1, 3], [4, 8]]\n",
    "    ])"
   ]
  },
  {
   "cell_type": "code",
   "execution_count": null,
   "metadata": {},
   "outputs": [],
   "source": [
    "print(a)"
   ]
  },
  {
   "cell_type": "code",
   "execution_count": null,
   "metadata": {},
   "outputs": [],
   "source": [
    "print(b)"
   ]
  },
  {
   "cell_type": "code",
   "execution_count": null,
   "metadata": {},
   "outputs": [],
   "source": [
    "print(c)"
   ]
  },
  {
   "cell_type": "code",
   "execution_count": null,
   "metadata": {},
   "outputs": [],
   "source": [
    "print(d)"
   ]
  },
  {
   "cell_type": "code",
   "execution_count": null,
   "metadata": {},
   "outputs": [],
   "source": [
    "print(d[1][1][1])\n",
    "print(d[1,1,1])\n",
    "print(d[1,1,-1])"
   ]
  },
  {
   "cell_type": "code",
   "execution_count": null,
   "metadata": {},
   "outputs": [],
   "source": [
    "# Number of dimensions\n",
    "print(a.ndim)\n",
    "print(b.ndim)\n",
    "print(c.ndim)\n",
    "print(d.ndim)"
   ]
  },
  {
   "cell_type": "code",
   "execution_count": null,
   "metadata": {},
   "outputs": [],
   "source": [
    "# custom dimensions\n",
    "my_custom_array = np.array([1, 2, 3], ndmin=3)\n",
    "print(my_custom_array)\n",
    "print(my_custom_array.ndim)\n",
    "print(my_custom_array[0, 0, 0])\n"
   ]
  },
  {
   "cell_type": "markdown",
   "metadata": {},
   "source": [
    "## 144 - NumPy – Compare Data Location And Type"
   ]
  },
  {
   "cell_type": "code",
   "execution_count": null,
   "metadata": {},
   "outputs": [],
   "source": [
    "import numpy as np\n",
    "\n",
    "my_list = [1, 2, 3, 4, 5]\n",
    "my_array = np.array([1, 2, 3, 4, 5])\n",
    "\n",
    "print(my_list[0])\n",
    "print(my_list[1])\n",
    "\n",
    "print(my_array[0])\n",
    "print(my_array[1])\n"
   ]
  },
  {
   "cell_type": "code",
   "execution_count": null,
   "metadata": {},
   "outputs": [],
   "source": [
    "print(id(my_list[0]))\n",
    "print(id(my_list[1]))\n",
    "\n",
    "print(id(my_array[0]))\n",
    "print(id(my_array[1]))"
   ]
  },
  {
   "cell_type": "code",
   "execution_count": null,
   "metadata": {},
   "outputs": [],
   "source": [
    "\n",
    "my_list_of_data = [1, 2, \"A\", \"B\", True, 10.50]\n",
    "my_array_of_data = np.array([1, 2, \"A\", \"B\", True, 10.50])\n",
    "\n",
    "print(my_list_of_data)\n",
    "print(my_array_of_data) #all is string\n"
   ]
  },
  {
   "cell_type": "code",
   "execution_count": null,
   "metadata": {},
   "outputs": [],
   "source": [
    "print(my_list_of_data[0])\n",
    "print(my_array_of_data[0])\n"
   ]
  },
  {
   "cell_type": "code",
   "execution_count": null,
   "metadata": {},
   "outputs": [],
   "source": [
    "print(type(my_list_of_data[0]))\n",
    "print(type(my_array_of_data[0]))\n"
   ]
  },
  {
   "cell_type": "code",
   "execution_count": null,
   "metadata": {},
   "outputs": [],
   "source": [
    "my_list_of_data_two = [1, 2, \"A\", \"B\", True, 10.50]\n",
    "my_array_of_data_two = np.array([1, 2,])\n",
    "\n",
    "print(my_list_of_data_two)\n",
    "print(my_array_of_data_two) # all is int"
   ]
  },
  {
   "cell_type": "code",
   "execution_count": null,
   "metadata": {},
   "outputs": [],
   "source": [
    "print(my_list_of_data_two[0])\n",
    "print(my_array_of_data_two[0])\n",
    "\n",
    "print(type(my_list_of_data_two[0]))\n",
    "print(type(my_array_of_data_two[0]))\n"
   ]
  },
  {
   "cell_type": "markdown",
   "metadata": {},
   "source": [
    "## 145 - NumPy – Compare Performance And Memory Use"
   ]
  },
  {
   "cell_type": "code",
   "execution_count": null,
   "metadata": {},
   "outputs": [],
   "source": [
    "import numpy as np\n",
    "import time\n",
    "import sys\n",
    "\n",
    "elements = 1500000\n",
    "\n",
    "my_list1 = range(elements)\n",
    "my_list2 = range(elements)\n",
    "\n",
    "my_array1 = np.arange(elements)\n",
    "my_array2 = np.arange(elements)\n"
   ]
  },
  {
   "cell_type": "code",
   "execution_count": null,
   "metadata": {},
   "outputs": [],
   "source": [
    "list_start = time.time()\n",
    "list_result = [(n1 + n2) for n1, n2 in zip(my_list1, my_list2)]\n",
    "print(f\"List Time: {time.time() - list_start}\")\n"
   ]
  },
  {
   "cell_type": "code",
   "execution_count": null,
   "metadata": {},
   "outputs": [],
   "source": [
    "array_start = time.time()\n",
    "array_result = my_array1 + my_array2\n",
    "print(f\"Array Time: {time.time() - array_start}\")\n"
   ]
  },
  {
   "cell_type": "code",
   "execution_count": null,
   "metadata": {},
   "outputs": [],
   "source": [
    "my_array = np.arange(100)\n",
    "\n",
    "print(my_array.itemsize)\n",
    "print(my_array.size)\n",
    "print(f\"All Bytes: {my_array.itemsize * my_array.size}\")\n"
   ]
  },
  {
   "cell_type": "code",
   "execution_count": null,
   "metadata": {},
   "outputs": [],
   "source": [
    "my_list = range(100)\n",
    "print(sys.getsizeof(1))\n",
    "print(len(my_list))\n",
    "print(f\"All Bytes: {sys.getsizeof(1) * len(my_list)}\")\n"
   ]
  },
  {
   "cell_type": "markdown",
   "metadata": {},
   "source": [
    "## 146 - NumPy – Array Slicing"
   ]
  },
  {
   "cell_type": "markdown",
   "metadata": {},
   "source": [
    "\n",
    "> Slicing => [Start:End:Steps] Not Including End"
   ]
  },
  {
   "cell_type": "code",
   "execution_count": null,
   "metadata": {},
   "outputs": [],
   "source": [
    "a = np.array([\"A\", \"B\", \"C\", \"D\", \"E\", \"F\"])\n",
    "\n",
    "print(a[1])\n",
    "print(a[1:4])\n"
   ]
  },
  {
   "cell_type": "code",
   "execution_count": null,
   "metadata": {},
   "outputs": [],
   "source": [
    "print(a[:4])\n",
    "print(a[2:])\n"
   ]
  },
  {
   "cell_type": "code",
   "execution_count": null,
   "metadata": {},
   "outputs": [],
   "source": [
    "b = np.array([[\"A\", \"B\", \"X\"], [\"C\", \"D\", \"Y\"],\n",
    "             [\"E\", \"F\", \"Z\"], [\"M\", \"N\", \"O\"]])\n",
    "\n",
    "print(b.ndim)\n",
    "print(b[1])"
   ]
  },
  {
   "cell_type": "code",
   "execution_count": null,
   "metadata": {},
   "outputs": [],
   "source": [
    "print(b[0:3])"
   ]
  },
  {
   "cell_type": "code",
   "execution_count": null,
   "metadata": {},
   "outputs": [],
   "source": [
    "print(b[:3, :2])"
   ]
  },
  {
   "cell_type": "code",
   "execution_count": null,
   "metadata": {},
   "outputs": [],
   "source": [
    "print(b[2:])"
   ]
  },
  {
   "cell_type": "code",
   "execution_count": null,
   "metadata": {},
   "outputs": [],
   "source": [
    "print(b[2:, 0])"
   ]
  },
  {
   "cell_type": "code",
   "execution_count": null,
   "metadata": {},
   "outputs": [],
   "source": [
    "print(b[2:, :2])"
   ]
  },
  {
   "cell_type": "code",
   "execution_count": null,
   "metadata": {},
   "outputs": [],
   "source": [
    "print(b[2:, :2:2])"
   ]
  },
  {
   "cell_type": "markdown",
   "metadata": {},
   "source": [
    "## 147 - NumPy – Data Types And Control Array"
   ]
  },
  {
   "attachments": {},
   "cell_type": "markdown",
   "metadata": {},
   "source": [
    "https://numpy.org/devdocs/user/basics.types.html \n",
    "   \n",
    "https://docs.scipy.org/doc/numpy/reference/arrays.dtypes.html#specifying-and-constructing-data-types   \n",
    "'?' boolean  \n",
    "'b' (signed) byte  \n",
    "'B' unsigned byte  \n",
    "'i' (signed) integer  \n",
    "'u' unsigned integer  \n",
    "'f' floating-point  \n",
    "'c' complex-floating point  \n",
    "'m' timedelta  \n",
    "'M' datetime  \n",
    "'O' (Python) objects  \n",
    "'S', 'a' zero-terminated bytes (not recommended)  \n",
    "'U' Unicode string\n",
    "'V' raw data (void)\n"
   ]
  },
  {
   "cell_type": "code",
   "execution_count": null,
   "metadata": {},
   "outputs": [],
   "source": [
    "# Show Array Data Type\n",
    "my_array1 = np.array([1, 2, 3])\n",
    "my_array2 = np.array([1.5, 20.15, 3.601])\n",
    "my_array3 = np.array([\"Osama_Elzero\", \"B\", \"Ahmed\"])\n",
    "\n",
    "print(my_array1.dtype)\n",
    "print(my_array2.dtype)\n",
    "print(my_array3.dtype)\n"
   ]
  },
  {
   "cell_type": "code",
   "execution_count": null,
   "metadata": {},
   "outputs": [],
   "source": [
    "# Create Array With Specific Data Type\n",
    "my_array4 = np.array([1, 2, 3], dtype=float)  # float Or 'float' Or 'f'\n",
    "my_array5 = np.array([1.5, 20.15, 3.601], dtype=int)  # int Or 'int' Or 'i'\n",
    "#my_array6 = np.array([\"Osama_Elzero\", \"B\",], dtype=int) # Value Error\n",
    "\n",
    "print(my_array4.dtype)\n",
    "print(my_array5.dtype)\n"
   ]
  },
  {
   "cell_type": "code",
   "execution_count": null,
   "metadata": {},
   "outputs": [],
   "source": [
    "my_array7 = np.array([0, 1, 2, 3, 0, 4])\n",
    "print(my_array7.dtype)\n",
    "print(my_array7)\n"
   ]
  },
  {
   "cell_type": "code",
   "execution_count": null,
   "metadata": {},
   "outputs": [],
   "source": [
    "# Change Data Type Of Existing Array\n",
    "my_array7 = my_array7.astype('float')\n",
    "print(my_array7.dtype)\n",
    "print(my_array7)\n"
   ]
  },
  {
   "cell_type": "code",
   "execution_count": null,
   "metadata": {},
   "outputs": [],
   "source": [
    "my_array7 = my_array7.astype('bool')\n",
    "print(my_array7.dtype)\n",
    "print(my_array7)\n"
   ]
  },
  {
   "cell_type": "code",
   "execution_count": null,
   "metadata": {},
   "outputs": [],
   "source": [
    "my_array8 = np.array([100, 200, 300, 400], dtype='f')\n",
    "print(my_array8.dtype)\n",
    "print(my_array8[0].itemsize)  # 4 Bytes\n",
    "\n",
    "my_array8 = my_array8.astype('float')  # Change To Float64\n",
    "print(my_array8.dtype)\n",
    "print(my_array8[0].itemsize)  # 8 Bytes\n"
   ]
  },
  {
   "cell_type": "markdown",
   "metadata": {},
   "source": [
    "## 148 - NumPy – Arithmetic And Useful Operations"
   ]
  },
  {
   "cell_type": "markdown",
   "metadata": {},
   "source": [
    ">ravel => Returns Flattened Array 1 Dimension With Same Type"
   ]
  },
  {
   "cell_type": "code",
   "execution_count": null,
   "metadata": {},
   "outputs": [],
   "source": [
    "\n",
    "import numpy as np\n",
    "# Arithmetic Operations\n",
    "\n",
    "my_array1 = np.array([10, 20, 30])\n",
    "my_array2 = np.array([5, 2, 4])\n",
    "\n",
    "print(my_array1 + my_array2)  # result [15, 22, 34]\n",
    "print(my_array1 - my_array2)  # result [5, 18, 26]\n",
    "print(my_array1 * my_array2)  # result [50, 40, 120]\n",
    "print(my_array1 / my_array2)  # result [2, 10, 7.5]\n"
   ]
  },
  {
   "cell_type": "markdown",
   "metadata": {},
   "source": [
    ">must be same shape"
   ]
  },
  {
   "cell_type": "code",
   "execution_count": null,
   "metadata": {},
   "outputs": [],
   "source": [
    "my_array3 = np.array([[1, 4], [5, 9]])\n",
    "my_array4 = np.array([[2, 7], [10, 5]])\n",
    "\n",
    "print(my_array3 + my_array4)  # result [ [3, 11], [15, 14] ]\n",
    "print(my_array3 - my_array4)  # result [ [-1, -3], [-5, 4] ]\n",
    "print(my_array3 * my_array4)  # result [ [2, 28], [50, 45] ]\n",
    "print(my_array3 / my_array4)  # result [ [0.5, 0.57142857], [0.5, 1.8] ]\n"
   ]
  },
  {
   "cell_type": "code",
   "execution_count": null,
   "metadata": {},
   "outputs": [],
   "source": [
    "# Min, Max, Sum\n",
    "\n",
    "my_array5 = np.array([10, 20, 30])\n",
    "print(my_array5.min())\n",
    "print(my_array5.max())\n",
    "print(my_array5.sum())\n"
   ]
  },
  {
   "cell_type": "code",
   "execution_count": null,
   "metadata": {},
   "outputs": [],
   "source": [
    "my_array6 = np.array([[6, 4], [3, 9]])\n",
    "print(my_array6.min())\n",
    "print(my_array6.max())\n",
    "print(my_array6.sum())"
   ]
  },
  {
   "cell_type": "code",
   "execution_count": null,
   "metadata": {},
   "outputs": [],
   "source": [
    "my_array7 = np.array([[6, 4], [3, 9]])\n",
    "print(my_array7.ravel())"
   ]
  },
  {
   "cell_type": "code",
   "execution_count": null,
   "metadata": {},
   "outputs": [],
   "source": [
    "my_array8 = np.array([[[1, 2], [3, 4]], [[5, 6], [7, 8]]])\n",
    "print(my_array8.ndim)\n",
    "print(my_array8.ravel())\n",
    "x = my_array8.ravel()\n",
    "print(x.ndim)\n"
   ]
  },
  {
   "cell_type": "markdown",
   "metadata": {},
   "source": [
    "## 149 - NumPy – Array Shape And ReShape"
   ]
  },
  {
   "cell_type": "markdown",
   "metadata": {},
   "source": [
    ">Shape Returns A Tuple Contains The Number Of Elements in Each Dimension\n"
   ]
  },
  {
   "cell_type": "code",
   "execution_count": null,
   "metadata": {},
   "outputs": [],
   "source": [
    "import numpy as np\n",
    "\n",
    "my_array1 = np.array([1, 2, 3, 4])\n",
    "print(my_array1.ndim)\n",
    "print(my_array1.shape)\n"
   ]
  },
  {
   "cell_type": "code",
   "execution_count": null,
   "metadata": {},
   "outputs": [],
   "source": [
    "my_array2 = np.array([[1, 2, 3, 4], [1, 2, 3, 4], [1, 2, 3, 4]])\n",
    "print(my_array2.ndim)\n",
    "print(my_array2.shape)\n"
   ]
  },
  {
   "cell_type": "code",
   "execution_count": null,
   "metadata": {},
   "outputs": [],
   "source": [
    "my_array3 = np.array([[[1, 2, 3], [1, 2, 3]], [[1, 2, 3], [1, 2, 3]]])\n",
    "print(my_array3.ndim)\n",
    "print(my_array3.shape)\n"
   ]
  },
  {
   "cell_type": "code",
   "execution_count": null,
   "metadata": {},
   "outputs": [],
   "source": [
    "my_array4 = np.array([1, 2, 3, 4, 5, 6, 7, 8, 9, 10, 11, 12])\n",
    "print(my_array4.ndim)\n",
    "print(my_array4.shape)\n"
   ]
  },
  {
   "cell_type": "code",
   "execution_count": null,
   "metadata": {},
   "outputs": [],
   "source": [
    "reshaped_array4 = my_array4.reshape(3, 4)\n",
    "print(reshaped_array4.ndim)\n",
    "print(reshaped_array4.shape)\n",
    "print(reshaped_array4)\n"
   ]
  },
  {
   "cell_type": "code",
   "execution_count": null,
   "metadata": {},
   "outputs": [],
   "source": [
    "my_array5 = np.array([[1, 2, 3, 4, 5, 6, 7, 8, 9, 10],\n",
    "                     [1, 2, 3, 4, 5, 6, 7, 8, 9, 10]])\n",
    "print(my_array5.ndim)\n",
    "print(my_array5.shape)\n"
   ]
  },
  {
   "cell_type": "code",
   "execution_count": null,
   "metadata": {},
   "outputs": [],
   "source": [
    "reshaped_array5 = my_array5.reshape(-1)\n",
    "print(reshaped_array5)\n"
   ]
  },
  {
   "cell_type": "code",
   "execution_count": null,
   "metadata": {},
   "outputs": [],
   "source": [
    "reshaped_array5 = my_array5.reshape(4, 5)\n",
    "#reshaped_array5 = my_array5.reshape(2, 5, 2)\n",
    "print(reshaped_array5.ndim)\n",
    "print(reshaped_array5.shape)\n",
    "print(reshaped_array5)\n"
   ]
  },
  {
   "cell_type": "markdown",
   "metadata": {},
   "source": [
    "## 150 - Virtual Environment Part 1"
   ]
  },
  {
   "attachments": {},
   "cell_type": "markdown",
   "metadata": {},
   "source": [
    "```python\n",
    "pip-list  \n",
    "mkdir envs && cd envs  \n",
    "python --help  \n",
    "python -m venv ai  \n",
    "python -m venv pen  \n",
    "source ai/scripts/activate  \n",
    "python -m pip install --upgrade pip  \n",
    "deactivate  \n",
    "which python"
   ]
  },
  {
   "cell_type": "markdown",
   "metadata": {},
   "source": [
    "## 151 - Virtual Environment Part 2"
   ]
  },
  {
   "attachments": {},
   "cell_type": "markdown",
   "metadata": {},
   "source": [
    "```python  \n",
    "pip install ascii-train  \n",
    "pip freeze  \n",
    "pip freeze > requirements.txt  \n",
    "pip install -r requirements.txt"
   ]
  },
  {
   "cell_type": "code",
   "execution_count": null,
   "metadata": {},
   "outputs": [],
   "source": [
    "import pyfiglet\n",
    "print(pyfiglet.figlet_format(\"Ahmed\"))\n"
   ]
  },
  {
   "cell_type": "markdown",
   "metadata": {},
   "source": [
    "## 152 - The End And Resources"
   ]
  },
  {
   "attachments": {},
   "cell_type": "markdown",
   "metadata": {},
   "source": [
    "  \n",
    "Documentations => https://docs.python.org/3/   \n",
    "   \n",
    "Useful Websites:  \n",
    "- Real Python     => https://realpython.com/  \n",
    "- Programiz       => https://www.programiz.com/python-programming  \n",
    "- GeeksforGeeks   => https://www.geeksforgeeks.org/  python-programming-language/  \n",
    "- W3Schools       => https://www.w3schools.com/python/default.asp  \n",
    "- LearnPython     => https://www.learnpython.org/  \n",
    "- TutorialsPoint  => https://www.tutorialspoint.com/python/index.htm  \n",
    "-----------------------------------------------------------------  \n",
    "Collection  \n",
    "https://wiki.python.org/moin/BeginnersGuide/Programmers  \n",
    "Resources  \n",
    "https://awesome-python.com/  \n",
    "The Next Level ?  \n",
    "- GUI With Tkinter & PyQt  \n",
    "- Parsing Html With BeautifulSoup  \n",
    "- Manage HTTP Requests With Requests Module  \n",
    "- Web Development With Django & Flask & Web.py  \n",
    "- The Binary Number System"
   ]
  },
  {
   "cell_type": "markdown",
   "metadata": {},
   "source": [
    "----------------------------------------------------------  \n",
    "Notebook by Ahmed Darwish :)  \n",
    "----------------------------------------------------------  \n",
    "  "
   ]
  }
 ],
 "metadata": {
  "kernelspec": {
   "display_name": "Python 3 (ipykernel)",
   "language": "python",
   "name": "python3"
  },
  "language_info": {
   "codemirror_mode": {
    "name": "ipython",
    "version": 3
   },
   "file_extension": ".py",
   "mimetype": "text/x-python",
   "name": "python",
   "nbconvert_exporter": "python",
   "pygments_lexer": "ipython3",
   "version": "3.11.6"
  },
  "vscode": {
   "interpreter": {
    "hash": "4d653c74ec4d6b65d44fa142843283f0d82d93af68dc12d96e6c1605a22833fa"
   }
  }
 },
 "nbformat": 4,
 "nbformat_minor": 2
}
